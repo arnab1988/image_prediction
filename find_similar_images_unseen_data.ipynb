{
  "nbformat": 4,
  "nbformat_minor": 0,
  "metadata": {
    "colab": {
      "provenance": [],
      "gpuType": "T4"
    },
    "kernelspec": {
      "name": "python3",
      "display_name": "Python 3"
    },
    "language_info": {
      "name": "python"
    },
    "accelerator": "GPU",
    "widgets": {
      "application/vnd.jupyter.widget-state+json": {
        "23b12dd6cdac40c8ab81c1150bb2a73c": {
          "model_module": "@jupyter-widgets/controls",
          "model_name": "HBoxModel",
          "model_module_version": "1.5.0",
          "state": {
            "_dom_classes": [],
            "_model_module": "@jupyter-widgets/controls",
            "_model_module_version": "1.5.0",
            "_model_name": "HBoxModel",
            "_view_count": null,
            "_view_module": "@jupyter-widgets/controls",
            "_view_module_version": "1.5.0",
            "_view_name": "HBoxView",
            "box_style": "",
            "children": [
              "IPY_MODEL_180417692d2a4f43a491ad56022c3fbe",
              "IPY_MODEL_abe6d1b04fef46a49c99a43741562d57",
              "IPY_MODEL_67a1fc03ea2f4fffa42efcf4ede1b445"
            ],
            "layout": "IPY_MODEL_315b21cd7d3f40629d50f5c19b1ea60f"
          }
        },
        "180417692d2a4f43a491ad56022c3fbe": {
          "model_module": "@jupyter-widgets/controls",
          "model_name": "HTMLModel",
          "model_module_version": "1.5.0",
          "state": {
            "_dom_classes": [],
            "_model_module": "@jupyter-widgets/controls",
            "_model_module_version": "1.5.0",
            "_model_name": "HTMLModel",
            "_view_count": null,
            "_view_module": "@jupyter-widgets/controls",
            "_view_module_version": "1.5.0",
            "_view_name": "HTMLView",
            "description": "",
            "description_tooltip": null,
            "layout": "IPY_MODEL_6780f0ae60314727bd2756324c18302b",
            "placeholder": "​",
            "style": "IPY_MODEL_e99b5ff04f1248e584c464cafc172d97",
            "value": "Downloading (…)lve/main/config.json: 100%"
          }
        },
        "abe6d1b04fef46a49c99a43741562d57": {
          "model_module": "@jupyter-widgets/controls",
          "model_name": "FloatProgressModel",
          "model_module_version": "1.5.0",
          "state": {
            "_dom_classes": [],
            "_model_module": "@jupyter-widgets/controls",
            "_model_module_version": "1.5.0",
            "_model_name": "FloatProgressModel",
            "_view_count": null,
            "_view_module": "@jupyter-widgets/controls",
            "_view_module_version": "1.5.0",
            "_view_name": "ProgressView",
            "bar_style": "success",
            "description": "",
            "description_tooltip": null,
            "layout": "IPY_MODEL_e7c1f96e67684a26a25cf1c01a94566b",
            "max": 1014,
            "min": 0,
            "orientation": "horizontal",
            "style": "IPY_MODEL_ceca1b01c5f344aea6bd23de18609fc1",
            "value": 1014
          }
        },
        "67a1fc03ea2f4fffa42efcf4ede1b445": {
          "model_module": "@jupyter-widgets/controls",
          "model_name": "HTMLModel",
          "model_module_version": "1.5.0",
          "state": {
            "_dom_classes": [],
            "_model_module": "@jupyter-widgets/controls",
            "_model_module_version": "1.5.0",
            "_model_name": "HTMLModel",
            "_view_count": null,
            "_view_module": "@jupyter-widgets/controls",
            "_view_module_version": "1.5.0",
            "_view_name": "HTMLView",
            "description": "",
            "description_tooltip": null,
            "layout": "IPY_MODEL_063bfbdbf2ad40d4a57c3c149d93516d",
            "placeholder": "​",
            "style": "IPY_MODEL_eebc6d96dfa64f7784f5d48718b42d53",
            "value": " 1.01k/1.01k [00:00&lt;00:00, 39.2kB/s]"
          }
        },
        "315b21cd7d3f40629d50f5c19b1ea60f": {
          "model_module": "@jupyter-widgets/base",
          "model_name": "LayoutModel",
          "model_module_version": "1.2.0",
          "state": {
            "_model_module": "@jupyter-widgets/base",
            "_model_module_version": "1.2.0",
            "_model_name": "LayoutModel",
            "_view_count": null,
            "_view_module": "@jupyter-widgets/base",
            "_view_module_version": "1.2.0",
            "_view_name": "LayoutView",
            "align_content": null,
            "align_items": null,
            "align_self": null,
            "border": null,
            "bottom": null,
            "display": null,
            "flex": null,
            "flex_flow": null,
            "grid_area": null,
            "grid_auto_columns": null,
            "grid_auto_flow": null,
            "grid_auto_rows": null,
            "grid_column": null,
            "grid_gap": null,
            "grid_row": null,
            "grid_template_areas": null,
            "grid_template_columns": null,
            "grid_template_rows": null,
            "height": null,
            "justify_content": null,
            "justify_items": null,
            "left": null,
            "margin": null,
            "max_height": null,
            "max_width": null,
            "min_height": null,
            "min_width": null,
            "object_fit": null,
            "object_position": null,
            "order": null,
            "overflow": null,
            "overflow_x": null,
            "overflow_y": null,
            "padding": null,
            "right": null,
            "top": null,
            "visibility": null,
            "width": null
          }
        },
        "6780f0ae60314727bd2756324c18302b": {
          "model_module": "@jupyter-widgets/base",
          "model_name": "LayoutModel",
          "model_module_version": "1.2.0",
          "state": {
            "_model_module": "@jupyter-widgets/base",
            "_model_module_version": "1.2.0",
            "_model_name": "LayoutModel",
            "_view_count": null,
            "_view_module": "@jupyter-widgets/base",
            "_view_module_version": "1.2.0",
            "_view_name": "LayoutView",
            "align_content": null,
            "align_items": null,
            "align_self": null,
            "border": null,
            "bottom": null,
            "display": null,
            "flex": null,
            "flex_flow": null,
            "grid_area": null,
            "grid_auto_columns": null,
            "grid_auto_flow": null,
            "grid_auto_rows": null,
            "grid_column": null,
            "grid_gap": null,
            "grid_row": null,
            "grid_template_areas": null,
            "grid_template_columns": null,
            "grid_template_rows": null,
            "height": null,
            "justify_content": null,
            "justify_items": null,
            "left": null,
            "margin": null,
            "max_height": null,
            "max_width": null,
            "min_height": null,
            "min_width": null,
            "object_fit": null,
            "object_position": null,
            "order": null,
            "overflow": null,
            "overflow_x": null,
            "overflow_y": null,
            "padding": null,
            "right": null,
            "top": null,
            "visibility": null,
            "width": null
          }
        },
        "e99b5ff04f1248e584c464cafc172d97": {
          "model_module": "@jupyter-widgets/controls",
          "model_name": "DescriptionStyleModel",
          "model_module_version": "1.5.0",
          "state": {
            "_model_module": "@jupyter-widgets/controls",
            "_model_module_version": "1.5.0",
            "_model_name": "DescriptionStyleModel",
            "_view_count": null,
            "_view_module": "@jupyter-widgets/base",
            "_view_module_version": "1.2.0",
            "_view_name": "StyleView",
            "description_width": ""
          }
        },
        "e7c1f96e67684a26a25cf1c01a94566b": {
          "model_module": "@jupyter-widgets/base",
          "model_name": "LayoutModel",
          "model_module_version": "1.2.0",
          "state": {
            "_model_module": "@jupyter-widgets/base",
            "_model_module_version": "1.2.0",
            "_model_name": "LayoutModel",
            "_view_count": null,
            "_view_module": "@jupyter-widgets/base",
            "_view_module_version": "1.2.0",
            "_view_name": "LayoutView",
            "align_content": null,
            "align_items": null,
            "align_self": null,
            "border": null,
            "bottom": null,
            "display": null,
            "flex": null,
            "flex_flow": null,
            "grid_area": null,
            "grid_auto_columns": null,
            "grid_auto_flow": null,
            "grid_auto_rows": null,
            "grid_column": null,
            "grid_gap": null,
            "grid_row": null,
            "grid_template_areas": null,
            "grid_template_columns": null,
            "grid_template_rows": null,
            "height": null,
            "justify_content": null,
            "justify_items": null,
            "left": null,
            "margin": null,
            "max_height": null,
            "max_width": null,
            "min_height": null,
            "min_width": null,
            "object_fit": null,
            "object_position": null,
            "order": null,
            "overflow": null,
            "overflow_x": null,
            "overflow_y": null,
            "padding": null,
            "right": null,
            "top": null,
            "visibility": null,
            "width": null
          }
        },
        "ceca1b01c5f344aea6bd23de18609fc1": {
          "model_module": "@jupyter-widgets/controls",
          "model_name": "ProgressStyleModel",
          "model_module_version": "1.5.0",
          "state": {
            "_model_module": "@jupyter-widgets/controls",
            "_model_module_version": "1.5.0",
            "_model_name": "ProgressStyleModel",
            "_view_count": null,
            "_view_module": "@jupyter-widgets/base",
            "_view_module_version": "1.2.0",
            "_view_name": "StyleView",
            "bar_color": null,
            "description_width": ""
          }
        },
        "063bfbdbf2ad40d4a57c3c149d93516d": {
          "model_module": "@jupyter-widgets/base",
          "model_name": "LayoutModel",
          "model_module_version": "1.2.0",
          "state": {
            "_model_module": "@jupyter-widgets/base",
            "_model_module_version": "1.2.0",
            "_model_name": "LayoutModel",
            "_view_count": null,
            "_view_module": "@jupyter-widgets/base",
            "_view_module_version": "1.2.0",
            "_view_name": "LayoutView",
            "align_content": null,
            "align_items": null,
            "align_self": null,
            "border": null,
            "bottom": null,
            "display": null,
            "flex": null,
            "flex_flow": null,
            "grid_area": null,
            "grid_auto_columns": null,
            "grid_auto_flow": null,
            "grid_auto_rows": null,
            "grid_column": null,
            "grid_gap": null,
            "grid_row": null,
            "grid_template_areas": null,
            "grid_template_columns": null,
            "grid_template_rows": null,
            "height": null,
            "justify_content": null,
            "justify_items": null,
            "left": null,
            "margin": null,
            "max_height": null,
            "max_width": null,
            "min_height": null,
            "min_width": null,
            "object_fit": null,
            "object_position": null,
            "order": null,
            "overflow": null,
            "overflow_x": null,
            "overflow_y": null,
            "padding": null,
            "right": null,
            "top": null,
            "visibility": null,
            "width": null
          }
        },
        "eebc6d96dfa64f7784f5d48718b42d53": {
          "model_module": "@jupyter-widgets/controls",
          "model_name": "DescriptionStyleModel",
          "model_module_version": "1.5.0",
          "state": {
            "_model_module": "@jupyter-widgets/controls",
            "_model_module_version": "1.5.0",
            "_model_name": "DescriptionStyleModel",
            "_view_count": null,
            "_view_module": "@jupyter-widgets/base",
            "_view_module_version": "1.2.0",
            "_view_name": "StyleView",
            "description_width": ""
          }
        },
        "cd68f816138f4f01b5291e923cb48356": {
          "model_module": "@jupyter-widgets/controls",
          "model_name": "HBoxModel",
          "model_module_version": "1.5.0",
          "state": {
            "_dom_classes": [],
            "_model_module": "@jupyter-widgets/controls",
            "_model_module_version": "1.5.0",
            "_model_name": "HBoxModel",
            "_view_count": null,
            "_view_module": "@jupyter-widgets/controls",
            "_view_module_version": "1.5.0",
            "_view_name": "HBoxView",
            "box_style": "",
            "children": [
              "IPY_MODEL_21fb3dafbbb44726b44b4f138ae63967",
              "IPY_MODEL_1add12e51c094d3687068100e88d7832",
              "IPY_MODEL_647d97cafdaa4d778e078e973e95a612"
            ],
            "layout": "IPY_MODEL_eafbe9101c0340c5812e1e662d2dae32"
          }
        },
        "21fb3dafbbb44726b44b4f138ae63967": {
          "model_module": "@jupyter-widgets/controls",
          "model_name": "HTMLModel",
          "model_module_version": "1.5.0",
          "state": {
            "_dom_classes": [],
            "_model_module": "@jupyter-widgets/controls",
            "_model_module_version": "1.5.0",
            "_model_name": "HTMLModel",
            "_view_count": null,
            "_view_module": "@jupyter-widgets/controls",
            "_view_module_version": "1.5.0",
            "_view_name": "HTMLView",
            "description": "",
            "description_tooltip": null,
            "layout": "IPY_MODEL_a01ca6bfb7464f16955f06deef6d0550",
            "placeholder": "​",
            "style": "IPY_MODEL_a2d854542aa842a8b6b4f91b7cdf136f",
            "value": "Downloading pytorch_model.bin: 100%"
          }
        },
        "1add12e51c094d3687068100e88d7832": {
          "model_module": "@jupyter-widgets/controls",
          "model_name": "FloatProgressModel",
          "model_module_version": "1.5.0",
          "state": {
            "_dom_classes": [],
            "_model_module": "@jupyter-widgets/controls",
            "_model_module_version": "1.5.0",
            "_model_name": "FloatProgressModel",
            "_view_count": null,
            "_view_module": "@jupyter-widgets/controls",
            "_view_module_version": "1.5.0",
            "_view_name": "ProgressView",
            "bar_style": "success",
            "description": "",
            "description_tooltip": null,
            "layout": "IPY_MODEL_a46a974c03384b25a65862aca576a899",
            "max": 444780374,
            "min": 0,
            "orientation": "horizontal",
            "style": "IPY_MODEL_2af15717c3a941dba0bc841fbb953de2",
            "value": 444780374
          }
        },
        "647d97cafdaa4d778e078e973e95a612": {
          "model_module": "@jupyter-widgets/controls",
          "model_name": "HTMLModel",
          "model_module_version": "1.5.0",
          "state": {
            "_dom_classes": [],
            "_model_module": "@jupyter-widgets/controls",
            "_model_module_version": "1.5.0",
            "_model_name": "HTMLModel",
            "_view_count": null,
            "_view_module": "@jupyter-widgets/controls",
            "_view_module_version": "1.5.0",
            "_view_name": "HTMLView",
            "description": "",
            "description_tooltip": null,
            "layout": "IPY_MODEL_bf65d311377642e7b7cfbf3495aa25eb",
            "placeholder": "​",
            "style": "IPY_MODEL_b02ff7bf00f841b8a856723979c8082e",
            "value": " 445M/445M [00:03&lt;00:00, 94.8MB/s]"
          }
        },
        "eafbe9101c0340c5812e1e662d2dae32": {
          "model_module": "@jupyter-widgets/base",
          "model_name": "LayoutModel",
          "model_module_version": "1.2.0",
          "state": {
            "_model_module": "@jupyter-widgets/base",
            "_model_module_version": "1.2.0",
            "_model_name": "LayoutModel",
            "_view_count": null,
            "_view_module": "@jupyter-widgets/base",
            "_view_module_version": "1.2.0",
            "_view_name": "LayoutView",
            "align_content": null,
            "align_items": null,
            "align_self": null,
            "border": null,
            "bottom": null,
            "display": null,
            "flex": null,
            "flex_flow": null,
            "grid_area": null,
            "grid_auto_columns": null,
            "grid_auto_flow": null,
            "grid_auto_rows": null,
            "grid_column": null,
            "grid_gap": null,
            "grid_row": null,
            "grid_template_areas": null,
            "grid_template_columns": null,
            "grid_template_rows": null,
            "height": null,
            "justify_content": null,
            "justify_items": null,
            "left": null,
            "margin": null,
            "max_height": null,
            "max_width": null,
            "min_height": null,
            "min_width": null,
            "object_fit": null,
            "object_position": null,
            "order": null,
            "overflow": null,
            "overflow_x": null,
            "overflow_y": null,
            "padding": null,
            "right": null,
            "top": null,
            "visibility": null,
            "width": null
          }
        },
        "a01ca6bfb7464f16955f06deef6d0550": {
          "model_module": "@jupyter-widgets/base",
          "model_name": "LayoutModel",
          "model_module_version": "1.2.0",
          "state": {
            "_model_module": "@jupyter-widgets/base",
            "_model_module_version": "1.2.0",
            "_model_name": "LayoutModel",
            "_view_count": null,
            "_view_module": "@jupyter-widgets/base",
            "_view_module_version": "1.2.0",
            "_view_name": "LayoutView",
            "align_content": null,
            "align_items": null,
            "align_self": null,
            "border": null,
            "bottom": null,
            "display": null,
            "flex": null,
            "flex_flow": null,
            "grid_area": null,
            "grid_auto_columns": null,
            "grid_auto_flow": null,
            "grid_auto_rows": null,
            "grid_column": null,
            "grid_gap": null,
            "grid_row": null,
            "grid_template_areas": null,
            "grid_template_columns": null,
            "grid_template_rows": null,
            "height": null,
            "justify_content": null,
            "justify_items": null,
            "left": null,
            "margin": null,
            "max_height": null,
            "max_width": null,
            "min_height": null,
            "min_width": null,
            "object_fit": null,
            "object_position": null,
            "order": null,
            "overflow": null,
            "overflow_x": null,
            "overflow_y": null,
            "padding": null,
            "right": null,
            "top": null,
            "visibility": null,
            "width": null
          }
        },
        "a2d854542aa842a8b6b4f91b7cdf136f": {
          "model_module": "@jupyter-widgets/controls",
          "model_name": "DescriptionStyleModel",
          "model_module_version": "1.5.0",
          "state": {
            "_model_module": "@jupyter-widgets/controls",
            "_model_module_version": "1.5.0",
            "_model_name": "DescriptionStyleModel",
            "_view_count": null,
            "_view_module": "@jupyter-widgets/base",
            "_view_module_version": "1.2.0",
            "_view_name": "StyleView",
            "description_width": ""
          }
        },
        "a46a974c03384b25a65862aca576a899": {
          "model_module": "@jupyter-widgets/base",
          "model_name": "LayoutModel",
          "model_module_version": "1.2.0",
          "state": {
            "_model_module": "@jupyter-widgets/base",
            "_model_module_version": "1.2.0",
            "_model_name": "LayoutModel",
            "_view_count": null,
            "_view_module": "@jupyter-widgets/base",
            "_view_module_version": "1.2.0",
            "_view_name": "LayoutView",
            "align_content": null,
            "align_items": null,
            "align_self": null,
            "border": null,
            "bottom": null,
            "display": null,
            "flex": null,
            "flex_flow": null,
            "grid_area": null,
            "grid_auto_columns": null,
            "grid_auto_flow": null,
            "grid_auto_rows": null,
            "grid_column": null,
            "grid_gap": null,
            "grid_row": null,
            "grid_template_areas": null,
            "grid_template_columns": null,
            "grid_template_rows": null,
            "height": null,
            "justify_content": null,
            "justify_items": null,
            "left": null,
            "margin": null,
            "max_height": null,
            "max_width": null,
            "min_height": null,
            "min_width": null,
            "object_fit": null,
            "object_position": null,
            "order": null,
            "overflow": null,
            "overflow_x": null,
            "overflow_y": null,
            "padding": null,
            "right": null,
            "top": null,
            "visibility": null,
            "width": null
          }
        },
        "2af15717c3a941dba0bc841fbb953de2": {
          "model_module": "@jupyter-widgets/controls",
          "model_name": "ProgressStyleModel",
          "model_module_version": "1.5.0",
          "state": {
            "_model_module": "@jupyter-widgets/controls",
            "_model_module_version": "1.5.0",
            "_model_name": "ProgressStyleModel",
            "_view_count": null,
            "_view_module": "@jupyter-widgets/base",
            "_view_module_version": "1.2.0",
            "_view_name": "StyleView",
            "bar_color": null,
            "description_width": ""
          }
        },
        "bf65d311377642e7b7cfbf3495aa25eb": {
          "model_module": "@jupyter-widgets/base",
          "model_name": "LayoutModel",
          "model_module_version": "1.2.0",
          "state": {
            "_model_module": "@jupyter-widgets/base",
            "_model_module_version": "1.2.0",
            "_model_name": "LayoutModel",
            "_view_count": null,
            "_view_module": "@jupyter-widgets/base",
            "_view_module_version": "1.2.0",
            "_view_name": "LayoutView",
            "align_content": null,
            "align_items": null,
            "align_self": null,
            "border": null,
            "bottom": null,
            "display": null,
            "flex": null,
            "flex_flow": null,
            "grid_area": null,
            "grid_auto_columns": null,
            "grid_auto_flow": null,
            "grid_auto_rows": null,
            "grid_column": null,
            "grid_gap": null,
            "grid_row": null,
            "grid_template_areas": null,
            "grid_template_columns": null,
            "grid_template_rows": null,
            "height": null,
            "justify_content": null,
            "justify_items": null,
            "left": null,
            "margin": null,
            "max_height": null,
            "max_width": null,
            "min_height": null,
            "min_width": null,
            "object_fit": null,
            "object_position": null,
            "order": null,
            "overflow": null,
            "overflow_x": null,
            "overflow_y": null,
            "padding": null,
            "right": null,
            "top": null,
            "visibility": null,
            "width": null
          }
        },
        "b02ff7bf00f841b8a856723979c8082e": {
          "model_module": "@jupyter-widgets/controls",
          "model_name": "DescriptionStyleModel",
          "model_module_version": "1.5.0",
          "state": {
            "_model_module": "@jupyter-widgets/controls",
            "_model_module_version": "1.5.0",
            "_model_name": "DescriptionStyleModel",
            "_view_count": null,
            "_view_module": "@jupyter-widgets/base",
            "_view_module_version": "1.2.0",
            "_view_name": "StyleView",
            "description_width": ""
          }
        },
        "6436a0d00aec49fa8eda8fa41c00e42c": {
          "model_module": "@jupyter-widgets/controls",
          "model_name": "HBoxModel",
          "model_module_version": "1.5.0",
          "state": {
            "_dom_classes": [],
            "_model_module": "@jupyter-widgets/controls",
            "_model_module_version": "1.5.0",
            "_model_name": "HBoxModel",
            "_view_count": null,
            "_view_module": "@jupyter-widgets/controls",
            "_view_module_version": "1.5.0",
            "_view_name": "HBoxView",
            "box_style": "",
            "children": [
              "IPY_MODEL_fbd32f0a889e48728b1e78a8de65e010",
              "IPY_MODEL_70aec842fe6149b5b0eb87ddebee6a5c",
              "IPY_MODEL_e1ec36b385ea4a17aa3b84e59a6a89f6"
            ],
            "layout": "IPY_MODEL_4ac176778cf84c43884d0390e997dbe5"
          }
        },
        "fbd32f0a889e48728b1e78a8de65e010": {
          "model_module": "@jupyter-widgets/controls",
          "model_name": "HTMLModel",
          "model_module_version": "1.5.0",
          "state": {
            "_dom_classes": [],
            "_model_module": "@jupyter-widgets/controls",
            "_model_module_version": "1.5.0",
            "_model_name": "HTMLModel",
            "_view_count": null,
            "_view_module": "@jupyter-widgets/controls",
            "_view_module_version": "1.5.0",
            "_view_name": "HTMLView",
            "description": "",
            "description_tooltip": null,
            "layout": "IPY_MODEL_1071c2c58bdf4ad98789cf3842c12741",
            "placeholder": "​",
            "style": "IPY_MODEL_666b141936c449ff9d88611ec3e13d35",
            "value": "Downloading (…)okenizer_config.json: 100%"
          }
        },
        "70aec842fe6149b5b0eb87ddebee6a5c": {
          "model_module": "@jupyter-widgets/controls",
          "model_name": "FloatProgressModel",
          "model_module_version": "1.5.0",
          "state": {
            "_dom_classes": [],
            "_model_module": "@jupyter-widgets/controls",
            "_model_module_version": "1.5.0",
            "_model_name": "FloatProgressModel",
            "_view_count": null,
            "_view_module": "@jupyter-widgets/controls",
            "_view_module_version": "1.5.0",
            "_view_name": "ProgressView",
            "bar_style": "success",
            "description": "",
            "description_tooltip": null,
            "layout": "IPY_MODEL_1daa34dbdbff456aba1ee7dd8cf94b60",
            "max": 42,
            "min": 0,
            "orientation": "horizontal",
            "style": "IPY_MODEL_70c18e4265d64c0084774586e37f586b",
            "value": 42
          }
        },
        "e1ec36b385ea4a17aa3b84e59a6a89f6": {
          "model_module": "@jupyter-widgets/controls",
          "model_name": "HTMLModel",
          "model_module_version": "1.5.0",
          "state": {
            "_dom_classes": [],
            "_model_module": "@jupyter-widgets/controls",
            "_model_module_version": "1.5.0",
            "_model_name": "HTMLModel",
            "_view_count": null,
            "_view_module": "@jupyter-widgets/controls",
            "_view_module_version": "1.5.0",
            "_view_name": "HTMLView",
            "description": "",
            "description_tooltip": null,
            "layout": "IPY_MODEL_971c7e1fb2bc4d96abe0939f00374c3f",
            "placeholder": "​",
            "style": "IPY_MODEL_c982ef08d77f45bfa51d39a84435c32b",
            "value": " 42.0/42.0 [00:00&lt;00:00, 2.97kB/s]"
          }
        },
        "4ac176778cf84c43884d0390e997dbe5": {
          "model_module": "@jupyter-widgets/base",
          "model_name": "LayoutModel",
          "model_module_version": "1.2.0",
          "state": {
            "_model_module": "@jupyter-widgets/base",
            "_model_module_version": "1.2.0",
            "_model_name": "LayoutModel",
            "_view_count": null,
            "_view_module": "@jupyter-widgets/base",
            "_view_module_version": "1.2.0",
            "_view_name": "LayoutView",
            "align_content": null,
            "align_items": null,
            "align_self": null,
            "border": null,
            "bottom": null,
            "display": null,
            "flex": null,
            "flex_flow": null,
            "grid_area": null,
            "grid_auto_columns": null,
            "grid_auto_flow": null,
            "grid_auto_rows": null,
            "grid_column": null,
            "grid_gap": null,
            "grid_row": null,
            "grid_template_areas": null,
            "grid_template_columns": null,
            "grid_template_rows": null,
            "height": null,
            "justify_content": null,
            "justify_items": null,
            "left": null,
            "margin": null,
            "max_height": null,
            "max_width": null,
            "min_height": null,
            "min_width": null,
            "object_fit": null,
            "object_position": null,
            "order": null,
            "overflow": null,
            "overflow_x": null,
            "overflow_y": null,
            "padding": null,
            "right": null,
            "top": null,
            "visibility": null,
            "width": null
          }
        },
        "1071c2c58bdf4ad98789cf3842c12741": {
          "model_module": "@jupyter-widgets/base",
          "model_name": "LayoutModel",
          "model_module_version": "1.2.0",
          "state": {
            "_model_module": "@jupyter-widgets/base",
            "_model_module_version": "1.2.0",
            "_model_name": "LayoutModel",
            "_view_count": null,
            "_view_module": "@jupyter-widgets/base",
            "_view_module_version": "1.2.0",
            "_view_name": "LayoutView",
            "align_content": null,
            "align_items": null,
            "align_self": null,
            "border": null,
            "bottom": null,
            "display": null,
            "flex": null,
            "flex_flow": null,
            "grid_area": null,
            "grid_auto_columns": null,
            "grid_auto_flow": null,
            "grid_auto_rows": null,
            "grid_column": null,
            "grid_gap": null,
            "grid_row": null,
            "grid_template_areas": null,
            "grid_template_columns": null,
            "grid_template_rows": null,
            "height": null,
            "justify_content": null,
            "justify_items": null,
            "left": null,
            "margin": null,
            "max_height": null,
            "max_width": null,
            "min_height": null,
            "min_width": null,
            "object_fit": null,
            "object_position": null,
            "order": null,
            "overflow": null,
            "overflow_x": null,
            "overflow_y": null,
            "padding": null,
            "right": null,
            "top": null,
            "visibility": null,
            "width": null
          }
        },
        "666b141936c449ff9d88611ec3e13d35": {
          "model_module": "@jupyter-widgets/controls",
          "model_name": "DescriptionStyleModel",
          "model_module_version": "1.5.0",
          "state": {
            "_model_module": "@jupyter-widgets/controls",
            "_model_module_version": "1.5.0",
            "_model_name": "DescriptionStyleModel",
            "_view_count": null,
            "_view_module": "@jupyter-widgets/base",
            "_view_module_version": "1.2.0",
            "_view_name": "StyleView",
            "description_width": ""
          }
        },
        "1daa34dbdbff456aba1ee7dd8cf94b60": {
          "model_module": "@jupyter-widgets/base",
          "model_name": "LayoutModel",
          "model_module_version": "1.2.0",
          "state": {
            "_model_module": "@jupyter-widgets/base",
            "_model_module_version": "1.2.0",
            "_model_name": "LayoutModel",
            "_view_count": null,
            "_view_module": "@jupyter-widgets/base",
            "_view_module_version": "1.2.0",
            "_view_name": "LayoutView",
            "align_content": null,
            "align_items": null,
            "align_self": null,
            "border": null,
            "bottom": null,
            "display": null,
            "flex": null,
            "flex_flow": null,
            "grid_area": null,
            "grid_auto_columns": null,
            "grid_auto_flow": null,
            "grid_auto_rows": null,
            "grid_column": null,
            "grid_gap": null,
            "grid_row": null,
            "grid_template_areas": null,
            "grid_template_columns": null,
            "grid_template_rows": null,
            "height": null,
            "justify_content": null,
            "justify_items": null,
            "left": null,
            "margin": null,
            "max_height": null,
            "max_width": null,
            "min_height": null,
            "min_width": null,
            "object_fit": null,
            "object_position": null,
            "order": null,
            "overflow": null,
            "overflow_x": null,
            "overflow_y": null,
            "padding": null,
            "right": null,
            "top": null,
            "visibility": null,
            "width": null
          }
        },
        "70c18e4265d64c0084774586e37f586b": {
          "model_module": "@jupyter-widgets/controls",
          "model_name": "ProgressStyleModel",
          "model_module_version": "1.5.0",
          "state": {
            "_model_module": "@jupyter-widgets/controls",
            "_model_module_version": "1.5.0",
            "_model_name": "ProgressStyleModel",
            "_view_count": null,
            "_view_module": "@jupyter-widgets/base",
            "_view_module_version": "1.2.0",
            "_view_name": "StyleView",
            "bar_color": null,
            "description_width": ""
          }
        },
        "971c7e1fb2bc4d96abe0939f00374c3f": {
          "model_module": "@jupyter-widgets/base",
          "model_name": "LayoutModel",
          "model_module_version": "1.2.0",
          "state": {
            "_model_module": "@jupyter-widgets/base",
            "_model_module_version": "1.2.0",
            "_model_name": "LayoutModel",
            "_view_count": null,
            "_view_module": "@jupyter-widgets/base",
            "_view_module_version": "1.2.0",
            "_view_name": "LayoutView",
            "align_content": null,
            "align_items": null,
            "align_self": null,
            "border": null,
            "bottom": null,
            "display": null,
            "flex": null,
            "flex_flow": null,
            "grid_area": null,
            "grid_auto_columns": null,
            "grid_auto_flow": null,
            "grid_auto_rows": null,
            "grid_column": null,
            "grid_gap": null,
            "grid_row": null,
            "grid_template_areas": null,
            "grid_template_columns": null,
            "grid_template_rows": null,
            "height": null,
            "justify_content": null,
            "justify_items": null,
            "left": null,
            "margin": null,
            "max_height": null,
            "max_width": null,
            "min_height": null,
            "min_width": null,
            "object_fit": null,
            "object_position": null,
            "order": null,
            "overflow": null,
            "overflow_x": null,
            "overflow_y": null,
            "padding": null,
            "right": null,
            "top": null,
            "visibility": null,
            "width": null
          }
        },
        "c982ef08d77f45bfa51d39a84435c32b": {
          "model_module": "@jupyter-widgets/controls",
          "model_name": "DescriptionStyleModel",
          "model_module_version": "1.5.0",
          "state": {
            "_model_module": "@jupyter-widgets/controls",
            "_model_module_version": "1.5.0",
            "_model_name": "DescriptionStyleModel",
            "_view_count": null,
            "_view_module": "@jupyter-widgets/base",
            "_view_module_version": "1.2.0",
            "_view_name": "StyleView",
            "description_width": ""
          }
        },
        "21250fc016844ff0ac93e36bddc522bc": {
          "model_module": "@jupyter-widgets/controls",
          "model_name": "HBoxModel",
          "model_module_version": "1.5.0",
          "state": {
            "_dom_classes": [],
            "_model_module": "@jupyter-widgets/controls",
            "_model_module_version": "1.5.0",
            "_model_name": "HBoxModel",
            "_view_count": null,
            "_view_module": "@jupyter-widgets/controls",
            "_view_module_version": "1.5.0",
            "_view_name": "HBoxView",
            "box_style": "",
            "children": [
              "IPY_MODEL_0a9d3feff75b44bda63b742af28a3be9",
              "IPY_MODEL_65a2522c034c42db9025031b18872e40",
              "IPY_MODEL_fa759c60fc484642a7943fbf80bdbb85"
            ],
            "layout": "IPY_MODEL_6f7c58fa25e84c029727df667e7625e1"
          }
        },
        "0a9d3feff75b44bda63b742af28a3be9": {
          "model_module": "@jupyter-widgets/controls",
          "model_name": "HTMLModel",
          "model_module_version": "1.5.0",
          "state": {
            "_dom_classes": [],
            "_model_module": "@jupyter-widgets/controls",
            "_model_module_version": "1.5.0",
            "_model_name": "HTMLModel",
            "_view_count": null,
            "_view_module": "@jupyter-widgets/controls",
            "_view_module_version": "1.5.0",
            "_view_name": "HTMLView",
            "description": "",
            "description_tooltip": null,
            "layout": "IPY_MODEL_887e40bc8ebd4271a042d10c1983eeb2",
            "placeholder": "​",
            "style": "IPY_MODEL_a3552f84d85b4160a03a18eb23dd51f1",
            "value": "Downloading (…)solve/main/vocab.txt: 100%"
          }
        },
        "65a2522c034c42db9025031b18872e40": {
          "model_module": "@jupyter-widgets/controls",
          "model_name": "FloatProgressModel",
          "model_module_version": "1.5.0",
          "state": {
            "_dom_classes": [],
            "_model_module": "@jupyter-widgets/controls",
            "_model_module_version": "1.5.0",
            "_model_name": "FloatProgressModel",
            "_view_count": null,
            "_view_module": "@jupyter-widgets/controls",
            "_view_module_version": "1.5.0",
            "_view_name": "ProgressView",
            "bar_style": "success",
            "description": "",
            "description_tooltip": null,
            "layout": "IPY_MODEL_03526cc6d08a4477bf4091e0382ab1ab",
            "max": 234118,
            "min": 0,
            "orientation": "horizontal",
            "style": "IPY_MODEL_884b09575be2449fbed2623e8d97ef38",
            "value": 234118
          }
        },
        "fa759c60fc484642a7943fbf80bdbb85": {
          "model_module": "@jupyter-widgets/controls",
          "model_name": "HTMLModel",
          "model_module_version": "1.5.0",
          "state": {
            "_dom_classes": [],
            "_model_module": "@jupyter-widgets/controls",
            "_model_module_version": "1.5.0",
            "_model_name": "HTMLModel",
            "_view_count": null,
            "_view_module": "@jupyter-widgets/controls",
            "_view_module_version": "1.5.0",
            "_view_name": "HTMLView",
            "description": "",
            "description_tooltip": null,
            "layout": "IPY_MODEL_b3928637c16c44babbe68833308bd77f",
            "placeholder": "​",
            "style": "IPY_MODEL_6753561d76fc4c28bcdeab824026ffa0",
            "value": " 234k/234k [00:00&lt;00:00, 1.27MB/s]"
          }
        },
        "6f7c58fa25e84c029727df667e7625e1": {
          "model_module": "@jupyter-widgets/base",
          "model_name": "LayoutModel",
          "model_module_version": "1.2.0",
          "state": {
            "_model_module": "@jupyter-widgets/base",
            "_model_module_version": "1.2.0",
            "_model_name": "LayoutModel",
            "_view_count": null,
            "_view_module": "@jupyter-widgets/base",
            "_view_module_version": "1.2.0",
            "_view_name": "LayoutView",
            "align_content": null,
            "align_items": null,
            "align_self": null,
            "border": null,
            "bottom": null,
            "display": null,
            "flex": null,
            "flex_flow": null,
            "grid_area": null,
            "grid_auto_columns": null,
            "grid_auto_flow": null,
            "grid_auto_rows": null,
            "grid_column": null,
            "grid_gap": null,
            "grid_row": null,
            "grid_template_areas": null,
            "grid_template_columns": null,
            "grid_template_rows": null,
            "height": null,
            "justify_content": null,
            "justify_items": null,
            "left": null,
            "margin": null,
            "max_height": null,
            "max_width": null,
            "min_height": null,
            "min_width": null,
            "object_fit": null,
            "object_position": null,
            "order": null,
            "overflow": null,
            "overflow_x": null,
            "overflow_y": null,
            "padding": null,
            "right": null,
            "top": null,
            "visibility": null,
            "width": null
          }
        },
        "887e40bc8ebd4271a042d10c1983eeb2": {
          "model_module": "@jupyter-widgets/base",
          "model_name": "LayoutModel",
          "model_module_version": "1.2.0",
          "state": {
            "_model_module": "@jupyter-widgets/base",
            "_model_module_version": "1.2.0",
            "_model_name": "LayoutModel",
            "_view_count": null,
            "_view_module": "@jupyter-widgets/base",
            "_view_module_version": "1.2.0",
            "_view_name": "LayoutView",
            "align_content": null,
            "align_items": null,
            "align_self": null,
            "border": null,
            "bottom": null,
            "display": null,
            "flex": null,
            "flex_flow": null,
            "grid_area": null,
            "grid_auto_columns": null,
            "grid_auto_flow": null,
            "grid_auto_rows": null,
            "grid_column": null,
            "grid_gap": null,
            "grid_row": null,
            "grid_template_areas": null,
            "grid_template_columns": null,
            "grid_template_rows": null,
            "height": null,
            "justify_content": null,
            "justify_items": null,
            "left": null,
            "margin": null,
            "max_height": null,
            "max_width": null,
            "min_height": null,
            "min_width": null,
            "object_fit": null,
            "object_position": null,
            "order": null,
            "overflow": null,
            "overflow_x": null,
            "overflow_y": null,
            "padding": null,
            "right": null,
            "top": null,
            "visibility": null,
            "width": null
          }
        },
        "a3552f84d85b4160a03a18eb23dd51f1": {
          "model_module": "@jupyter-widgets/controls",
          "model_name": "DescriptionStyleModel",
          "model_module_version": "1.5.0",
          "state": {
            "_model_module": "@jupyter-widgets/controls",
            "_model_module_version": "1.5.0",
            "_model_name": "DescriptionStyleModel",
            "_view_count": null,
            "_view_module": "@jupyter-widgets/base",
            "_view_module_version": "1.2.0",
            "_view_name": "StyleView",
            "description_width": ""
          }
        },
        "03526cc6d08a4477bf4091e0382ab1ab": {
          "model_module": "@jupyter-widgets/base",
          "model_name": "LayoutModel",
          "model_module_version": "1.2.0",
          "state": {
            "_model_module": "@jupyter-widgets/base",
            "_model_module_version": "1.2.0",
            "_model_name": "LayoutModel",
            "_view_count": null,
            "_view_module": "@jupyter-widgets/base",
            "_view_module_version": "1.2.0",
            "_view_name": "LayoutView",
            "align_content": null,
            "align_items": null,
            "align_self": null,
            "border": null,
            "bottom": null,
            "display": null,
            "flex": null,
            "flex_flow": null,
            "grid_area": null,
            "grid_auto_columns": null,
            "grid_auto_flow": null,
            "grid_auto_rows": null,
            "grid_column": null,
            "grid_gap": null,
            "grid_row": null,
            "grid_template_areas": null,
            "grid_template_columns": null,
            "grid_template_rows": null,
            "height": null,
            "justify_content": null,
            "justify_items": null,
            "left": null,
            "margin": null,
            "max_height": null,
            "max_width": null,
            "min_height": null,
            "min_width": null,
            "object_fit": null,
            "object_position": null,
            "order": null,
            "overflow": null,
            "overflow_x": null,
            "overflow_y": null,
            "padding": null,
            "right": null,
            "top": null,
            "visibility": null,
            "width": null
          }
        },
        "884b09575be2449fbed2623e8d97ef38": {
          "model_module": "@jupyter-widgets/controls",
          "model_name": "ProgressStyleModel",
          "model_module_version": "1.5.0",
          "state": {
            "_model_module": "@jupyter-widgets/controls",
            "_model_module_version": "1.5.0",
            "_model_name": "ProgressStyleModel",
            "_view_count": null,
            "_view_module": "@jupyter-widgets/base",
            "_view_module_version": "1.2.0",
            "_view_name": "StyleView",
            "bar_color": null,
            "description_width": ""
          }
        },
        "b3928637c16c44babbe68833308bd77f": {
          "model_module": "@jupyter-widgets/base",
          "model_name": "LayoutModel",
          "model_module_version": "1.2.0",
          "state": {
            "_model_module": "@jupyter-widgets/base",
            "_model_module_version": "1.2.0",
            "_model_name": "LayoutModel",
            "_view_count": null,
            "_view_module": "@jupyter-widgets/base",
            "_view_module_version": "1.2.0",
            "_view_name": "LayoutView",
            "align_content": null,
            "align_items": null,
            "align_self": null,
            "border": null,
            "bottom": null,
            "display": null,
            "flex": null,
            "flex_flow": null,
            "grid_area": null,
            "grid_auto_columns": null,
            "grid_auto_flow": null,
            "grid_auto_rows": null,
            "grid_column": null,
            "grid_gap": null,
            "grid_row": null,
            "grid_template_areas": null,
            "grid_template_columns": null,
            "grid_template_rows": null,
            "height": null,
            "justify_content": null,
            "justify_items": null,
            "left": null,
            "margin": null,
            "max_height": null,
            "max_width": null,
            "min_height": null,
            "min_width": null,
            "object_fit": null,
            "object_position": null,
            "order": null,
            "overflow": null,
            "overflow_x": null,
            "overflow_y": null,
            "padding": null,
            "right": null,
            "top": null,
            "visibility": null,
            "width": null
          }
        },
        "6753561d76fc4c28bcdeab824026ffa0": {
          "model_module": "@jupyter-widgets/controls",
          "model_name": "DescriptionStyleModel",
          "model_module_version": "1.5.0",
          "state": {
            "_model_module": "@jupyter-widgets/controls",
            "_model_module_version": "1.5.0",
            "_model_name": "DescriptionStyleModel",
            "_view_count": null,
            "_view_module": "@jupyter-widgets/base",
            "_view_module_version": "1.2.0",
            "_view_name": "StyleView",
            "description_width": ""
          }
        },
        "cfcd7ffb8161439b921412d0f775cd24": {
          "model_module": "@jupyter-widgets/controls",
          "model_name": "HBoxModel",
          "model_module_version": "1.5.0",
          "state": {
            "_dom_classes": [],
            "_model_module": "@jupyter-widgets/controls",
            "_model_module_version": "1.5.0",
            "_model_name": "HBoxModel",
            "_view_count": null,
            "_view_module": "@jupyter-widgets/controls",
            "_view_module_version": "1.5.0",
            "_view_name": "HBoxView",
            "box_style": "",
            "children": [
              "IPY_MODEL_b980dae46099486496f12961adbf8763",
              "IPY_MODEL_f0f3d3ab28f4473899d885169936c9c6",
              "IPY_MODEL_62d6201e8d484eb9abba24d6564e6e72"
            ],
            "layout": "IPY_MODEL_8af9d4ea336f4073b5cc2cbd7118321c"
          }
        },
        "b980dae46099486496f12961adbf8763": {
          "model_module": "@jupyter-widgets/controls",
          "model_name": "HTMLModel",
          "model_module_version": "1.5.0",
          "state": {
            "_dom_classes": [],
            "_model_module": "@jupyter-widgets/controls",
            "_model_module_version": "1.5.0",
            "_model_name": "HTMLModel",
            "_view_count": null,
            "_view_module": "@jupyter-widgets/controls",
            "_view_module_version": "1.5.0",
            "_view_name": "HTMLView",
            "description": "",
            "description_tooltip": null,
            "layout": "IPY_MODEL_010625659e744165b88b7268947ac36a",
            "placeholder": "​",
            "style": "IPY_MODEL_203d82fb13be45acbfa63b95818b7ad5",
            "value": "Downloading (…)in/added_tokens.json: 100%"
          }
        },
        "f0f3d3ab28f4473899d885169936c9c6": {
          "model_module": "@jupyter-widgets/controls",
          "model_name": "FloatProgressModel",
          "model_module_version": "1.5.0",
          "state": {
            "_dom_classes": [],
            "_model_module": "@jupyter-widgets/controls",
            "_model_module_version": "1.5.0",
            "_model_name": "FloatProgressModel",
            "_view_count": null,
            "_view_module": "@jupyter-widgets/controls",
            "_view_module_version": "1.5.0",
            "_view_name": "ProgressView",
            "bar_style": "success",
            "description": "",
            "description_tooltip": null,
            "layout": "IPY_MODEL_e3967f9d3456449b9298145feef1f1c1",
            "max": 2,
            "min": 0,
            "orientation": "horizontal",
            "style": "IPY_MODEL_d880377dfb4b42e6ab7553c727e245c0",
            "value": 2
          }
        },
        "62d6201e8d484eb9abba24d6564e6e72": {
          "model_module": "@jupyter-widgets/controls",
          "model_name": "HTMLModel",
          "model_module_version": "1.5.0",
          "state": {
            "_dom_classes": [],
            "_model_module": "@jupyter-widgets/controls",
            "_model_module_version": "1.5.0",
            "_model_name": "HTMLModel",
            "_view_count": null,
            "_view_module": "@jupyter-widgets/controls",
            "_view_module_version": "1.5.0",
            "_view_name": "HTMLView",
            "description": "",
            "description_tooltip": null,
            "layout": "IPY_MODEL_bbc2514eb4934950ac4c914cea116dd1",
            "placeholder": "​",
            "style": "IPY_MODEL_ad23434d0a2c421faba71832d4bef26c",
            "value": " 2.00/2.00 [00:00&lt;00:00, 75.6B/s]"
          }
        },
        "8af9d4ea336f4073b5cc2cbd7118321c": {
          "model_module": "@jupyter-widgets/base",
          "model_name": "LayoutModel",
          "model_module_version": "1.2.0",
          "state": {
            "_model_module": "@jupyter-widgets/base",
            "_model_module_version": "1.2.0",
            "_model_name": "LayoutModel",
            "_view_count": null,
            "_view_module": "@jupyter-widgets/base",
            "_view_module_version": "1.2.0",
            "_view_name": "LayoutView",
            "align_content": null,
            "align_items": null,
            "align_self": null,
            "border": null,
            "bottom": null,
            "display": null,
            "flex": null,
            "flex_flow": null,
            "grid_area": null,
            "grid_auto_columns": null,
            "grid_auto_flow": null,
            "grid_auto_rows": null,
            "grid_column": null,
            "grid_gap": null,
            "grid_row": null,
            "grid_template_areas": null,
            "grid_template_columns": null,
            "grid_template_rows": null,
            "height": null,
            "justify_content": null,
            "justify_items": null,
            "left": null,
            "margin": null,
            "max_height": null,
            "max_width": null,
            "min_height": null,
            "min_width": null,
            "object_fit": null,
            "object_position": null,
            "order": null,
            "overflow": null,
            "overflow_x": null,
            "overflow_y": null,
            "padding": null,
            "right": null,
            "top": null,
            "visibility": null,
            "width": null
          }
        },
        "010625659e744165b88b7268947ac36a": {
          "model_module": "@jupyter-widgets/base",
          "model_name": "LayoutModel",
          "model_module_version": "1.2.0",
          "state": {
            "_model_module": "@jupyter-widgets/base",
            "_model_module_version": "1.2.0",
            "_model_name": "LayoutModel",
            "_view_count": null,
            "_view_module": "@jupyter-widgets/base",
            "_view_module_version": "1.2.0",
            "_view_name": "LayoutView",
            "align_content": null,
            "align_items": null,
            "align_self": null,
            "border": null,
            "bottom": null,
            "display": null,
            "flex": null,
            "flex_flow": null,
            "grid_area": null,
            "grid_auto_columns": null,
            "grid_auto_flow": null,
            "grid_auto_rows": null,
            "grid_column": null,
            "grid_gap": null,
            "grid_row": null,
            "grid_template_areas": null,
            "grid_template_columns": null,
            "grid_template_rows": null,
            "height": null,
            "justify_content": null,
            "justify_items": null,
            "left": null,
            "margin": null,
            "max_height": null,
            "max_width": null,
            "min_height": null,
            "min_width": null,
            "object_fit": null,
            "object_position": null,
            "order": null,
            "overflow": null,
            "overflow_x": null,
            "overflow_y": null,
            "padding": null,
            "right": null,
            "top": null,
            "visibility": null,
            "width": null
          }
        },
        "203d82fb13be45acbfa63b95818b7ad5": {
          "model_module": "@jupyter-widgets/controls",
          "model_name": "DescriptionStyleModel",
          "model_module_version": "1.5.0",
          "state": {
            "_model_module": "@jupyter-widgets/controls",
            "_model_module_version": "1.5.0",
            "_model_name": "DescriptionStyleModel",
            "_view_count": null,
            "_view_module": "@jupyter-widgets/base",
            "_view_module_version": "1.2.0",
            "_view_name": "StyleView",
            "description_width": ""
          }
        },
        "e3967f9d3456449b9298145feef1f1c1": {
          "model_module": "@jupyter-widgets/base",
          "model_name": "LayoutModel",
          "model_module_version": "1.2.0",
          "state": {
            "_model_module": "@jupyter-widgets/base",
            "_model_module_version": "1.2.0",
            "_model_name": "LayoutModel",
            "_view_count": null,
            "_view_module": "@jupyter-widgets/base",
            "_view_module_version": "1.2.0",
            "_view_name": "LayoutView",
            "align_content": null,
            "align_items": null,
            "align_self": null,
            "border": null,
            "bottom": null,
            "display": null,
            "flex": null,
            "flex_flow": null,
            "grid_area": null,
            "grid_auto_columns": null,
            "grid_auto_flow": null,
            "grid_auto_rows": null,
            "grid_column": null,
            "grid_gap": null,
            "grid_row": null,
            "grid_template_areas": null,
            "grid_template_columns": null,
            "grid_template_rows": null,
            "height": null,
            "justify_content": null,
            "justify_items": null,
            "left": null,
            "margin": null,
            "max_height": null,
            "max_width": null,
            "min_height": null,
            "min_width": null,
            "object_fit": null,
            "object_position": null,
            "order": null,
            "overflow": null,
            "overflow_x": null,
            "overflow_y": null,
            "padding": null,
            "right": null,
            "top": null,
            "visibility": null,
            "width": null
          }
        },
        "d880377dfb4b42e6ab7553c727e245c0": {
          "model_module": "@jupyter-widgets/controls",
          "model_name": "ProgressStyleModel",
          "model_module_version": "1.5.0",
          "state": {
            "_model_module": "@jupyter-widgets/controls",
            "_model_module_version": "1.5.0",
            "_model_name": "ProgressStyleModel",
            "_view_count": null,
            "_view_module": "@jupyter-widgets/base",
            "_view_module_version": "1.2.0",
            "_view_name": "StyleView",
            "bar_color": null,
            "description_width": ""
          }
        },
        "bbc2514eb4934950ac4c914cea116dd1": {
          "model_module": "@jupyter-widgets/base",
          "model_name": "LayoutModel",
          "model_module_version": "1.2.0",
          "state": {
            "_model_module": "@jupyter-widgets/base",
            "_model_module_version": "1.2.0",
            "_model_name": "LayoutModel",
            "_view_count": null,
            "_view_module": "@jupyter-widgets/base",
            "_view_module_version": "1.2.0",
            "_view_name": "LayoutView",
            "align_content": null,
            "align_items": null,
            "align_self": null,
            "border": null,
            "bottom": null,
            "display": null,
            "flex": null,
            "flex_flow": null,
            "grid_area": null,
            "grid_auto_columns": null,
            "grid_auto_flow": null,
            "grid_auto_rows": null,
            "grid_column": null,
            "grid_gap": null,
            "grid_row": null,
            "grid_template_areas": null,
            "grid_template_columns": null,
            "grid_template_rows": null,
            "height": null,
            "justify_content": null,
            "justify_items": null,
            "left": null,
            "margin": null,
            "max_height": null,
            "max_width": null,
            "min_height": null,
            "min_width": null,
            "object_fit": null,
            "object_position": null,
            "order": null,
            "overflow": null,
            "overflow_x": null,
            "overflow_y": null,
            "padding": null,
            "right": null,
            "top": null,
            "visibility": null,
            "width": null
          }
        },
        "ad23434d0a2c421faba71832d4bef26c": {
          "model_module": "@jupyter-widgets/controls",
          "model_name": "DescriptionStyleModel",
          "model_module_version": "1.5.0",
          "state": {
            "_model_module": "@jupyter-widgets/controls",
            "_model_module_version": "1.5.0",
            "_model_name": "DescriptionStyleModel",
            "_view_count": null,
            "_view_module": "@jupyter-widgets/base",
            "_view_module_version": "1.2.0",
            "_view_name": "StyleView",
            "description_width": ""
          }
        },
        "128cad5d2bf047deb2f0ac2a054f62a1": {
          "model_module": "@jupyter-widgets/controls",
          "model_name": "HBoxModel",
          "model_module_version": "1.5.0",
          "state": {
            "_dom_classes": [],
            "_model_module": "@jupyter-widgets/controls",
            "_model_module_version": "1.5.0",
            "_model_name": "HBoxModel",
            "_view_count": null,
            "_view_module": "@jupyter-widgets/controls",
            "_view_module_version": "1.5.0",
            "_view_name": "HBoxView",
            "box_style": "",
            "children": [
              "IPY_MODEL_586f62497a06496185bf22414b357482",
              "IPY_MODEL_5235cc96aab24f2cb81881760b4a7f57",
              "IPY_MODEL_8ba2ed2107c24a918ad8169f9b1614fd"
            ],
            "layout": "IPY_MODEL_5215e4dc788b44b980c797d69581c013"
          }
        },
        "586f62497a06496185bf22414b357482": {
          "model_module": "@jupyter-widgets/controls",
          "model_name": "HTMLModel",
          "model_module_version": "1.5.0",
          "state": {
            "_dom_classes": [],
            "_model_module": "@jupyter-widgets/controls",
            "_model_module_version": "1.5.0",
            "_model_name": "HTMLModel",
            "_view_count": null,
            "_view_module": "@jupyter-widgets/controls",
            "_view_module_version": "1.5.0",
            "_view_name": "HTMLView",
            "description": "",
            "description_tooltip": null,
            "layout": "IPY_MODEL_778b1eaeedcb4b218277cfc406965a00",
            "placeholder": "​",
            "style": "IPY_MODEL_7e09c28ab86a4bf088f469499f135133",
            "value": "Downloading (…)cial_tokens_map.json: 100%"
          }
        },
        "5235cc96aab24f2cb81881760b4a7f57": {
          "model_module": "@jupyter-widgets/controls",
          "model_name": "FloatProgressModel",
          "model_module_version": "1.5.0",
          "state": {
            "_dom_classes": [],
            "_model_module": "@jupyter-widgets/controls",
            "_model_module_version": "1.5.0",
            "_model_name": "FloatProgressModel",
            "_view_count": null,
            "_view_module": "@jupyter-widgets/controls",
            "_view_module_version": "1.5.0",
            "_view_name": "ProgressView",
            "bar_style": "success",
            "description": "",
            "description_tooltip": null,
            "layout": "IPY_MODEL_6a33eb7e463042efbb0f099c296927d3",
            "max": 112,
            "min": 0,
            "orientation": "horizontal",
            "style": "IPY_MODEL_4acba239369741ab919571088d4c1273",
            "value": 112
          }
        },
        "8ba2ed2107c24a918ad8169f9b1614fd": {
          "model_module": "@jupyter-widgets/controls",
          "model_name": "HTMLModel",
          "model_module_version": "1.5.0",
          "state": {
            "_dom_classes": [],
            "_model_module": "@jupyter-widgets/controls",
            "_model_module_version": "1.5.0",
            "_model_name": "HTMLModel",
            "_view_count": null,
            "_view_module": "@jupyter-widgets/controls",
            "_view_module_version": "1.5.0",
            "_view_name": "HTMLView",
            "description": "",
            "description_tooltip": null,
            "layout": "IPY_MODEL_9c74c2eb41ca4bcd94d84931f1255675",
            "placeholder": "​",
            "style": "IPY_MODEL_53642b849a0546ef98621ab7f0d22b89",
            "value": " 112/112 [00:00&lt;00:00, 3.73kB/s]"
          }
        },
        "5215e4dc788b44b980c797d69581c013": {
          "model_module": "@jupyter-widgets/base",
          "model_name": "LayoutModel",
          "model_module_version": "1.2.0",
          "state": {
            "_model_module": "@jupyter-widgets/base",
            "_model_module_version": "1.2.0",
            "_model_name": "LayoutModel",
            "_view_count": null,
            "_view_module": "@jupyter-widgets/base",
            "_view_module_version": "1.2.0",
            "_view_name": "LayoutView",
            "align_content": null,
            "align_items": null,
            "align_self": null,
            "border": null,
            "bottom": null,
            "display": null,
            "flex": null,
            "flex_flow": null,
            "grid_area": null,
            "grid_auto_columns": null,
            "grid_auto_flow": null,
            "grid_auto_rows": null,
            "grid_column": null,
            "grid_gap": null,
            "grid_row": null,
            "grid_template_areas": null,
            "grid_template_columns": null,
            "grid_template_rows": null,
            "height": null,
            "justify_content": null,
            "justify_items": null,
            "left": null,
            "margin": null,
            "max_height": null,
            "max_width": null,
            "min_height": null,
            "min_width": null,
            "object_fit": null,
            "object_position": null,
            "order": null,
            "overflow": null,
            "overflow_x": null,
            "overflow_y": null,
            "padding": null,
            "right": null,
            "top": null,
            "visibility": null,
            "width": null
          }
        },
        "778b1eaeedcb4b218277cfc406965a00": {
          "model_module": "@jupyter-widgets/base",
          "model_name": "LayoutModel",
          "model_module_version": "1.2.0",
          "state": {
            "_model_module": "@jupyter-widgets/base",
            "_model_module_version": "1.2.0",
            "_model_name": "LayoutModel",
            "_view_count": null,
            "_view_module": "@jupyter-widgets/base",
            "_view_module_version": "1.2.0",
            "_view_name": "LayoutView",
            "align_content": null,
            "align_items": null,
            "align_self": null,
            "border": null,
            "bottom": null,
            "display": null,
            "flex": null,
            "flex_flow": null,
            "grid_area": null,
            "grid_auto_columns": null,
            "grid_auto_flow": null,
            "grid_auto_rows": null,
            "grid_column": null,
            "grid_gap": null,
            "grid_row": null,
            "grid_template_areas": null,
            "grid_template_columns": null,
            "grid_template_rows": null,
            "height": null,
            "justify_content": null,
            "justify_items": null,
            "left": null,
            "margin": null,
            "max_height": null,
            "max_width": null,
            "min_height": null,
            "min_width": null,
            "object_fit": null,
            "object_position": null,
            "order": null,
            "overflow": null,
            "overflow_x": null,
            "overflow_y": null,
            "padding": null,
            "right": null,
            "top": null,
            "visibility": null,
            "width": null
          }
        },
        "7e09c28ab86a4bf088f469499f135133": {
          "model_module": "@jupyter-widgets/controls",
          "model_name": "DescriptionStyleModel",
          "model_module_version": "1.5.0",
          "state": {
            "_model_module": "@jupyter-widgets/controls",
            "_model_module_version": "1.5.0",
            "_model_name": "DescriptionStyleModel",
            "_view_count": null,
            "_view_module": "@jupyter-widgets/base",
            "_view_module_version": "1.2.0",
            "_view_name": "StyleView",
            "description_width": ""
          }
        },
        "6a33eb7e463042efbb0f099c296927d3": {
          "model_module": "@jupyter-widgets/base",
          "model_name": "LayoutModel",
          "model_module_version": "1.2.0",
          "state": {
            "_model_module": "@jupyter-widgets/base",
            "_model_module_version": "1.2.0",
            "_model_name": "LayoutModel",
            "_view_count": null,
            "_view_module": "@jupyter-widgets/base",
            "_view_module_version": "1.2.0",
            "_view_name": "LayoutView",
            "align_content": null,
            "align_items": null,
            "align_self": null,
            "border": null,
            "bottom": null,
            "display": null,
            "flex": null,
            "flex_flow": null,
            "grid_area": null,
            "grid_auto_columns": null,
            "grid_auto_flow": null,
            "grid_auto_rows": null,
            "grid_column": null,
            "grid_gap": null,
            "grid_row": null,
            "grid_template_areas": null,
            "grid_template_columns": null,
            "grid_template_rows": null,
            "height": null,
            "justify_content": null,
            "justify_items": null,
            "left": null,
            "margin": null,
            "max_height": null,
            "max_width": null,
            "min_height": null,
            "min_width": null,
            "object_fit": null,
            "object_position": null,
            "order": null,
            "overflow": null,
            "overflow_x": null,
            "overflow_y": null,
            "padding": null,
            "right": null,
            "top": null,
            "visibility": null,
            "width": null
          }
        },
        "4acba239369741ab919571088d4c1273": {
          "model_module": "@jupyter-widgets/controls",
          "model_name": "ProgressStyleModel",
          "model_module_version": "1.5.0",
          "state": {
            "_model_module": "@jupyter-widgets/controls",
            "_model_module_version": "1.5.0",
            "_model_name": "ProgressStyleModel",
            "_view_count": null,
            "_view_module": "@jupyter-widgets/base",
            "_view_module_version": "1.2.0",
            "_view_name": "StyleView",
            "bar_color": null,
            "description_width": ""
          }
        },
        "9c74c2eb41ca4bcd94d84931f1255675": {
          "model_module": "@jupyter-widgets/base",
          "model_name": "LayoutModel",
          "model_module_version": "1.2.0",
          "state": {
            "_model_module": "@jupyter-widgets/base",
            "_model_module_version": "1.2.0",
            "_model_name": "LayoutModel",
            "_view_count": null,
            "_view_module": "@jupyter-widgets/base",
            "_view_module_version": "1.2.0",
            "_view_name": "LayoutView",
            "align_content": null,
            "align_items": null,
            "align_self": null,
            "border": null,
            "bottom": null,
            "display": null,
            "flex": null,
            "flex_flow": null,
            "grid_area": null,
            "grid_auto_columns": null,
            "grid_auto_flow": null,
            "grid_auto_rows": null,
            "grid_column": null,
            "grid_gap": null,
            "grid_row": null,
            "grid_template_areas": null,
            "grid_template_columns": null,
            "grid_template_rows": null,
            "height": null,
            "justify_content": null,
            "justify_items": null,
            "left": null,
            "margin": null,
            "max_height": null,
            "max_width": null,
            "min_height": null,
            "min_width": null,
            "object_fit": null,
            "object_position": null,
            "order": null,
            "overflow": null,
            "overflow_x": null,
            "overflow_y": null,
            "padding": null,
            "right": null,
            "top": null,
            "visibility": null,
            "width": null
          }
        },
        "53642b849a0546ef98621ab7f0d22b89": {
          "model_module": "@jupyter-widgets/controls",
          "model_name": "DescriptionStyleModel",
          "model_module_version": "1.5.0",
          "state": {
            "_model_module": "@jupyter-widgets/controls",
            "_model_module_version": "1.5.0",
            "_model_name": "DescriptionStyleModel",
            "_view_count": null,
            "_view_module": "@jupyter-widgets/base",
            "_view_module_version": "1.2.0",
            "_view_name": "StyleView",
            "description_width": ""
          }
        }
      }
    }
  },
  "cells": [
    {
      "cell_type": "code",
      "source": [
        "from google.colab import drive\n",
        "drive.mount('/content/drive')"
      ],
      "metadata": {
        "colab": {
          "base_uri": "https://localhost:8080/"
        },
        "id": "ohcf9sQ7U0WE",
        "outputId": "d028d617-f830-4ca6-9ade-02efac52ecdc"
      },
      "execution_count": 1,
      "outputs": [
        {
          "output_type": "stream",
          "name": "stdout",
          "text": [
            "Mounted at /content/drive\n"
          ]
        }
      ]
    },
    {
      "cell_type": "code",
      "source": [
        "!unzip '/content/drive/MyDrive/Shopee/shopee-product-matching.zip' -d '/content/'"
      ],
      "metadata": {
        "id": "d_XHbrPTU5rb"
      },
      "execution_count": null,
      "outputs": []
    },
    {
      "cell_type": "code",
      "source": [
        "!pip install transformers"
      ],
      "metadata": {
        "id": "k4KtCl7q-UOc"
      },
      "execution_count": null,
      "outputs": []
    },
    {
      "cell_type": "code",
      "source": [
        "import pandas as pd\n",
        "import numpy as np\n",
        "import torch.nn as nn\n",
        "import torchvision\n",
        "import torch\n",
        "from PIL import Image\n",
        "from torchvision import  models\n",
        "import pickle\n",
        "import warnings\n",
        "warnings.filterwarnings('ignore')\n",
        "\n",
        "from transformers import logging\n",
        "logging.set_verbosity_error()"
      ],
      "metadata": {
        "id": "DTdwVSvqU0aN"
      },
      "execution_count": 4,
      "outputs": []
    },
    {
      "cell_type": "code",
      "source": [
        "# FUNCTIONS\n",
        "\n",
        "import torch\n",
        "import torchvision.models as models\n",
        "import torchvision.transforms as transforms\n",
        "from PIL import Image\n",
        "from sklearn.feature_extraction.text import TfidfVectorizer\n",
        "import torch.nn.functional as F\n",
        "from sklearn.neighbors import NearestNeighbors\n",
        "from scipy import sparse\n",
        "import matplotlib.pyplot as plt\n",
        "from transformers import AutoTokenizer, AutoModel\n",
        "from transformers import BertTokenizer, BertModel\n",
        "\n",
        "\n",
        "# RESNET50\n",
        "class ResNet50Embedder():\n",
        "    def __init__(self):\n",
        "        self.device = torch.device(\"cuda\" if torch.cuda.is_available() else \"cpu\")\n",
        "        self.model = models.resnet50(pretrained=True)\n",
        "        self.model = self.model.to(self.device).eval()  # Move to device and set to evaluation mode\n",
        "        self.transform = transforms.Compose([\n",
        "            transforms.Resize((224, 224)),\n",
        "            transforms.ToTensor(),\n",
        "            transforms.Normalize(mean=[0.485, 0.456, 0.406], std=[0.229, 0.224, 0.225])\n",
        "        ])\n",
        "\n",
        "    def embed_image(self, image_path):\n",
        "        image = Image.open(image_path).convert('RGB')\n",
        "        image = self.transform(image).unsqueeze(0).to(self.device)\n",
        "\n",
        "        with torch.no_grad():\n",
        "            features = self.model(image)\n",
        "\n",
        "        return features.squeeze().cpu().numpy()\n",
        "\n",
        "# INDO BERT UNCASED\n",
        "\n",
        "class BERTIndEmbedder(nn.Module):\n",
        "\n",
        "    def __init__(self, device='cpu'):\n",
        "        super(BERTIndEmbedder, self).__init__()\n",
        "\n",
        "        # reference: https://indolem.github.io/IndoBERT/\n",
        "        self.model = AutoModel.from_pretrained(\"indolem/indobert-base-uncased\")\n",
        "\n",
        "#         to freeze weights\n",
        "        for param in self.model.parameters():\n",
        "                param.requires_grad = False\n",
        "        self.model.to(device)\n",
        "\n",
        "    def transform(self, txt):\n",
        "        # reference: https://indolem.github.io/IndoBERT/\n",
        "        tokenizer = AutoTokenizer.from_pretrained(\"indolem/indobert-base-uncased\")\n",
        "        encoded_input  = tokenizer.encode_plus( txt,\n",
        "                                                truncation=True,\n",
        "                                                max_length=128,\n",
        "                                                add_special_tokens=True,\n",
        "                                                padding=True,\n",
        "                                                return_tensors='pt').values()\n",
        "        return encoded_input\n",
        "\n",
        "    def mean_pooling(self, model_output, attention_mask):\n",
        "        token_embeddings = model_output[0]\n",
        "        input_mask_expanded = attention_mask.unsqueeze(-1).expand(token_embeddings.size()).float()\n",
        "        sum_embeddings = torch.sum(token_embeddings * input_mask_expanded, 1)\n",
        "        sum_mask = torch.clamp(input_mask_expanded.sum(1), min=1e-9)\n",
        "        return sum_embeddings / sum_mask\n",
        "\n",
        "    def forward(self, txt):\n",
        "        # inputs_ids, token_type_ids, attention_mask = self.transform(txt)\n",
        "        # inputs_ids, token_type_ids, attention_mask = inputs_ids.to('cuda'), \\\n",
        "        #                                         token_type_ids.to('cuda'), attention_mask.to('cuda')\n",
        "\n",
        "        inputs_ids, token_type_ids, attention_mask = self.transform(txt)\n",
        "        inputs_ids, token_type_ids, attention_mask = inputs_ids, \\\n",
        "                                                token_type_ids, attention_mask\n",
        "        with torch.no_grad():\n",
        "            encoded_layers = self.model(inputs_ids,\n",
        "                                        attention_mask=attention_mask,\n",
        "                                        token_type_ids=token_type_ids)\n",
        "        features = self.mean_pooling(encoded_layers, attention_mask)\n",
        "        return features\n",
        "\n",
        "\n",
        "# BERT UNCASED\n",
        "\n",
        "class BERTEmbedder2(nn.Module):\n",
        "\n",
        "    def __init__(self, device='cpu'):\n",
        "        super(BERTEmbedder2, self).__init__()\n",
        "        self.bert_path = \"/content/drive/MyDrive/Shopee/sentence-transformer\"\n",
        "        self.model = BertModel.from_pretrained(self.bert_path)\n",
        "\n",
        "#         to freeze weights\n",
        "        for param in self.model.parameters():\n",
        "                param.requires_grad = False\n",
        "        self.model.to(device)\n",
        "\n",
        "    def transform(self, txt):\n",
        "        tokenizer = BertTokenizer.from_pretrained(self.bert_path)\n",
        "        encoded_input  = tokenizer.encode_plus( txt,\n",
        "                                                truncation=True,\n",
        "                                                max_length=128,\n",
        "                                                add_special_tokens=True,\n",
        "                                                padding=True,\n",
        "                                                return_tensors='pt').values()\n",
        "        return encoded_input\n",
        "\n",
        "    def mean_pooling(self, model_output, attention_mask):\n",
        "        token_embeddings = model_output[0]\n",
        "        input_mask_expanded = attention_mask.unsqueeze(-1).expand(token_embeddings.size()).float()\n",
        "        sum_embeddings = torch.sum(token_embeddings * input_mask_expanded, 1)\n",
        "        sum_mask = torch.clamp(input_mask_expanded.sum(1), min=1e-9)\n",
        "        return sum_embeddings / sum_mask\n",
        "\n",
        "    def forward(self, txt):\n",
        "        inputs_ids, token_type_ids, attention_mask = self.transform(txt)\n",
        "        inputs_ids, token_type_ids, attention_mask = inputs_ids, \\\n",
        "                                                token_type_ids, attention_mask\n",
        "        # inputs_ids, token_type_ids, attention_mask = self.transform(txt)\n",
        "        # inputs_ids, token_type_ids, attention_mask = inputs_ids.to('cuda'), \\\n",
        "        #                                         token_type_ids.to('cuda'), attention_mask.to('cuda')\n",
        "        with torch.no_grad():\n",
        "            encoded_layers = self.model(inputs_ids,\n",
        "                                        attention_mask=attention_mask,\n",
        "                                        token_type_ids=token_type_ids)\n",
        "        features = self.mean_pooling(encoded_layers, attention_mask)\n",
        "        return features\n",
        "\n",
        "\n",
        "# TF-IDF\n",
        "tfidf_model = TfidfVectorizer(decode_error=\"replace\",vocabulary=pickle.load(open(\"/content/drive/MyDrive/Shopee/tfidf_model.pkl\", \"rb\")))\n",
        "text_embeddings = sparse.load_npz(\"/content/drive/MyDrive/Shopee/text_embeddings.npz\")\n",
        "\n",
        "\n",
        "def vectorize_txt(txt):\n",
        "  ind_model_txt.eval()\n",
        "  with torch.no_grad():\n",
        "      output = ind_model_txt(txt).cpu().numpy()\n",
        "  return output"
      ],
      "metadata": {
        "id": "tkvLrQ1oHvDv"
      },
      "execution_count": 5,
      "outputs": []
    },
    {
      "cell_type": "code",
      "source": [
        "with open('/content/drive/MyDrive/Shopee/7_tfidf_final_v3.pkl', 'rb') as f:\n",
        "    train_df = pickle.load(f)"
      ],
      "metadata": {
        "id": "YS27qbvMYDfO"
      },
      "execution_count": 6,
      "outputs": []
    },
    {
      "cell_type": "code",
      "source": [
        "data_test = pd.read_csv('test_v2.csv')\n",
        "data_test.head()"
      ],
      "metadata": {
        "colab": {
          "base_uri": "https://localhost:8080/",
          "height": 206
        },
        "id": "IuAYm9INHvF5",
        "outputId": "61b3f9b0-44dd-4dcb-eaf9-696a3229b18c"
      },
      "execution_count": 7,
      "outputs": [
        {
          "output_type": "execute_result",
          "data": {
            "text/plain": [
              "   posting_id       image image_phash  \\\n",
              "0           1   mop_1.jpg        xxxx   \n",
              "1           2   mop_2.jpg        xxxx   \n",
              "2           3   mop_3.jpg        xxxx   \n",
              "3           4   mop_4.jpg        xxxx   \n",
              "4           5  Bimoli.jpg        xxxx   \n",
              "\n",
              "                                               title  \n",
              "0                           ALAT PEL LANTAI SPIN MOP  \n",
              "1                    alat pel murah spin mop - hitam  \n",
              "2                     spin mop 360 / alat pel lantai  \n",
              "3  SPIN MOP MURAH / SPIN MOP PROCLEAN / PRO CLEAN...  \n",
              "4           BIMOLI KLASIK MINYAK GORENG 2L POUCH X 6  "
            ],
            "text/html": [
              "\n",
              "  <div id=\"df-84194760-156a-468f-a019-e76b85374b08\">\n",
              "    <div class=\"colab-df-container\">\n",
              "      <div>\n",
              "<style scoped>\n",
              "    .dataframe tbody tr th:only-of-type {\n",
              "        vertical-align: middle;\n",
              "    }\n",
              "\n",
              "    .dataframe tbody tr th {\n",
              "        vertical-align: top;\n",
              "    }\n",
              "\n",
              "    .dataframe thead th {\n",
              "        text-align: right;\n",
              "    }\n",
              "</style>\n",
              "<table border=\"1\" class=\"dataframe\">\n",
              "  <thead>\n",
              "    <tr style=\"text-align: right;\">\n",
              "      <th></th>\n",
              "      <th>posting_id</th>\n",
              "      <th>image</th>\n",
              "      <th>image_phash</th>\n",
              "      <th>title</th>\n",
              "    </tr>\n",
              "  </thead>\n",
              "  <tbody>\n",
              "    <tr>\n",
              "      <th>0</th>\n",
              "      <td>1</td>\n",
              "      <td>mop_1.jpg</td>\n",
              "      <td>xxxx</td>\n",
              "      <td>ALAT PEL LANTAI SPIN MOP</td>\n",
              "    </tr>\n",
              "    <tr>\n",
              "      <th>1</th>\n",
              "      <td>2</td>\n",
              "      <td>mop_2.jpg</td>\n",
              "      <td>xxxx</td>\n",
              "      <td>alat pel murah spin mop - hitam</td>\n",
              "    </tr>\n",
              "    <tr>\n",
              "      <th>2</th>\n",
              "      <td>3</td>\n",
              "      <td>mop_3.jpg</td>\n",
              "      <td>xxxx</td>\n",
              "      <td>spin mop 360 / alat pel lantai</td>\n",
              "    </tr>\n",
              "    <tr>\n",
              "      <th>3</th>\n",
              "      <td>4</td>\n",
              "      <td>mop_4.jpg</td>\n",
              "      <td>xxxx</td>\n",
              "      <td>SPIN MOP MURAH / SPIN MOP PROCLEAN / PRO CLEAN...</td>\n",
              "    </tr>\n",
              "    <tr>\n",
              "      <th>4</th>\n",
              "      <td>5</td>\n",
              "      <td>Bimoli.jpg</td>\n",
              "      <td>xxxx</td>\n",
              "      <td>BIMOLI KLASIK MINYAK GORENG 2L POUCH X 6</td>\n",
              "    </tr>\n",
              "  </tbody>\n",
              "</table>\n",
              "</div>\n",
              "      <button class=\"colab-df-convert\" onclick=\"convertToInteractive('df-84194760-156a-468f-a019-e76b85374b08')\"\n",
              "              title=\"Convert this dataframe to an interactive table.\"\n",
              "              style=\"display:none;\">\n",
              "        \n",
              "  <svg xmlns=\"http://www.w3.org/2000/svg\" height=\"24px\"viewBox=\"0 0 24 24\"\n",
              "       width=\"24px\">\n",
              "    <path d=\"M0 0h24v24H0V0z\" fill=\"none\"/>\n",
              "    <path d=\"M18.56 5.44l.94 2.06.94-2.06 2.06-.94-2.06-.94-.94-2.06-.94 2.06-2.06.94zm-11 1L8.5 8.5l.94-2.06 2.06-.94-2.06-.94L8.5 2.5l-.94 2.06-2.06.94zm10 10l.94 2.06.94-2.06 2.06-.94-2.06-.94-.94-2.06-.94 2.06-2.06.94z\"/><path d=\"M17.41 7.96l-1.37-1.37c-.4-.4-.92-.59-1.43-.59-.52 0-1.04.2-1.43.59L10.3 9.45l-7.72 7.72c-.78.78-.78 2.05 0 2.83L4 21.41c.39.39.9.59 1.41.59.51 0 1.02-.2 1.41-.59l7.78-7.78 2.81-2.81c.8-.78.8-2.07 0-2.86zM5.41 20L4 18.59l7.72-7.72 1.47 1.35L5.41 20z\"/>\n",
              "  </svg>\n",
              "      </button>\n",
              "      \n",
              "  <style>\n",
              "    .colab-df-container {\n",
              "      display:flex;\n",
              "      flex-wrap:wrap;\n",
              "      gap: 12px;\n",
              "    }\n",
              "\n",
              "    .colab-df-convert {\n",
              "      background-color: #E8F0FE;\n",
              "      border: none;\n",
              "      border-radius: 50%;\n",
              "      cursor: pointer;\n",
              "      display: none;\n",
              "      fill: #1967D2;\n",
              "      height: 32px;\n",
              "      padding: 0 0 0 0;\n",
              "      width: 32px;\n",
              "    }\n",
              "\n",
              "    .colab-df-convert:hover {\n",
              "      background-color: #E2EBFA;\n",
              "      box-shadow: 0px 1px 2px rgba(60, 64, 67, 0.3), 0px 1px 3px 1px rgba(60, 64, 67, 0.15);\n",
              "      fill: #174EA6;\n",
              "    }\n",
              "\n",
              "    [theme=dark] .colab-df-convert {\n",
              "      background-color: #3B4455;\n",
              "      fill: #D2E3FC;\n",
              "    }\n",
              "\n",
              "    [theme=dark] .colab-df-convert:hover {\n",
              "      background-color: #434B5C;\n",
              "      box-shadow: 0px 1px 3px 1px rgba(0, 0, 0, 0.15);\n",
              "      filter: drop-shadow(0px 1px 2px rgba(0, 0, 0, 0.3));\n",
              "      fill: #FFFFFF;\n",
              "    }\n",
              "  </style>\n",
              "\n",
              "      <script>\n",
              "        const buttonEl =\n",
              "          document.querySelector('#df-84194760-156a-468f-a019-e76b85374b08 button.colab-df-convert');\n",
              "        buttonEl.style.display =\n",
              "          google.colab.kernel.accessAllowed ? 'block' : 'none';\n",
              "\n",
              "        async function convertToInteractive(key) {\n",
              "          const element = document.querySelector('#df-84194760-156a-468f-a019-e76b85374b08');\n",
              "          const dataTable =\n",
              "            await google.colab.kernel.invokeFunction('convertToInteractive',\n",
              "                                                     [key], {});\n",
              "          if (!dataTable) return;\n",
              "\n",
              "          const docLinkHtml = 'Like what you see? Visit the ' +\n",
              "            '<a target=\"_blank\" href=https://colab.research.google.com/notebooks/data_table.ipynb>data table notebook</a>'\n",
              "            + ' to learn more about interactive tables.';\n",
              "          element.innerHTML = '';\n",
              "          dataTable['output_type'] = 'display_data';\n",
              "          await google.colab.output.renderOutput(dataTable, element);\n",
              "          const docLink = document.createElement('div');\n",
              "          docLink.innerHTML = docLinkHtml;\n",
              "          element.appendChild(docLink);\n",
              "        }\n",
              "      </script>\n",
              "    </div>\n",
              "  </div>\n",
              "  "
            ]
          },
          "metadata": {},
          "execution_count": 7
        }
      ]
    },
    {
      "cell_type": "code",
      "source": [
        "def func(ResNet50Embedder, BERTIndEmbedder, BERTEmbedder2, text_embeddings, train_df, data):\n",
        "  model_img = ResNet50Embedder()\n",
        "  vectors = train_df.resnet50_v\n",
        "\n",
        "  data['resnet_50_vector'] = data['image'].apply(lambda img_path: model_img.embed_image('/content/test_images/'+ img_path))\n",
        "\n",
        "  image_uploaded = Image.open('/content/test_images/'+ data['image'].values[0])\n",
        "  print('UPLOADED IMAGE:\\n')\n",
        "  plt.figure(figsize = (3, 3))\n",
        "  plt.imshow(image_uploaded)\n",
        "  plt.axis('off')\n",
        "  plt.title(data['title'].values[0])\n",
        "  plt.show()\n",
        "\n",
        "  resnet_50_vector = np.stack(data.resnet_50_vector)\n",
        "  resnet_50_vector = torch.Tensor(resnet_50_vector)\n",
        "  resnet_50_vector = F.normalize(resnet_50_vector)\n",
        "\n",
        "  vectors = np.stack(vectors)\n",
        "  vectors = torch.Tensor(vectors)\n",
        "  vectors = F.normalize(vectors)\n",
        "\n",
        "  cts = torch.matmul( resnet_50_vector, vectors.T).T\n",
        "  cts = cts.cpu().numpy()\n",
        "\n",
        "  del vectors, resnet_50_vector\n",
        "\n",
        "  IDX = np.where(cts > 0.93)[0]\n",
        "  data['preds_resnet'] = [[x for x in train_df.posting_id[IDX]] for x in data.index]\n",
        "  # print('RESNET50', [[x for x in train_df.posting_id[IDX]] for x in data.index])\n",
        "  # obtain image names\n",
        "  img_names = [x for x in train_df.image[IDX]]\n",
        "  img_titles = [x for x in train_df.title[IDX]]\n",
        "  print('\\n-----------------------------------------------------------\\n')\n",
        "  print('\\nRESNET50: MATCHED IMAGES:\\n')\n",
        "  if len(IDX) == 0: print('No Matches predicted')\n",
        "  for i, x in enumerate(img_names):\n",
        "    plt.figure(figsize = (9, 3 * int(np.ceil(len(IDX)/3))))\n",
        "    plt.subplot(int(np.ceil(len(IDX)/3)), 3, i+1)\n",
        "    image_uploaded = Image.open('/content/train_images/'+ x)\n",
        "    plt.imshow(image_uploaded)\n",
        "    plt.axis('off')\n",
        "    plt.title(img_titles[i])\n",
        "    plt.show()\n",
        "\n",
        "\n",
        "\n",
        "  ind_model_txt = BERTIndEmbedder('cpu')\n",
        "\n",
        "  def vectorize_txt(txt):\n",
        "    ind_model_txt.eval()\n",
        "    with torch.no_grad():\n",
        "        output = ind_model_txt(txt).cpu().numpy()\n",
        "    return output\n",
        "\n",
        "  data['indo_bert_v'] = data['title'].apply(lambda x: vectorize_txt(x))\n",
        "\n",
        "  indo_bert_v = np.stack(data.indo_bert_v.values[0])\n",
        "  indo_bert_v = torch.Tensor(indo_bert_v)\n",
        "  indo_bert_v = F.normalize(indo_bert_v)\n",
        "\n",
        "  vectors1 = np.stack(train_df.ind_sbert_v).squeeze(1)\n",
        "  vectors1 = torch.Tensor(vectors1)\n",
        "  vectors1 = F.normalize(vectors1)\n",
        "\n",
        "  cts_indo_bert = torch.matmul( indo_bert_v, vectors1.T).T\n",
        "  cts_indo_bert = cts_indo_bert.cpu().numpy()\n",
        "  IDX_indo_bert = np.where(cts_indo_bert > 0.88)[0]\n",
        "\n",
        "  del vectors1, indo_bert_v, cts_indo_bert\n",
        "\n",
        "  data['preds_indoBERTbaseP2'] = [[x for x in train_df.posting_id[IDX_indo_bert]] for x in data.index]\n",
        "  # print('INDO BERT UNCASED', [[x for x in train_df.posting_id[IDX_indo_bert]] for x in data.index])\n",
        "\n",
        "  # obtain image names\n",
        "  img_names = [x for x in train_df.image[IDX_indo_bert]]\n",
        "  img_titles = [x for x in train_df.title[IDX_indo_bert]]\n",
        "  print('\\n-----------------------------------------------------------\\n')\n",
        "  print('\\nINDO BERT UNCASED: MATCHED IMAGES:\\n')\n",
        "  if len(IDX_indo_bert) == 0: print('No Matches predicted')\n",
        "  for i, x in enumerate(img_names):\n",
        "    plt.figure(figsize = (9, 3 * int(np.ceil(len(IDX_indo_bert)/3))))\n",
        "    plt.subplot(int(np.ceil(len(IDX_indo_bert)/3)), 3, i+1)\n",
        "    image_uploaded = Image.open('/content/train_images/'+ x)\n",
        "    plt.imshow(image_uploaded)\n",
        "    plt.axis('off')\n",
        "    plt.title(img_titles[i])\n",
        "    plt.show()\n",
        "\n",
        "  model_txt_en = BERTEmbedder2('cpu')\n",
        "\n",
        "  def vectorize_txt_en(txt):\n",
        "      model_txt_en.eval()\n",
        "      with torch.no_grad():\n",
        "          output = model_txt_en(txt).cpu().numpy()\n",
        "      return output\n",
        "\n",
        "  data['bert_v'] = data['title'].apply(lambda x: vectorize_txt_en(x))\n",
        "\n",
        "  bert_v = np.stack(data.bert_v.values[0])\n",
        "  bert_v = torch.Tensor(bert_v)\n",
        "  bert_v = F.normalize(bert_v)\n",
        "\n",
        "  vectors2 = np.stack(train_df.sbert_v).squeeze(1)\n",
        "  vectors2 = torch.Tensor(vectors2)\n",
        "  vectors2 = F.normalize(vectors2)\n",
        "\n",
        "  cts_bert = torch.matmul( bert_v, vectors2.T).T\n",
        "  cts_bert = cts_bert.cpu().numpy()\n",
        "  IDX_bert = np.where(cts_bert > 0.92)[0]\n",
        "\n",
        "  del vectors2, bert_v, cts_bert\n",
        "\n",
        "  data['preds_sbert'] = [[x for x in train_df.posting_id[IDX_bert]] for x in data.index]\n",
        "  # print('BERT UNCASED', [[x for x in train_df.posting_id[IDX_bert]] for x in data.index])\n",
        "\n",
        "  # obtain image names\n",
        "  img_names = [x for x in train_df.image[IDX_bert]]\n",
        "  img_titles = [x for x in train_df.title[IDX_bert]]\n",
        "  print('\\n-----------------------------------------------------------\\n')\n",
        "  print('\\nBERT UNCASED: MATCHED IMAGES:\\n')\n",
        "  if len(IDX_bert) == 0: print('No Matches predicted')\n",
        "  for i, x in enumerate(img_names):\n",
        "    plt.figure(figsize = (9, 3 * int(np.ceil(len(IDX_bert)/3))))\n",
        "    plt.subplot(int(np.ceil(len(IDX_bert)/3)), 3, i+1)\n",
        "    image_uploaded = Image.open('/content/train_images/'+ x)\n",
        "    plt.imshow(image_uploaded)\n",
        "    plt.axis('off')\n",
        "    plt.title(img_titles[i])\n",
        "    plt.show()\n",
        "\n",
        "  def concat():\n",
        "      def cat(row):\n",
        "          comm = np.concatenate([row.resnet50_v, row.ind_sbert_v.squeeze(), row.sbert_v.squeeze()])\n",
        "          return comm\n",
        "      return cat\n",
        "\n",
        "  def concat_test():\n",
        "      def cat(row):\n",
        "          comm = np.concatenate([row.resnet_50_vector, row.indo_bert_v.squeeze(), row.bert_v.squeeze()])\n",
        "          return comm\n",
        "      return cat\n",
        "\n",
        "  train_df['concat_v'] = train_df.apply(concat(), axis=1)\n",
        "  vectors3 = np.stack(train_df['concat_v'])\n",
        "\n",
        "  concat_v = data.apply(concat_test(), axis=1)\n",
        "  concat_v = np.stack(concat_v)\n",
        "\n",
        "  KNN = 50\n",
        "  model = NearestNeighbors(n_neighbors=KNN)\n",
        "  model.fit(vectors3)\n",
        "  distances, indices = model.kneighbors(concat_v)\n",
        "\n",
        "  del vectors3, model, concat_v\n",
        "\n",
        "  IDX_concat = np.where(distances[0]<37.0)\n",
        "  IDS_concat = indices[0][IDX_concat]\n",
        "  data['preds_concat'] = [[x for x in train_df.iloc[IDS_concat].posting_id] for x in data.index]\n",
        "  # print('CONCAT:', [[x for x in train_df.iloc[IDS_concat].posting_id] for x in data.index])\n",
        "\n",
        "  # obtain image names\n",
        "  img_names = [x for x in train_df.image[IDS_concat]]\n",
        "  img_titles = [x for x in train_df.title[IDS_concat]]\n",
        "  print('\\n-----------------------------------------------------------\\n')\n",
        "  print('\\nCONCATENATION OF RESNET, INDO BERT and BERT: MATCHED IMAGES:\\n')\n",
        "  if len(IDS_concat) == 0: print('No Matches predicted')\n",
        "  for i, x in enumerate(img_names):\n",
        "    plt.figure(figsize = (9, 3 * int(np.ceil(len(IDS_concat)/3))))\n",
        "    plt.subplot(int(np.ceil(len(IDS_concat)/3)), 3, i+1)\n",
        "    image_uploaded = Image.open('/content/train_images/'+ x)\n",
        "    plt.imshow(image_uploaded)\n",
        "    plt.axis('off')\n",
        "    plt.title(img_titles[i])\n",
        "    plt.show()\n",
        "\n",
        "  tfidf_model = TfidfVectorizer(decode_error=\"replace\",vocabulary=pickle.load(open(\"/content/drive/MyDrive/Shopee/tfidf_model.pkl\", \"rb\")))\n",
        "  tfidf_v = tfidf_model.fit_transform(data.title)\n",
        "\n",
        "  del tfidf_model\n",
        "\n",
        "  cts_tfidf = text_embeddings.dot(tfidf_v.T).T.toarray()\n",
        "  IDX_tfidf = np.where(cts_tfidf[0] > 0.53)\n",
        "  data['preds_tfidf'] = [[x for x in train_df.iloc[IDX_tfidf].posting_id] for x in data.index]\n",
        "  # print('TF-IDF', [[x for x in train_df.iloc[IDX_tfidf].posting_id] for x in data.index])\n",
        "\n",
        "  # obtain image names\n",
        "  img_names = [x for x in train_df.image.iloc[IDX_tfidf]]\n",
        "  img_titles = [x for x in train_df.title.iloc[IDX_tfidf]]\n",
        "  print('\\n-----------------------------------------------------------\\n')\n",
        "  print('\\nTF-IDF: MATCHED IMAGES:\\n')\n",
        "  if len(IDX_tfidf[0]) == 0: print('No Matches predicted')\n",
        "\n",
        "  for i, x in enumerate(img_names):\n",
        "    plt.figure(figsize = (9, 3 * int(np.ceil(len(IDX_tfidf[0])/3))))\n",
        "    plt.subplot(int(np.ceil(len(IDX_tfidf[0])/3)), 3, i+1)\n",
        "    image_uploaded = Image.open('/content/train_images/'+ x)\n",
        "    plt.imshow(image_uploaded)\n",
        "    plt.axis('off')\n",
        "    plt.title(img_titles[i])\n",
        "  plt.show()\n",
        "\n",
        "  def combine_for_sub(row):\n",
        "      x = np.concatenate([row.preds_concat, row.preds_phash, row.preds_tfidf])\n",
        "      return ' '.join( np.unique(x) )\n",
        "\n",
        "  def combine_for_test(row):\n",
        "      x = np.concatenate([row.preds_concat, row.preds_tfidf])\n",
        "      return ' '.join( np.unique(x) )\n",
        "\n",
        "  x = np.concatenate([pd.Series(data['preds_concat'].values[0]), [], pd.Series(data['preds_tfidf'].values[0])])\n",
        "  final = np.unique(x) # array\n",
        "  print('\\n-----------------------------------------------------------\\n')\n",
        "  print('FINAL RESULTS OF MATCHED IMAGES:\\n')\n",
        "  if len(final) == 0: print('No Matches predicted')\n",
        "  # obtain image names\n",
        "  for id in final:\n",
        "    img_nm = train_df.image[train_df[train_df['posting_id'] == id].index].values[0]\n",
        "    img_title = train_df.title[train_df[train_df['posting_id'] == id].index].values[0]\n",
        "    plt.figure(figsize = (3, 3))\n",
        "    image_uploaded = Image.open('/content/train_images/'+ img_nm)\n",
        "    plt.imshow(image_uploaded)\n",
        "    plt.axis('off')\n",
        "    plt.title(img_title)\n",
        "    plt.show()"
      ],
      "metadata": {
        "id": "UwXkfDEpIX2R"
      },
      "execution_count": 12,
      "outputs": []
    },
    {
      "cell_type": "markdown",
      "source": [
        "# TEST RESULTS"
      ],
      "metadata": {
        "id": "QkvVbtwMQO0Y"
      }
    },
    {
      "cell_type": "code",
      "source": [
        "data_test = pd.read_csv('test_v2.csv')\n",
        "data_test.head()"
      ],
      "metadata": {
        "colab": {
          "base_uri": "https://localhost:8080/",
          "height": 206
        },
        "id": "elpP6GJoQNId",
        "outputId": "5fcdc6aa-46ae-474b-d855-01895d74f614"
      },
      "execution_count": 13,
      "outputs": [
        {
          "output_type": "execute_result",
          "data": {
            "text/plain": [
              "   posting_id       image image_phash  \\\n",
              "0           1   mop_1.jpg        xxxx   \n",
              "1           2   mop_2.jpg        xxxx   \n",
              "2           3   mop_3.jpg        xxxx   \n",
              "3           4   mop_4.jpg        xxxx   \n",
              "4           5  Bimoli.jpg        xxxx   \n",
              "\n",
              "                                               title  \n",
              "0                           ALAT PEL LANTAI SPIN MOP  \n",
              "1                    alat pel murah spin mop - hitam  \n",
              "2                     spin mop 360 / alat pel lantai  \n",
              "3  SPIN MOP MURAH / SPIN MOP PROCLEAN / PRO CLEAN...  \n",
              "4           BIMOLI KLASIK MINYAK GORENG 2L POUCH X 6  "
            ],
            "text/html": [
              "\n",
              "  <div id=\"df-78c19df6-9b75-48cc-8efa-7afe297b8fbc\">\n",
              "    <div class=\"colab-df-container\">\n",
              "      <div>\n",
              "<style scoped>\n",
              "    .dataframe tbody tr th:only-of-type {\n",
              "        vertical-align: middle;\n",
              "    }\n",
              "\n",
              "    .dataframe tbody tr th {\n",
              "        vertical-align: top;\n",
              "    }\n",
              "\n",
              "    .dataframe thead th {\n",
              "        text-align: right;\n",
              "    }\n",
              "</style>\n",
              "<table border=\"1\" class=\"dataframe\">\n",
              "  <thead>\n",
              "    <tr style=\"text-align: right;\">\n",
              "      <th></th>\n",
              "      <th>posting_id</th>\n",
              "      <th>image</th>\n",
              "      <th>image_phash</th>\n",
              "      <th>title</th>\n",
              "    </tr>\n",
              "  </thead>\n",
              "  <tbody>\n",
              "    <tr>\n",
              "      <th>0</th>\n",
              "      <td>1</td>\n",
              "      <td>mop_1.jpg</td>\n",
              "      <td>xxxx</td>\n",
              "      <td>ALAT PEL LANTAI SPIN MOP</td>\n",
              "    </tr>\n",
              "    <tr>\n",
              "      <th>1</th>\n",
              "      <td>2</td>\n",
              "      <td>mop_2.jpg</td>\n",
              "      <td>xxxx</td>\n",
              "      <td>alat pel murah spin mop - hitam</td>\n",
              "    </tr>\n",
              "    <tr>\n",
              "      <th>2</th>\n",
              "      <td>3</td>\n",
              "      <td>mop_3.jpg</td>\n",
              "      <td>xxxx</td>\n",
              "      <td>spin mop 360 / alat pel lantai</td>\n",
              "    </tr>\n",
              "    <tr>\n",
              "      <th>3</th>\n",
              "      <td>4</td>\n",
              "      <td>mop_4.jpg</td>\n",
              "      <td>xxxx</td>\n",
              "      <td>SPIN MOP MURAH / SPIN MOP PROCLEAN / PRO CLEAN...</td>\n",
              "    </tr>\n",
              "    <tr>\n",
              "      <th>4</th>\n",
              "      <td>5</td>\n",
              "      <td>Bimoli.jpg</td>\n",
              "      <td>xxxx</td>\n",
              "      <td>BIMOLI KLASIK MINYAK GORENG 2L POUCH X 6</td>\n",
              "    </tr>\n",
              "  </tbody>\n",
              "</table>\n",
              "</div>\n",
              "      <button class=\"colab-df-convert\" onclick=\"convertToInteractive('df-78c19df6-9b75-48cc-8efa-7afe297b8fbc')\"\n",
              "              title=\"Convert this dataframe to an interactive table.\"\n",
              "              style=\"display:none;\">\n",
              "        \n",
              "  <svg xmlns=\"http://www.w3.org/2000/svg\" height=\"24px\"viewBox=\"0 0 24 24\"\n",
              "       width=\"24px\">\n",
              "    <path d=\"M0 0h24v24H0V0z\" fill=\"none\"/>\n",
              "    <path d=\"M18.56 5.44l.94 2.06.94-2.06 2.06-.94-2.06-.94-.94-2.06-.94 2.06-2.06.94zm-11 1L8.5 8.5l.94-2.06 2.06-.94-2.06-.94L8.5 2.5l-.94 2.06-2.06.94zm10 10l.94 2.06.94-2.06 2.06-.94-2.06-.94-.94-2.06-.94 2.06-2.06.94z\"/><path d=\"M17.41 7.96l-1.37-1.37c-.4-.4-.92-.59-1.43-.59-.52 0-1.04.2-1.43.59L10.3 9.45l-7.72 7.72c-.78.78-.78 2.05 0 2.83L4 21.41c.39.39.9.59 1.41.59.51 0 1.02-.2 1.41-.59l7.78-7.78 2.81-2.81c.8-.78.8-2.07 0-2.86zM5.41 20L4 18.59l7.72-7.72 1.47 1.35L5.41 20z\"/>\n",
              "  </svg>\n",
              "      </button>\n",
              "      \n",
              "  <style>\n",
              "    .colab-df-container {\n",
              "      display:flex;\n",
              "      flex-wrap:wrap;\n",
              "      gap: 12px;\n",
              "    }\n",
              "\n",
              "    .colab-df-convert {\n",
              "      background-color: #E8F0FE;\n",
              "      border: none;\n",
              "      border-radius: 50%;\n",
              "      cursor: pointer;\n",
              "      display: none;\n",
              "      fill: #1967D2;\n",
              "      height: 32px;\n",
              "      padding: 0 0 0 0;\n",
              "      width: 32px;\n",
              "    }\n",
              "\n",
              "    .colab-df-convert:hover {\n",
              "      background-color: #E2EBFA;\n",
              "      box-shadow: 0px 1px 2px rgba(60, 64, 67, 0.3), 0px 1px 3px 1px rgba(60, 64, 67, 0.15);\n",
              "      fill: #174EA6;\n",
              "    }\n",
              "\n",
              "    [theme=dark] .colab-df-convert {\n",
              "      background-color: #3B4455;\n",
              "      fill: #D2E3FC;\n",
              "    }\n",
              "\n",
              "    [theme=dark] .colab-df-convert:hover {\n",
              "      background-color: #434B5C;\n",
              "      box-shadow: 0px 1px 3px 1px rgba(0, 0, 0, 0.15);\n",
              "      filter: drop-shadow(0px 1px 2px rgba(0, 0, 0, 0.3));\n",
              "      fill: #FFFFFF;\n",
              "    }\n",
              "  </style>\n",
              "\n",
              "      <script>\n",
              "        const buttonEl =\n",
              "          document.querySelector('#df-78c19df6-9b75-48cc-8efa-7afe297b8fbc button.colab-df-convert');\n",
              "        buttonEl.style.display =\n",
              "          google.colab.kernel.accessAllowed ? 'block' : 'none';\n",
              "\n",
              "        async function convertToInteractive(key) {\n",
              "          const element = document.querySelector('#df-78c19df6-9b75-48cc-8efa-7afe297b8fbc');\n",
              "          const dataTable =\n",
              "            await google.colab.kernel.invokeFunction('convertToInteractive',\n",
              "                                                     [key], {});\n",
              "          if (!dataTable) return;\n",
              "\n",
              "          const docLinkHtml = 'Like what you see? Visit the ' +\n",
              "            '<a target=\"_blank\" href=https://colab.research.google.com/notebooks/data_table.ipynb>data table notebook</a>'\n",
              "            + ' to learn more about interactive tables.';\n",
              "          element.innerHTML = '';\n",
              "          dataTable['output_type'] = 'display_data';\n",
              "          await google.colab.output.renderOutput(dataTable, element);\n",
              "          const docLink = document.createElement('div');\n",
              "          docLink.innerHTML = docLinkHtml;\n",
              "          element.appendChild(docLink);\n",
              "        }\n",
              "      </script>\n",
              "    </div>\n",
              "  </div>\n",
              "  "
            ]
          },
          "metadata": {},
          "execution_count": 13
        }
      ]
    },
    {
      "cell_type": "code",
      "source": [
        "data = data_test.loc[[13]]\n",
        "result = func(ResNet50Embedder, BERTIndEmbedder, BERTEmbedder2, text_embeddings, train_df, data)"
      ],
      "metadata": {
        "colab": {
          "base_uri": "https://localhost:8080/",
          "height": 1000
        },
        "id": "rkHU_Y5yIX4d",
        "outputId": "3319ce7b-27c5-46e7-8cd6-ec30237ebe02"
      },
      "execution_count": 22,
      "outputs": [
        {
          "output_type": "stream",
          "name": "stdout",
          "text": [
            "UPLOADED IMAGE:\n",
            "\n"
          ]
        },
        {
          "output_type": "display_data",
          "data": {
            "text/plain": [
              "<Figure size 300x300 with 1 Axes>"
            ],
            "image/png": "[encoded data removed]"
          },
          "metadata": {}
        },
        {
          "output_type": "stream",
          "name": "stdout",
          "text": [
            "\n",
            "-----------------------------------------------------------\n",
            "\n",
            "\n",
            "RESNET50: MATCHED IMAGES:\n",
            "\n",
            "No Matches predicted\n",
            "\n",
            "-----------------------------------------------------------\n",
            "\n",
            "\n",
            "INDO BERT UNCASED: MATCHED IMAGES:\n",
            "\n",
            "No Matches predicted\n",
            "\n",
            "-----------------------------------------------------------\n",
            "\n",
            "\n",
            "BERT UNCASED: MATCHED IMAGES:\n",
            "\n",
            "No Matches predicted\n",
            "\n",
            "-----------------------------------------------------------\n",
            "\n",
            "\n",
            "CONCATENATION OF RESNET, INDO BERT and BERT: MATCHED IMAGES:\n",
            "\n",
            "No Matches predicted\n",
            "\n",
            "-----------------------------------------------------------\n",
            "\n",
            "\n",
            "TF-IDF: MATCHED IMAGES:\n",
            "\n",
            "No Matches predicted\n",
            "\n",
            "-----------------------------------------------------------\n",
            "\n",
            "FINAL RESULTS OF MATCHED IMAGES:\n",
            "\n",
            "No Matches predicted\n"
          ]
        }
      ]
    },
    {
      "cell_type": "code",
      "source": [],
      "metadata": {
        "id": "nCIRIU8xHvH7"
      },
      "execution_count": null,
      "outputs": []
    },
    {
      "cell_type": "code",
      "source": [],
      "metadata": {
        "id": "LtCGtm4THvLY"
      },
      "execution_count": null,
      "outputs": []
    },
    {
      "cell_type": "code",
      "source": [
        "import torch\n",
        "import torchvision.models as models\n",
        "import torchvision.transforms as transforms\n",
        "from PIL import Image\n",
        "\n",
        "class ResNet50Embedder():\n",
        "    def __init__(self):\n",
        "        self.device = torch.device(\"cuda\" if torch.cuda.is_available() else \"cpu\")\n",
        "        self.model = models.resnet50(pretrained=True)\n",
        "        self.model = self.model.to(self.device).eval()  # Move to device and set to evaluation mode\n",
        "        self.transform = transforms.Compose([\n",
        "            transforms.Resize((224, 224)),\n",
        "            transforms.ToTensor(),\n",
        "            transforms.Normalize(mean=[0.485, 0.456, 0.406], std=[0.229, 0.224, 0.225])\n",
        "        ])\n",
        "\n",
        "    def embed_image(self, image_path):\n",
        "        image = Image.open(image_path).convert('RGB')\n",
        "        image = self.transform(image).unsqueeze(0).to(self.device)\n",
        "\n",
        "        with torch.no_grad():\n",
        "            features = self.model(image)\n",
        "\n",
        "        return features.squeeze().cpu().numpy()"
      ],
      "metadata": {
        "id": "CQIB4OP1IjsZ"
      },
      "execution_count": 5,
      "outputs": []
    },
    {
      "cell_type": "code",
      "source": [
        "# class ResNetEmbedder(nn.Module):\n",
        "\n",
        "#     def __init__(self, device='cpu'):\n",
        "#         super(ResNetEmbedder, self).__init__()\n",
        "#         self.model = models.resnet50(pretrained=True)\n",
        "#         self.device = device\n",
        "#         # path = '/content/drive/MyDrive/Shopee/resnet50-19c8e357.pth'\n",
        "#         self.model.load_state_dict(torch.load(path))\n",
        "# #         to freeze weights\n",
        "#         for param in self.model.parameters():\n",
        "#                 param.requires_grad = False\n",
        "#         self.model.to(device)\n",
        "\n",
        "# # reference: https://pytorch.org/vision/stable/transforms.html\n",
        "#     def transform(self, img):\n",
        "#         transform = torchvision.transforms.Compose([\n",
        "#             torchvision.transforms.Resize(512),\n",
        "#             torchvision.transforms.CenterCrop(224),\n",
        "#             torchvision.transforms.ToTensor(),\n",
        "#             torchvision.transforms.Normalize(\n",
        "#                 mean=[0.485, 0.456, 0.406],\n",
        "#                 std=[0.229, 0.224, 0.225]\n",
        "#             )\n",
        "#         ])\n",
        "#         return transform(img)\n",
        "\n",
        "#     def forward(self, img):\n",
        "#         img_tr = self.transform(img).unsqueeze(0)\n",
        "#         img_tr = img_tr.to(self.device)\n",
        "#         features = self.model(img_tr).squeeze()\n",
        "#         return features"
      ],
      "metadata": {
        "id": "fuhc4riQNsxt"
      },
      "execution_count": 5,
      "outputs": []
    },
    {
      "cell_type": "code",
      "source": [
        "# import torch\n",
        "# import torchvision.models as models\n",
        "# import torchvision.transforms as transforms\n",
        "# from PIL import Image\n",
        "\n",
        "# class ResNet50Embedder:\n",
        "#     def __init__(self):\n",
        "#         self.device = torch.device(\"cuda\" if torch.cuda.is_available() else \"cpu\")\n",
        "#         self.model = models.resnet50(pretrained=True).to(self.device)\n",
        "#         self.model.eval()\n",
        "#         self.transform = transforms.Compose([\n",
        "#             transforms.Resize((224, 224)),\n",
        "#             transforms.ToTensor(),\n",
        "#             transforms.Normalize(mean=[0.485, 0.456, 0.406], std=[0.229, 0.224, 0.225])\n",
        "#         ])\n",
        "\n",
        "#     def embed_image(self, image_path):\n",
        "#         image = Image.open(image_path).convert('RGB')\n",
        "#         image = self.transform(image).unsqueeze(0).to(self.device)\n",
        "\n",
        "#         with torch.no_grad():\n",
        "#             features = self.model(image)\n",
        "\n",
        "#         return features.squeeze().cpu()"
      ],
      "metadata": {
        "id": "EBJChLKRK0E2"
      },
      "execution_count": 5,
      "outputs": []
    },
    {
      "cell_type": "code",
      "source": [
        "model_img = ResNet50Embedder()\n",
        "# def vectorize_img(img_path):\n",
        "#     img = Image.open(img_path).convert('RGB')\n",
        "#     model_img.eval()\n",
        "#     with torch.no_grad():\n",
        "#         output = model_img(img).cpu().numpy()\n",
        "#     return output"
      ],
      "metadata": {
        "colab": {
          "base_uri": "https://localhost:8080/"
        },
        "id": "vnsuuwoXJ7kw",
        "outputId": "5a3e58e9-d7a9-4022-ac79-8ab438cc3796"
      },
      "execution_count": 7,
      "outputs": [
        {
          "output_type": "stream",
          "name": "stderr",
          "text": [
            "Downloading: \"https://download.pytorch.org/models/resnet50-0676ba61.pth\" to /root/.cache/torch/hub/checkpoints/resnet50-0676ba61.pth\n",
            "100%|██████████| 97.8M/97.8M [00:00<00:00, 232MB/s]\n"
          ]
        }
      ]
    },
    {
      "cell_type": "code",
      "source": [
        "# class ResNetEmbedder(nn.Module):\n",
        "\n",
        "#     def __init__(self, device='cpu'):\n",
        "#         super(ResNetEmbedder, self).__init__()\n",
        "#         self.model = models.resnet50(pretrained=False)\n",
        "#         self.device = device\n",
        "#         path = '/content/drive/MyDrive/Shopee/resnet50-19c8e357.pth'\n",
        "#         self.model.load_state_dict(torch.load(path))\n",
        "# #         to freeze weights\n",
        "#         for param in self.model.parameters():\n",
        "#                 param.requires_grad = False\n",
        "#         self.model.to(device)\n",
        "\n",
        "# # reference: https://pytorch.org/vision/stable/transforms.html\n",
        "#     def transform(self, img):\n",
        "#         transform = torchvision.transforms.Compose([\n",
        "#             torchvision.transforms.Resize(512),\n",
        "#             torchvision.transforms.CenterCrop(224),\n",
        "#             torchvision.transforms.ToTensor(),\n",
        "#             torchvision.transforms.Normalize(\n",
        "#                 mean=[0.485, 0.456, 0.406],\n",
        "#                 std=[0.229, 0.224, 0.225]\n",
        "#             )\n",
        "#         ])\n",
        "#         return transform(img)\n",
        "\n",
        "#     def forward(self, img):\n",
        "#         img_tr = self.transform(img).unsqueeze(0)\n",
        "#         img_tr = img_tr.to(self.device)\n",
        "#         features = self.model(img_tr).squeeze()\n",
        "#         return features"
      ],
      "metadata": {
        "id": "FNhhO5oPST_a"
      },
      "execution_count": 8,
      "outputs": []
    },
    {
      "cell_type": "code",
      "source": [
        "# model_img = ResNetEmbedder('cuda' if torch.cuda.is_available() else 'cpu')\n",
        "# def vectorize_img(img_path):\n",
        "#     img = Image.open(img_path).convert('RGB')\n",
        "#     model_img.eval()\n",
        "#     with torch.no_grad():\n",
        "#         output = model_img(img).cpu().numpy()\n",
        "#     return output"
      ],
      "metadata": {
        "id": "it8hToZVSUBh"
      },
      "execution_count": 9,
      "outputs": []
    },
    {
      "cell_type": "code",
      "source": [
        "# import pickle\n",
        "\n",
        "# with open('/content/drive/MyDrive/Shopee/7_tfidf_final_v2.pkl', 'rb') as f:\n",
        "#     train_df = pickle.load(f)"
      ],
      "metadata": {
        "id": "dv73F7wMbbJS"
      },
      "execution_count": 8,
      "outputs": []
    },
    {
      "cell_type": "code",
      "source": [
        "# import pickle\n",
        "\n",
        "# with open('/content/drive/MyDrive/Shopee/rough.pkl', 'rb') as f:\n",
        "#     train_df_resnet = pickle.load(f)"
      ],
      "metadata": {
        "id": "HdeD3ILH4D0G"
      },
      "execution_count": 9,
      "outputs": []
    },
    {
      "cell_type": "code",
      "source": [
        "# train_df.resnet50_v = train_df_resnet.resnet50_v\n",
        "# train_df.preds_resnet = train_df_resnet.preds_resnet\n",
        "# train_df.f1_resnet = train_df_resnet.f1_resnet\n",
        "# train_df.precision_resnet = train_df_resnet.precision_resnet\n",
        "# train_df.recall_resnet = train_df_resnet.recall_resnet"
      ],
      "metadata": {
        "id": "bW1NY_qG4cEr"
      },
      "execution_count": 14,
      "outputs": []
    },
    {
      "cell_type": "code",
      "source": [
        "# train_df.to_pickle('7_tfidf_final_v3.pkl')"
      ],
      "metadata": {
        "id": "_ao6SYy24cGt"
      },
      "execution_count": 16,
      "outputs": []
    },
    {
      "cell_type": "code",
      "source": [
        "# %%time\n",
        "# train_df['resnet50_v'] = train_df['image'].progress_apply(lambda img_path: model_img.embed_image(path + 'train_images/' + img_path))"
      ],
      "metadata": {
        "id": "nCCpKrmb33D9"
      },
      "execution_count": null,
      "outputs": []
    },
    {
      "cell_type": "code",
      "source": [
        "# data = train_df[['posting_id', 'image', 'image_phash', 'title']].loc[[0]]"
      ],
      "metadata": {
        "id": "wCxMdPv1bvwc"
      },
      "execution_count": 8,
      "outputs": []
    },
    {
      "cell_type": "code",
      "source": [
        "# train_to_validate = train_df.loc[[30621]]\n",
        "train_to_validate = train_df.loc[[1971]]"
      ],
      "metadata": {
        "id": "AAyTlFsAsjxO"
      },
      "execution_count": 132,
      "outputs": []
    },
    {
      "cell_type": "code",
      "source": [
        "train_to_validate"
      ],
      "metadata": {
        "colab": {
          "base_uri": "https://localhost:8080/",
          "height": 261
        },
        "id": "IULjsxQRErf1",
        "outputId": "fbd07d45-bb4e-4fa6-a5f7-4c6ce3a81ad7"
      },
      "execution_count": 133,
      "outputs": [
        {
          "output_type": "execute_result",
          "data": {
            "text/plain": [
              "            posting_id                                 image  \\\n",
              "1971  train_1562723480  0f385bdac68a8f1bac5ebbf2d1a2bb26.jpg   \n",
              "\n",
              "           image_phash                                              title  \\\n",
              "1971  b934c6ce9ea1983c  Smart watch T80  waterproof bracelet watch Fit...   \n",
              "\n",
              "      label_group                                target  \\\n",
              "1971   3374933356  [train_1562723480, train_1010625996]   \n",
              "\n",
              "                                             resnet50_v        preds_resnet  \\\n",
              "1971  [-2.5425687, 0.2776151, -3.6940508, -3.698147,...  [train_1562723480]   \n",
              "\n",
              "                     oof        f1  ...  recall_concat         preds_phash  \\\n",
              "1971  [train_1562723480]  0.666667  ...            0.5  [train_1562723480]   \n",
              "\n",
              "             preds_tfidf  f1_tfidf  precision_tfidf recall_tfidf  \\\n",
              "1971  [train_1562723480]  0.666667              1.0          0.5   \n",
              "\n",
              "                 matches  f1_final precision_final  recall_final  \n",
              "1971  [train_1562723480]  0.666667             1.0           0.5  \n",
              "\n",
              "[1 rows x 36 columns]"
            ],
            "text/html": [
              "\n",
              "  <div id=\"df-81183bca-82c8-4ffb-8236-46d74c1a2d7c\">\n",
              "    <div class=\"colab-df-container\">\n",
              "      <div>\n",
              "<style scoped>\n",
              "    .dataframe tbody tr th:only-of-type {\n",
              "        vertical-align: middle;\n",
              "    }\n",
              "\n",
              "    .dataframe tbody tr th {\n",
              "        vertical-align: top;\n",
              "    }\n",
              "\n",
              "    .dataframe thead th {\n",
              "        text-align: right;\n",
              "    }\n",
              "</style>\n",
              "<table border=\"1\" class=\"dataframe\">\n",
              "  <thead>\n",
              "    <tr style=\"text-align: right;\">\n",
              "      <th></th>\n",
              "      <th>posting_id</th>\n",
              "      <th>image</th>\n",
              "      <th>image_phash</th>\n",
              "      <th>title</th>\n",
              "      <th>label_group</th>\n",
              "      <th>target</th>\n",
              "      <th>resnet50_v</th>\n",
              "      <th>preds_resnet</th>\n",
              "      <th>oof</th>\n",
              "      <th>f1</th>\n",
              "      <th>...</th>\n",
              "      <th>recall_concat</th>\n",
              "      <th>preds_phash</th>\n",
              "      <th>preds_tfidf</th>\n",
              "      <th>f1_tfidf</th>\n",
              "      <th>precision_tfidf</th>\n",
              "      <th>recall_tfidf</th>\n",
              "      <th>matches</th>\n",
              "      <th>f1_final</th>\n",
              "      <th>precision_final</th>\n",
              "      <th>recall_final</th>\n",
              "    </tr>\n",
              "  </thead>\n",
              "  <tbody>\n",
              "    <tr>\n",
              "      <th>1971</th>\n",
              "      <td>train_1562723480</td>\n",
              "      <td>0f385bdac68a8f1bac5ebbf2d1a2bb26.jpg</td>\n",
              "      <td>b934c6ce9ea1983c</td>\n",
              "      <td>Smart watch T80  waterproof bracelet watch Fit...</td>\n",
              "      <td>3374933356</td>\n",
              "      <td>[train_1562723480, train_1010625996]</td>\n",
              "      <td>[-2.5425687, 0.2776151, -3.6940508, -3.698147,...</td>\n",
              "      <td>[train_1562723480]</td>\n",
              "      <td>[train_1562723480]</td>\n",
              "      <td>0.666667</td>\n",
              "      <td>...</td>\n",
              "      <td>0.5</td>\n",
              "      <td>[train_1562723480]</td>\n",
              "      <td>[train_1562723480]</td>\n",
              "      <td>0.666667</td>\n",
              "      <td>1.0</td>\n",
              "      <td>0.5</td>\n",
              "      <td>[train_1562723480]</td>\n",
              "      <td>0.666667</td>\n",
              "      <td>1.0</td>\n",
              "      <td>0.5</td>\n",
              "    </tr>\n",
              "  </tbody>\n",
              "</table>\n",
              "<p>1 rows × 36 columns</p>\n",
              "</div>\n",
              "      <button class=\"colab-df-convert\" onclick=\"convertToInteractive('df-81183bca-82c8-4ffb-8236-46d74c1a2d7c')\"\n",
              "              title=\"Convert this dataframe to an interactive table.\"\n",
              "              style=\"display:none;\">\n",
              "        \n",
              "  <svg xmlns=\"http://www.w3.org/2000/svg\" height=\"24px\"viewBox=\"0 0 24 24\"\n",
              "       width=\"24px\">\n",
              "    <path d=\"M0 0h24v24H0V0z\" fill=\"none\"/>\n",
              "    <path d=\"M18.56 5.44l.94 2.06.94-2.06 2.06-.94-2.06-.94-.94-2.06-.94 2.06-2.06.94zm-11 1L8.5 8.5l.94-2.06 2.06-.94-2.06-.94L8.5 2.5l-.94 2.06-2.06.94zm10 10l.94 2.06.94-2.06 2.06-.94-2.06-.94-.94-2.06-.94 2.06-2.06.94z\"/><path d=\"M17.41 7.96l-1.37-1.37c-.4-.4-.92-.59-1.43-.59-.52 0-1.04.2-1.43.59L10.3 9.45l-7.72 7.72c-.78.78-.78 2.05 0 2.83L4 21.41c.39.39.9.59 1.41.59.51 0 1.02-.2 1.41-.59l7.78-7.78 2.81-2.81c.8-.78.8-2.07 0-2.86zM5.41 20L4 18.59l7.72-7.72 1.47 1.35L5.41 20z\"/>\n",
              "  </svg>\n",
              "      </button>\n",
              "      \n",
              "  <style>\n",
              "    .colab-df-container {\n",
              "      display:flex;\n",
              "      flex-wrap:wrap;\n",
              "      gap: 12px;\n",
              "    }\n",
              "\n",
              "    .colab-df-convert {\n",
              "      background-color: #E8F0FE;\n",
              "      border: none;\n",
              "      border-radius: 50%;\n",
              "      cursor: pointer;\n",
              "      display: none;\n",
              "      fill: #1967D2;\n",
              "      height: 32px;\n",
              "      padding: 0 0 0 0;\n",
              "      width: 32px;\n",
              "    }\n",
              "\n",
              "    .colab-df-convert:hover {\n",
              "      background-color: #E2EBFA;\n",
              "      box-shadow: 0px 1px 2px rgba(60, 64, 67, 0.3), 0px 1px 3px 1px rgba(60, 64, 67, 0.15);\n",
              "      fill: #174EA6;\n",
              "    }\n",
              "\n",
              "    [theme=dark] .colab-df-convert {\n",
              "      background-color: #3B4455;\n",
              "      fill: #D2E3FC;\n",
              "    }\n",
              "\n",
              "    [theme=dark] .colab-df-convert:hover {\n",
              "      background-color: #434B5C;\n",
              "      box-shadow: 0px 1px 3px 1px rgba(0, 0, 0, 0.15);\n",
              "      filter: drop-shadow(0px 1px 2px rgba(0, 0, 0, 0.3));\n",
              "      fill: #FFFFFF;\n",
              "    }\n",
              "  </style>\n",
              "\n",
              "      <script>\n",
              "        const buttonEl =\n",
              "          document.querySelector('#df-81183bca-82c8-4ffb-8236-46d74c1a2d7c button.colab-df-convert');\n",
              "        buttonEl.style.display =\n",
              "          google.colab.kernel.accessAllowed ? 'block' : 'none';\n",
              "\n",
              "        async function convertToInteractive(key) {\n",
              "          const element = document.querySelector('#df-81183bca-82c8-4ffb-8236-46d74c1a2d7c');\n",
              "          const dataTable =\n",
              "            await google.colab.kernel.invokeFunction('convertToInteractive',\n",
              "                                                     [key], {});\n",
              "          if (!dataTable) return;\n",
              "\n",
              "          const docLinkHtml = 'Like what you see? Visit the ' +\n",
              "            '<a target=\"_blank\" href=https://colab.research.google.com/notebooks/data_table.ipynb>data table notebook</a>'\n",
              "            + ' to learn more about interactive tables.';\n",
              "          element.innerHTML = '';\n",
              "          dataTable['output_type'] = 'display_data';\n",
              "          await google.colab.output.renderOutput(dataTable, element);\n",
              "          const docLink = document.createElement('div');\n",
              "          docLink.innerHTML = docLinkHtml;\n",
              "          element.appendChild(docLink);\n",
              "        }\n",
              "      </script>\n",
              "    </div>\n",
              "  </div>\n",
              "  "
            ]
          },
          "metadata": {},
          "execution_count": 133
        }
      ]
    },
    {
      "cell_type": "code",
      "source": [
        "train_to_validate.columns"
      ],
      "metadata": {
        "colab": {
          "base_uri": "https://localhost:8080/"
        },
        "id": "CZKuZZnFss74",
        "outputId": "c8178fdf-8079-4097-e50b-fa4c813d0179"
      },
      "execution_count": 134,
      "outputs": [
        {
          "output_type": "execute_result",
          "data": {
            "text/plain": [
              "Index(['posting_id', 'image', 'image_phash', 'title', 'label_group', 'target',\n",
              "       'resnet50_v', 'preds_resnet', 'oof', 'f1', 'precision', 'recall',\n",
              "       'f1_resnet', 'precision_resnet', 'recall_resnet', 'ind_sbert_v',\n",
              "       'preds_indoBERTbaseP2', 'sbert_v', 'preds_sbert', 'f1_sbert',\n",
              "       'precision_sbert', 'recall_sbert', 'concat_v', 'preds_concat',\n",
              "       'f1_concat', 'precision_concat', 'recall_concat', 'preds_phash',\n",
              "       'preds_tfidf', 'f1_tfidf', 'precision_tfidf', 'recall_tfidf', 'matches',\n",
              "       'f1_final', 'precision_final', 'recall_final'],\n",
              "      dtype='object')"
            ]
          },
          "metadata": {},
          "execution_count": 134
        }
      ]
    },
    {
      "cell_type": "code",
      "source": [
        "# data.head()"
      ],
      "metadata": {
        "id": "A2mb3BWArquR"
      },
      "execution_count": 135,
      "outputs": []
    },
    {
      "cell_type": "code",
      "source": [
        "data = pd.read_csv('test_v2.csv')\n",
        "data.head()"
      ],
      "metadata": {
        "id": "sLQgJM7inlyi",
        "colab": {
          "base_uri": "https://localhost:8080/",
          "height": 206
        },
        "outputId": "df56c7f8-1cf3-4e9a-8409-e0fea3e4c5b4"
      },
      "execution_count": 174,
      "outputs": [
        {
          "output_type": "execute_result",
          "data": {
            "text/plain": [
              "   posting_id       image    image_phash title\n",
              "0           1   mop_1.jpg  xxxxxxxxxxxxx    xx\n",
              "1           2   mop_2.jpg  xxxxxxxxxxxxx    xx\n",
              "2           3   mop_3.jpg  xxxxxxxxxxxxx    xx\n",
              "3           4   mop_4.jpg  xxxxxxxxxxxxx    xx\n",
              "4           5  watch1.jpg  xxxxxxxxxxxxx    xx"
            ],
            "text/html": [
              "\n",
              "  <div id=\"df-ba1030d4-a4f5-4647-9830-2246f0c6030e\">\n",
              "    <div class=\"colab-df-container\">\n",
              "      <div>\n",
              "<style scoped>\n",
              "    .dataframe tbody tr th:only-of-type {\n",
              "        vertical-align: middle;\n",
              "    }\n",
              "\n",
              "    .dataframe tbody tr th {\n",
              "        vertical-align: top;\n",
              "    }\n",
              "\n",
              "    .dataframe thead th {\n",
              "        text-align: right;\n",
              "    }\n",
              "</style>\n",
              "<table border=\"1\" class=\"dataframe\">\n",
              "  <thead>\n",
              "    <tr style=\"text-align: right;\">\n",
              "      <th></th>\n",
              "      <th>posting_id</th>\n",
              "      <th>image</th>\n",
              "      <th>image_phash</th>\n",
              "      <th>title</th>\n",
              "    </tr>\n",
              "  </thead>\n",
              "  <tbody>\n",
              "    <tr>\n",
              "      <th>0</th>\n",
              "      <td>1</td>\n",
              "      <td>mop_1.jpg</td>\n",
              "      <td>xxxxxxxxxxxxx</td>\n",
              "      <td>xx</td>\n",
              "    </tr>\n",
              "    <tr>\n",
              "      <th>1</th>\n",
              "      <td>2</td>\n",
              "      <td>mop_2.jpg</td>\n",
              "      <td>xxxxxxxxxxxxx</td>\n",
              "      <td>xx</td>\n",
              "    </tr>\n",
              "    <tr>\n",
              "      <th>2</th>\n",
              "      <td>3</td>\n",
              "      <td>mop_3.jpg</td>\n",
              "      <td>xxxxxxxxxxxxx</td>\n",
              "      <td>xx</td>\n",
              "    </tr>\n",
              "    <tr>\n",
              "      <th>3</th>\n",
              "      <td>4</td>\n",
              "      <td>mop_4.jpg</td>\n",
              "      <td>xxxxxxxxxxxxx</td>\n",
              "      <td>xx</td>\n",
              "    </tr>\n",
              "    <tr>\n",
              "      <th>4</th>\n",
              "      <td>5</td>\n",
              "      <td>watch1.jpg</td>\n",
              "      <td>xxxxxxxxxxxxx</td>\n",
              "      <td>xx</td>\n",
              "    </tr>\n",
              "  </tbody>\n",
              "</table>\n",
              "</div>\n",
              "      <button class=\"colab-df-convert\" onclick=\"convertToInteractive('df-ba1030d4-a4f5-4647-9830-2246f0c6030e')\"\n",
              "              title=\"Convert this dataframe to an interactive table.\"\n",
              "              style=\"display:none;\">\n",
              "        \n",
              "  <svg xmlns=\"http://www.w3.org/2000/svg\" height=\"24px\"viewBox=\"0 0 24 24\"\n",
              "       width=\"24px\">\n",
              "    <path d=\"M0 0h24v24H0V0z\" fill=\"none\"/>\n",
              "    <path d=\"M18.56 5.44l.94 2.06.94-2.06 2.06-.94-2.06-.94-.94-2.06-.94 2.06-2.06.94zm-11 1L8.5 8.5l.94-2.06 2.06-.94-2.06-.94L8.5 2.5l-.94 2.06-2.06.94zm10 10l.94 2.06.94-2.06 2.06-.94-2.06-.94-.94-2.06-.94 2.06-2.06.94z\"/><path d=\"M17.41 7.96l-1.37-1.37c-.4-.4-.92-.59-1.43-.59-.52 0-1.04.2-1.43.59L10.3 9.45l-7.72 7.72c-.78.78-.78 2.05 0 2.83L4 21.41c.39.39.9.59 1.41.59.51 0 1.02-.2 1.41-.59l7.78-7.78 2.81-2.81c.8-.78.8-2.07 0-2.86zM5.41 20L4 18.59l7.72-7.72 1.47 1.35L5.41 20z\"/>\n",
              "  </svg>\n",
              "      </button>\n",
              "      \n",
              "  <style>\n",
              "    .colab-df-container {\n",
              "      display:flex;\n",
              "      flex-wrap:wrap;\n",
              "      gap: 12px;\n",
              "    }\n",
              "\n",
              "    .colab-df-convert {\n",
              "      background-color: #E8F0FE;\n",
              "      border: none;\n",
              "      border-radius: 50%;\n",
              "      cursor: pointer;\n",
              "      display: none;\n",
              "      fill: #1967D2;\n",
              "      height: 32px;\n",
              "      padding: 0 0 0 0;\n",
              "      width: 32px;\n",
              "    }\n",
              "\n",
              "    .colab-df-convert:hover {\n",
              "      background-color: #E2EBFA;\n",
              "      box-shadow: 0px 1px 2px rgba(60, 64, 67, 0.3), 0px 1px 3px 1px rgba(60, 64, 67, 0.15);\n",
              "      fill: #174EA6;\n",
              "    }\n",
              "\n",
              "    [theme=dark] .colab-df-convert {\n",
              "      background-color: #3B4455;\n",
              "      fill: #D2E3FC;\n",
              "    }\n",
              "\n",
              "    [theme=dark] .colab-df-convert:hover {\n",
              "      background-color: #434B5C;\n",
              "      box-shadow: 0px 1px 3px 1px rgba(0, 0, 0, 0.15);\n",
              "      filter: drop-shadow(0px 1px 2px rgba(0, 0, 0, 0.3));\n",
              "      fill: #FFFFFF;\n",
              "    }\n",
              "  </style>\n",
              "\n",
              "      <script>\n",
              "        const buttonEl =\n",
              "          document.querySelector('#df-ba1030d4-a4f5-4647-9830-2246f0c6030e button.colab-df-convert');\n",
              "        buttonEl.style.display =\n",
              "          google.colab.kernel.accessAllowed ? 'block' : 'none';\n",
              "\n",
              "        async function convertToInteractive(key) {\n",
              "          const element = document.querySelector('#df-ba1030d4-a4f5-4647-9830-2246f0c6030e');\n",
              "          const dataTable =\n",
              "            await google.colab.kernel.invokeFunction('convertToInteractive',\n",
              "                                                     [key], {});\n",
              "          if (!dataTable) return;\n",
              "\n",
              "          const docLinkHtml = 'Like what you see? Visit the ' +\n",
              "            '<a target=\"_blank\" href=https://colab.research.google.com/notebooks/data_table.ipynb>data table notebook</a>'\n",
              "            + ' to learn more about interactive tables.';\n",
              "          element.innerHTML = '';\n",
              "          dataTable['output_type'] = 'display_data';\n",
              "          await google.colab.output.renderOutput(dataTable, element);\n",
              "          const docLink = document.createElement('div');\n",
              "          docLink.innerHTML = docLinkHtml;\n",
              "          element.appendChild(docLink);\n",
              "        }\n",
              "      </script>\n",
              "    </div>\n",
              "  </div>\n",
              "  "
            ]
          },
          "metadata": {},
          "execution_count": 174
        }
      ]
    },
    {
      "cell_type": "code",
      "source": [
        "data = data.loc[[7]]"
      ],
      "metadata": {
        "id": "srlTPn6nb02S"
      },
      "execution_count": 175,
      "outputs": []
    },
    {
      "cell_type": "code",
      "source": [
        "data"
      ],
      "metadata": {
        "colab": {
          "base_uri": "https://localhost:8080/",
          "height": 81
        },
        "id": "ujJGfqi5EHJ1",
        "outputId": "6aaae60e-6f9f-4ff7-f711-5fe53e771618"
      },
      "execution_count": 176,
      "outputs": [
        {
          "output_type": "execute_result",
          "data": {
            "text/plain": [
              "   posting_id       image    image_phash title\n",
              "7           8  watch4.jpg  xxxxxxxxxxxxx    xx"
            ],
            "text/html": [
              "\n",
              "  <div id=\"df-bf2738c8-cc87-4917-8e33-c7741bef6af6\">\n",
              "    <div class=\"colab-df-container\">\n",
              "      <div>\n",
              "<style scoped>\n",
              "    .dataframe tbody tr th:only-of-type {\n",
              "        vertical-align: middle;\n",
              "    }\n",
              "\n",
              "    .dataframe tbody tr th {\n",
              "        vertical-align: top;\n",
              "    }\n",
              "\n",
              "    .dataframe thead th {\n",
              "        text-align: right;\n",
              "    }\n",
              "</style>\n",
              "<table border=\"1\" class=\"dataframe\">\n",
              "  <thead>\n",
              "    <tr style=\"text-align: right;\">\n",
              "      <th></th>\n",
              "      <th>posting_id</th>\n",
              "      <th>image</th>\n",
              "      <th>image_phash</th>\n",
              "      <th>title</th>\n",
              "    </tr>\n",
              "  </thead>\n",
              "  <tbody>\n",
              "    <tr>\n",
              "      <th>7</th>\n",
              "      <td>8</td>\n",
              "      <td>watch4.jpg</td>\n",
              "      <td>xxxxxxxxxxxxx</td>\n",
              "      <td>xx</td>\n",
              "    </tr>\n",
              "  </tbody>\n",
              "</table>\n",
              "</div>\n",
              "      <button class=\"colab-df-convert\" onclick=\"convertToInteractive('df-bf2738c8-cc87-4917-8e33-c7741bef6af6')\"\n",
              "              title=\"Convert this dataframe to an interactive table.\"\n",
              "              style=\"display:none;\">\n",
              "        \n",
              "  <svg xmlns=\"http://www.w3.org/2000/svg\" height=\"24px\"viewBox=\"0 0 24 24\"\n",
              "       width=\"24px\">\n",
              "    <path d=\"M0 0h24v24H0V0z\" fill=\"none\"/>\n",
              "    <path d=\"M18.56 5.44l.94 2.06.94-2.06 2.06-.94-2.06-.94-.94-2.06-.94 2.06-2.06.94zm-11 1L8.5 8.5l.94-2.06 2.06-.94-2.06-.94L8.5 2.5l-.94 2.06-2.06.94zm10 10l.94 2.06.94-2.06 2.06-.94-2.06-.94-.94-2.06-.94 2.06-2.06.94z\"/><path d=\"M17.41 7.96l-1.37-1.37c-.4-.4-.92-.59-1.43-.59-.52 0-1.04.2-1.43.59L10.3 9.45l-7.72 7.72c-.78.78-.78 2.05 0 2.83L4 21.41c.39.39.9.59 1.41.59.51 0 1.02-.2 1.41-.59l7.78-7.78 2.81-2.81c.8-.78.8-2.07 0-2.86zM5.41 20L4 18.59l7.72-7.72 1.47 1.35L5.41 20z\"/>\n",
              "  </svg>\n",
              "      </button>\n",
              "      \n",
              "  <style>\n",
              "    .colab-df-container {\n",
              "      display:flex;\n",
              "      flex-wrap:wrap;\n",
              "      gap: 12px;\n",
              "    }\n",
              "\n",
              "    .colab-df-convert {\n",
              "      background-color: #E8F0FE;\n",
              "      border: none;\n",
              "      border-radius: 50%;\n",
              "      cursor: pointer;\n",
              "      display: none;\n",
              "      fill: #1967D2;\n",
              "      height: 32px;\n",
              "      padding: 0 0 0 0;\n",
              "      width: 32px;\n",
              "    }\n",
              "\n",
              "    .colab-df-convert:hover {\n",
              "      background-color: #E2EBFA;\n",
              "      box-shadow: 0px 1px 2px rgba(60, 64, 67, 0.3), 0px 1px 3px 1px rgba(60, 64, 67, 0.15);\n",
              "      fill: #174EA6;\n",
              "    }\n",
              "\n",
              "    [theme=dark] .colab-df-convert {\n",
              "      background-color: #3B4455;\n",
              "      fill: #D2E3FC;\n",
              "    }\n",
              "\n",
              "    [theme=dark] .colab-df-convert:hover {\n",
              "      background-color: #434B5C;\n",
              "      box-shadow: 0px 1px 3px 1px rgba(0, 0, 0, 0.15);\n",
              "      filter: drop-shadow(0px 1px 2px rgba(0, 0, 0, 0.3));\n",
              "      fill: #FFFFFF;\n",
              "    }\n",
              "  </style>\n",
              "\n",
              "      <script>\n",
              "        const buttonEl =\n",
              "          document.querySelector('#df-bf2738c8-cc87-4917-8e33-c7741bef6af6 button.colab-df-convert');\n",
              "        buttonEl.style.display =\n",
              "          google.colab.kernel.accessAllowed ? 'block' : 'none';\n",
              "\n",
              "        async function convertToInteractive(key) {\n",
              "          const element = document.querySelector('#df-bf2738c8-cc87-4917-8e33-c7741bef6af6');\n",
              "          const dataTable =\n",
              "            await google.colab.kernel.invokeFunction('convertToInteractive',\n",
              "                                                     [key], {});\n",
              "          if (!dataTable) return;\n",
              "\n",
              "          const docLinkHtml = 'Like what you see? Visit the ' +\n",
              "            '<a target=\"_blank\" href=https://colab.research.google.com/notebooks/data_table.ipynb>data table notebook</a>'\n",
              "            + ' to learn more about interactive tables.';\n",
              "          element.innerHTML = '';\n",
              "          dataTable['output_type'] = 'display_data';\n",
              "          await google.colab.output.renderOutput(dataTable, element);\n",
              "          const docLink = document.createElement('div');\n",
              "          docLink.innerHTML = docLinkHtml;\n",
              "          element.appendChild(docLink);\n",
              "        }\n",
              "      </script>\n",
              "    </div>\n",
              "  </div>\n",
              "  "
            ]
          },
          "metadata": {},
          "execution_count": 176
        }
      ]
    },
    {
      "cell_type": "code",
      "source": [
        "# data.preds_resnet.values[0]"
      ],
      "metadata": {
        "id": "V8a8HjHAPfcg"
      },
      "execution_count": 177,
      "outputs": []
    },
    {
      "cell_type": "code",
      "source": [
        "vectors = train_df.resnet50_v"
      ],
      "metadata": {
        "id": "kUpFuUx1pPaU"
      },
      "execution_count": 178,
      "outputs": []
    },
    {
      "cell_type": "code",
      "source": [
        "vectors"
      ],
      "metadata": {
        "colab": {
          "base_uri": "https://localhost:8080/"
        },
        "id": "PsrNAf7pUpln",
        "outputId": "3d348e33-9045-4ddd-9e62-ec4f72dd0cc5"
      },
      "execution_count": 179,
      "outputs": [
        {
          "output_type": "execute_result",
          "data": {
            "text/plain": [
              "0        [-2.1922166, 0.7773978, -1.108614, -2.5192137,...\n",
              "1        [-1.034856, 0.2791248, -1.2548816, -1.3825614,...\n",
              "2        [-1.4920533, 1.6365535, -4.9461446, -5.341603,...\n",
              "3        [-3.3702533, -0.7792417, -1.6157548, -3.642001...\n",
              "4        [-0.8642448, -0.5364889, -2.5898497, -1.380294...\n",
              "                               ...                        \n",
              "34245    [-1.672246, -0.03072636, -0.7509407, 1.1461804...\n",
              "34246    [-2.8293164, -0.09250227, -1.9903986, -3.07886...\n",
              "34247    [-1.748291, -1.6386198, 0.341978, -0.8806981, ...\n",
              "34248    [0.16756342, 1.360392, -1.521109, -2.4740274, ...\n",
              "34249    [-1.0102272, -2.0205235, -2.128541, -1.6373509...\n",
              "Name: resnet50_v, Length: 34250, dtype: object"
            ]
          },
          "metadata": {},
          "execution_count": 179
        }
      ]
    },
    {
      "cell_type": "code",
      "source": [
        "path = '/content/'\n",
        "# data['resnet_50_vector'] = data['image'].apply(lambda img_path: vectorize_img(path + 'train_images/' + img_path))\n",
        "\n",
        "# path = '/content/'\n",
        "data['resnet_50_vector'] = data['image'].apply(lambda img_path: model_img.embed_image(path + 'test_images/'+ img_path))"
      ],
      "metadata": {
        "id": "Qeb_mwBkSUDx"
      },
      "execution_count": 180,
      "outputs": []
    },
    {
      "cell_type": "code",
      "source": [
        "data['resnet_50_vector']"
      ],
      "metadata": {
        "colab": {
          "base_uri": "https://localhost:8080/"
        },
        "id": "OR4AAwNxD_qt",
        "outputId": "ade0c63b-d607-4821-e6e2-99a495e38e35"
      },
      "execution_count": 181,
      "outputs": [
        {
          "output_type": "execute_result",
          "data": {
            "text/plain": [
              "7    [-2.4264514, -1.1067599, -3.5683124, -3.888264...\n",
              "Name: resnet_50_vector, dtype: object"
            ]
          },
          "metadata": {},
          "execution_count": 181
        }
      ]
    },
    {
      "cell_type": "code",
      "source": [
        "data['resnet_50_vector'].values[0].shape"
      ],
      "metadata": {
        "colab": {
          "base_uri": "https://localhost:8080/"
        },
        "id": "FVn3QaVFSUF2",
        "outputId": "f337503c-5252-40e0-c31b-e2661a481561"
      },
      "execution_count": 182,
      "outputs": [
        {
          "output_type": "execute_result",
          "data": {
            "text/plain": [
              "(1000,)"
            ]
          },
          "metadata": {},
          "execution_count": 182
        }
      ]
    },
    {
      "cell_type": "code",
      "source": [
        "from sklearn.metrics.pairwise import cosine_similarity\n",
        "\n",
        "cosine_similarity([train_to_validate.resnet50_v.values[0]], [data.resnet_50_vector.values[0]])"
      ],
      "metadata": {
        "colab": {
          "base_uri": "https://localhost:8080/"
        },
        "id": "ZNFxR-W7cdP0",
        "outputId": "86764b8c-b7b9-4e52-8c56-1c0b39ba1436"
      },
      "execution_count": 183,
      "outputs": [
        {
          "output_type": "execute_result",
          "data": {
            "text/plain": [
              "array([[0.88173854]], dtype=float32)"
            ]
          },
          "metadata": {},
          "execution_count": 183
        }
      ]
    },
    {
      "cell_type": "code",
      "source": [
        "# normalize vectors\n",
        "import torch.nn.functional as F\n",
        "\n",
        "resnet_50_vector = np.stack(data.resnet_50_vector)\n",
        "resnet_50_vector = torch.Tensor(resnet_50_vector) #.to('cuda')\n",
        "resnet_50_vector = F.normalize(resnet_50_vector)\n",
        "\n",
        "vectors = np.stack(vectors)\n",
        "vectors = torch.Tensor(vectors) #.to('cuda')\n",
        "vectors = F.normalize(vectors)\n",
        "# vectors1 = vectors / np.linalg.norm(vectors)"
      ],
      "metadata": {
        "id": "zFy72837ldWj"
      },
      "execution_count": 184,
      "outputs": []
    },
    {
      "cell_type": "code",
      "source": [
        "cts = torch.matmul( resnet_50_vector, vectors.T).T\n",
        "cts = cts.cpu().numpy()"
      ],
      "metadata": {
        "id": "eJVXBUuSaR1N"
      },
      "execution_count": 124,
      "outputs": []
    },
    {
      "cell_type": "code",
      "source": [
        "cts"
      ],
      "metadata": {
        "colab": {
          "base_uri": "https://localhost:8080/"
        },
        "id": "DR8jrcd6n_3N",
        "outputId": "54fcd9a5-73a9-4b3a-f72e-bb21a84dfce1"
      },
      "execution_count": 125,
      "outputs": [
        {
          "output_type": "execute_result",
          "data": {
            "text/plain": [
              "array([[0.29132727],\n",
              "       [0.37440208],\n",
              "       [0.41467083],\n",
              "       ...,\n",
              "       [0.49391884],\n",
              "       [0.41647303],\n",
              "       [0.34438342]], dtype=float32)"
            ]
          },
          "metadata": {},
          "execution_count": 125
        }
      ]
    },
    {
      "cell_type": "code",
      "source": [
        "IDX = np.where(cts > 0.93)[0]"
      ],
      "metadata": {
        "id": "_rv7WUGuaXdw"
      },
      "execution_count": 126,
      "outputs": []
    },
    {
      "cell_type": "code",
      "source": [
        "IDX"
      ],
      "metadata": {
        "colab": {
          "base_uri": "https://localhost:8080/"
        },
        "id": "GpXNZrJBavGf",
        "outputId": "1b778688-b53c-44da-c91d-6b4f35d8eee4"
      },
      "execution_count": 127,
      "outputs": [
        {
          "output_type": "execute_result",
          "data": {
            "text/plain": [
              "array([30621])"
            ]
          },
          "metadata": {},
          "execution_count": 127
        }
      ]
    },
    {
      "cell_type": "code",
      "source": [
        "train_df.posting_id[IDX].values"
      ],
      "metadata": {
        "colab": {
          "base_uri": "https://localhost:8080/"
        },
        "id": "1CJK9_rXbOQI",
        "outputId": "69441ef8-c06c-4616-bd34-09e429ae7267"
      },
      "execution_count": 128,
      "outputs": [
        {
          "output_type": "execute_result",
          "data": {
            "text/plain": [
              "array(['train_1347656677'], dtype=object)"
            ]
          },
          "metadata": {},
          "execution_count": 128
        }
      ]
    },
    {
      "cell_type": "code",
      "source": [
        "# train_to_validate.preds_resnet.values"
      ],
      "metadata": {
        "id": "ISM7KWpc2AGP"
      },
      "execution_count": 129,
      "outputs": []
    },
    {
      "cell_type": "code",
      "source": [
        "# [x for x in train_df.posting_id[IDX]]"
      ],
      "metadata": {
        "id": "nuRYwJVM9Y_5"
      },
      "execution_count": 130,
      "outputs": []
    },
    {
      "cell_type": "code",
      "source": [
        "data['preds_resnet'] = [[x for x in train_df.posting_id[IDX]] for x in data.index]\n",
        "# data['preds_resnet'] = [pd.Series([x for x in train_df.posting_id[IDX].values])]"
      ],
      "metadata": {
        "id": "kLx1ZIdLvk-L"
      },
      "execution_count": 131,
      "outputs": []
    },
    {
      "cell_type": "code",
      "source": [
        "train_to_validate.preds_resnet"
      ],
      "metadata": {
        "colab": {
          "base_uri": "https://localhost:8080/"
        },
        "id": "wWkJ5NM29OOK",
        "outputId": "8b7e1410-e199-4b99-feda-6557254bbc24"
      },
      "execution_count": 50,
      "outputs": [
        {
          "output_type": "execute_result",
          "data": {
            "text/plain": [
              "30621    [train_1347656677]\n",
              "Name: preds_resnet, dtype: object"
            ]
          },
          "metadata": {},
          "execution_count": 50
        }
      ]
    },
    {
      "cell_type": "code",
      "source": [
        "data.head()"
      ],
      "metadata": {
        "colab": {
          "base_uri": "https://localhost:8080/",
          "height": 81
        },
        "id": "fEAqJWkrvzF6",
        "outputId": "8988b3c4-658b-424d-d8b7-60515818fd12"
      },
      "execution_count": 51,
      "outputs": [
        {
          "output_type": "execute_result",
          "data": {
            "text/plain": [
              "   posting_id      image    image_phash title  \\\n",
              "2           3  mop_3.jpg  xxxxxxxxxxxxx    xx   \n",
              "\n",
              "                                    resnet_50_vector  \\\n",
              "2  [-2.0975885, -1.1888644, 0.7897488, -1.6150753...   \n",
              "\n",
              "                           preds_resnet  \n",
              "2  [train_2406723712, train_1347656677]  "
            ],
            "text/html": [
              "\n",
              "  <div id=\"df-9d78e473-9b92-4c5a-9435-539a6957f06d\">\n",
              "    <div class=\"colab-df-container\">\n",
              "      <div>\n",
              "<style scoped>\n",
              "    .dataframe tbody tr th:only-of-type {\n",
              "        vertical-align: middle;\n",
              "    }\n",
              "\n",
              "    .dataframe tbody tr th {\n",
              "        vertical-align: top;\n",
              "    }\n",
              "\n",
              "    .dataframe thead th {\n",
              "        text-align: right;\n",
              "    }\n",
              "</style>\n",
              "<table border=\"1\" class=\"dataframe\">\n",
              "  <thead>\n",
              "    <tr style=\"text-align: right;\">\n",
              "      <th></th>\n",
              "      <th>posting_id</th>\n",
              "      <th>image</th>\n",
              "      <th>image_phash</th>\n",
              "      <th>title</th>\n",
              "      <th>resnet_50_vector</th>\n",
              "      <th>preds_resnet</th>\n",
              "    </tr>\n",
              "  </thead>\n",
              "  <tbody>\n",
              "    <tr>\n",
              "      <th>2</th>\n",
              "      <td>3</td>\n",
              "      <td>mop_3.jpg</td>\n",
              "      <td>xxxxxxxxxxxxx</td>\n",
              "      <td>xx</td>\n",
              "      <td>[-2.0975885, -1.1888644, 0.7897488, -1.6150753...</td>\n",
              "      <td>[train_2406723712, train_1347656677]</td>\n",
              "    </tr>\n",
              "  </tbody>\n",
              "</table>\n",
              "</div>\n",
              "      <button class=\"colab-df-convert\" onclick=\"convertToInteractive('df-9d78e473-9b92-4c5a-9435-539a6957f06d')\"\n",
              "              title=\"Convert this dataframe to an interactive table.\"\n",
              "              style=\"display:none;\">\n",
              "        \n",
              "  <svg xmlns=\"http://www.w3.org/2000/svg\" height=\"24px\"viewBox=\"0 0 24 24\"\n",
              "       width=\"24px\">\n",
              "    <path d=\"M0 0h24v24H0V0z\" fill=\"none\"/>\n",
              "    <path d=\"M18.56 5.44l.94 2.06.94-2.06 2.06-.94-2.06-.94-.94-2.06-.94 2.06-2.06.94zm-11 1L8.5 8.5l.94-2.06 2.06-.94-2.06-.94L8.5 2.5l-.94 2.06-2.06.94zm10 10l.94 2.06.94-2.06 2.06-.94-2.06-.94-.94-2.06-.94 2.06-2.06.94z\"/><path d=\"M17.41 7.96l-1.37-1.37c-.4-.4-.92-.59-1.43-.59-.52 0-1.04.2-1.43.59L10.3 9.45l-7.72 7.72c-.78.78-.78 2.05 0 2.83L4 21.41c.39.39.9.59 1.41.59.51 0 1.02-.2 1.41-.59l7.78-7.78 2.81-2.81c.8-.78.8-2.07 0-2.86zM5.41 20L4 18.59l7.72-7.72 1.47 1.35L5.41 20z\"/>\n",
              "  </svg>\n",
              "      </button>\n",
              "      \n",
              "  <style>\n",
              "    .colab-df-container {\n",
              "      display:flex;\n",
              "      flex-wrap:wrap;\n",
              "      gap: 12px;\n",
              "    }\n",
              "\n",
              "    .colab-df-convert {\n",
              "      background-color: #E8F0FE;\n",
              "      border: none;\n",
              "      border-radius: 50%;\n",
              "      cursor: pointer;\n",
              "      display: none;\n",
              "      fill: #1967D2;\n",
              "      height: 32px;\n",
              "      padding: 0 0 0 0;\n",
              "      width: 32px;\n",
              "    }\n",
              "\n",
              "    .colab-df-convert:hover {\n",
              "      background-color: #E2EBFA;\n",
              "      box-shadow: 0px 1px 2px rgba(60, 64, 67, 0.3), 0px 1px 3px 1px rgba(60, 64, 67, 0.15);\n",
              "      fill: #174EA6;\n",
              "    }\n",
              "\n",
              "    [theme=dark] .colab-df-convert {\n",
              "      background-color: #3B4455;\n",
              "      fill: #D2E3FC;\n",
              "    }\n",
              "\n",
              "    [theme=dark] .colab-df-convert:hover {\n",
              "      background-color: #434B5C;\n",
              "      box-shadow: 0px 1px 3px 1px rgba(0, 0, 0, 0.15);\n",
              "      filter: drop-shadow(0px 1px 2px rgba(0, 0, 0, 0.3));\n",
              "      fill: #FFFFFF;\n",
              "    }\n",
              "  </style>\n",
              "\n",
              "      <script>\n",
              "        const buttonEl =\n",
              "          document.querySelector('#df-9d78e473-9b92-4c5a-9435-539a6957f06d button.colab-df-convert');\n",
              "        buttonEl.style.display =\n",
              "          google.colab.kernel.accessAllowed ? 'block' : 'none';\n",
              "\n",
              "        async function convertToInteractive(key) {\n",
              "          const element = document.querySelector('#df-9d78e473-9b92-4c5a-9435-539a6957f06d');\n",
              "          const dataTable =\n",
              "            await google.colab.kernel.invokeFunction('convertToInteractive',\n",
              "                                                     [key], {});\n",
              "          if (!dataTable) return;\n",
              "\n",
              "          const docLinkHtml = 'Like what you see? Visit the ' +\n",
              "            '<a target=\"_blank\" href=https://colab.research.google.com/notebooks/data_table.ipynb>data table notebook</a>'\n",
              "            + ' to learn more about interactive tables.';\n",
              "          element.innerHTML = '';\n",
              "          dataTable['output_type'] = 'display_data';\n",
              "          await google.colab.output.renderOutput(dataTable, element);\n",
              "          const docLink = document.createElement('div');\n",
              "          docLink.innerHTML = docLinkHtml;\n",
              "          element.appendChild(docLink);\n",
              "        }\n",
              "      </script>\n",
              "    </div>\n",
              "  </div>\n",
              "  "
            ]
          },
          "metadata": {},
          "execution_count": 51
        }
      ]
    },
    {
      "cell_type": "code",
      "source": [
        "pd.Series(data.preds_resnet.values[0])"
      ],
      "metadata": {
        "colab": {
          "base_uri": "https://localhost:8080/"
        },
        "id": "yzrY4uYi9Hz5",
        "outputId": "7c545b50-f059-471a-9b75-8a878b3e0c3d"
      },
      "execution_count": 52,
      "outputs": [
        {
          "output_type": "execute_result",
          "data": {
            "text/plain": [
              "0    train_2406723712\n",
              "1    train_1347656677\n",
              "dtype: object"
            ]
          },
          "metadata": {},
          "execution_count": 52
        }
      ]
    },
    {
      "cell_type": "markdown",
      "source": [
        "## Bert Indo"
      ],
      "metadata": {
        "id": "R6YHitw6ceUd"
      }
    },
    {
      "cell_type": "code",
      "source": [
        "from transformers import AutoTokenizer, AutoModel\n",
        "\n",
        "class BERTIndEmbedder(nn.Module):\n",
        "\n",
        "    def __init__(self, device='cpu'):\n",
        "        super(BERTIndEmbedder, self).__init__()\n",
        "\n",
        "        # reference: https://indolem.github.io/IndoBERT/\n",
        "        self.model = AutoModel.from_pretrained(\"indolem/indobert-base-uncased\")\n",
        "\n",
        "#         to freeze weights\n",
        "        for param in self.model.parameters():\n",
        "                param.requires_grad = False\n",
        "        self.model.to(device)\n",
        "\n",
        "    def transform(self, txt):\n",
        "        # reference: https://indolem.github.io/IndoBERT/\n",
        "        tokenizer = AutoTokenizer.from_pretrained(\"indolem/indobert-base-uncased\")\n",
        "        encoded_input  = tokenizer.encode_plus( txt,\n",
        "                                                truncation=True,\n",
        "                                                max_length=128,\n",
        "                                                add_special_tokens=True,\n",
        "                                                padding=True,\n",
        "                                                return_tensors='pt').values()\n",
        "        return encoded_input\n",
        "\n",
        "    def mean_pooling(self, model_output, attention_mask):\n",
        "        token_embeddings = model_output[0]\n",
        "        input_mask_expanded = attention_mask.unsqueeze(-1).expand(token_embeddings.size()).float()\n",
        "        sum_embeddings = torch.sum(token_embeddings * input_mask_expanded, 1)\n",
        "        sum_mask = torch.clamp(input_mask_expanded.sum(1), min=1e-9)\n",
        "        return sum_embeddings / sum_mask\n",
        "\n",
        "    def forward(self, txt):\n",
        "        # inputs_ids, token_type_ids, attention_mask = self.transform(txt)\n",
        "        # inputs_ids, token_type_ids, attention_mask = inputs_ids.to('cuda'), \\\n",
        "        #                                         token_type_ids.to('cuda'), attention_mask.to('cuda')\n",
        "\n",
        "        inputs_ids, token_type_ids, attention_mask = self.transform(txt)\n",
        "        inputs_ids, token_type_ids, attention_mask = inputs_ids, \\\n",
        "                                                token_type_ids, attention_mask\n",
        "        with torch.no_grad():\n",
        "            encoded_layers = self.model(inputs_ids,\n",
        "                                        attention_mask=attention_mask,\n",
        "                                        token_type_ids=token_type_ids)\n",
        "        features = self.mean_pooling(encoded_layers, attention_mask)\n",
        "        return features"
      ],
      "metadata": {
        "id": "n0l1_RkLlR5A"
      },
      "execution_count": 53,
      "outputs": []
    },
    {
      "cell_type": "code",
      "source": [
        "ind_model_txt = BERTIndEmbedder('cpu')"
      ],
      "metadata": {
        "colab": {
          "base_uri": "https://localhost:8080/",
          "height": 153,
          "referenced_widgets": [
            "23b12dd6cdac40c8ab81c1150bb2a73c",
            "180417692d2a4f43a491ad56022c3fbe",
            "abe6d1b04fef46a49c99a43741562d57",
            "67a1fc03ea2f4fffa42efcf4ede1b445",
            "315b21cd7d3f40629d50f5c19b1ea60f",
            "6780f0ae60314727bd2756324c18302b",
            "e99b5ff04f1248e584c464cafc172d97",
            "e7c1f96e67684a26a25cf1c01a94566b",
            "ceca1b01c5f344aea6bd23de18609fc1",
            "063bfbdbf2ad40d4a57c3c149d93516d",
            "eebc6d96dfa64f7784f5d48718b42d53",
            "cd68f816138f4f01b5291e923cb48356",
            "21fb3dafbbb44726b44b4f138ae63967",
            "1add12e51c094d3687068100e88d7832",
            "647d97cafdaa4d778e078e973e95a612",
            "eafbe9101c0340c5812e1e662d2dae32",
            "a01ca6bfb7464f16955f06deef6d0550",
            "a2d854542aa842a8b6b4f91b7cdf136f",
            "a46a974c03384b25a65862aca576a899",
            "2af15717c3a941dba0bc841fbb953de2",
            "bf65d311377642e7b7cfbf3495aa25eb",
            "b02ff7bf00f841b8a856723979c8082e"
          ]
        },
        "id": "YU23MOlmlR7F",
        "outputId": "efb55df0-b8b5-4ffb-b370-6eb7864d4f87"
      },
      "execution_count": 54,
      "outputs": [
        {
          "output_type": "display_data",
          "data": {
            "text/plain": [
              "Downloading (…)lve/main/config.json:   0%|          | 0.00/1.01k [00:00<?, ?B/s]"
            ],
            "application/vnd.jupyter.widget-view+json": {
              "version_major": 2,
              "version_minor": 0,
              "model_id": "23b12dd6cdac40c8ab81c1150bb2a73c"
            }
          },
          "metadata": {}
        },
        {
          "output_type": "display_data",
          "data": {
            "text/plain": [
              "Downloading pytorch_model.bin:   0%|          | 0.00/445M [00:00<?, ?B/s]"
            ],
            "application/vnd.jupyter.widget-view+json": {
              "version_major": 2,
              "version_minor": 0,
              "model_id": "cd68f816138f4f01b5291e923cb48356"
            }
          },
          "metadata": {}
        },
        {
          "output_type": "stream",
          "name": "stderr",
          "text": [
            "Some weights of the model checkpoint at indolem/indobert-base-uncased were not used when initializing BertModel: ['cls.predictions.transform.LayerNorm.bias', 'cls.predictions.decoder.weight', 'cls.predictions.transform.dense.weight', 'cls.predictions.transform.dense.bias', 'cls.predictions.bias', 'cls.predictions.decoder.bias', 'cls.predictions.transform.LayerNorm.weight']\n",
            "- This IS expected if you are initializing BertModel from the checkpoint of a model trained on another task or with another architecture (e.g. initializing a BertForSequenceClassification model from a BertForPreTraining model).\n",
            "- This IS NOT expected if you are initializing BertModel from the checkpoint of a model that you expect to be exactly identical (initializing a BertForSequenceClassification model from a BertForSequenceClassification model).\n"
          ]
        }
      ]
    },
    {
      "cell_type": "code",
      "source": [
        "def vectorize_txt(txt):\n",
        "  ind_model_txt.eval()\n",
        "  with torch.no_grad():\n",
        "      output = ind_model_txt(txt).cpu().numpy()\n",
        "  return output"
      ],
      "metadata": {
        "id": "s_kVwul2-dck"
      },
      "execution_count": 55,
      "outputs": []
    },
    {
      "cell_type": "code",
      "source": [
        "data['indo_bert_v'] = data['title'].apply(lambda x: vectorize_txt(x))"
      ],
      "metadata": {
        "id": "5ODd6lyn-_RK",
        "colab": {
          "base_uri": "https://localhost:8080/",
          "height": 145,
          "referenced_widgets": [
            "6436a0d00aec49fa8eda8fa41c00e42c",
            "fbd32f0a889e48728b1e78a8de65e010",
            "70aec842fe6149b5b0eb87ddebee6a5c",
            "e1ec36b385ea4a17aa3b84e59a6a89f6",
            "4ac176778cf84c43884d0390e997dbe5",
            "1071c2c58bdf4ad98789cf3842c12741",
            "666b141936c449ff9d88611ec3e13d35",
            "1daa34dbdbff456aba1ee7dd8cf94b60",
            "70c18e4265d64c0084774586e37f586b",
            "971c7e1fb2bc4d96abe0939f00374c3f",
            "c982ef08d77f45bfa51d39a84435c32b",
            "21250fc016844ff0ac93e36bddc522bc",
            "0a9d3feff75b44bda63b742af28a3be9",
            "65a2522c034c42db9025031b18872e40",
            "fa759c60fc484642a7943fbf80bdbb85",
            "6f7c58fa25e84c029727df667e7625e1",
            "887e40bc8ebd4271a042d10c1983eeb2",
            "a3552f84d85b4160a03a18eb23dd51f1",
            "03526cc6d08a4477bf4091e0382ab1ab",
            "884b09575be2449fbed2623e8d97ef38",
            "b3928637c16c44babbe68833308bd77f",
            "6753561d76fc4c28bcdeab824026ffa0",
            "cfcd7ffb8161439b921412d0f775cd24",
            "b980dae46099486496f12961adbf8763",
            "f0f3d3ab28f4473899d885169936c9c6",
            "62d6201e8d484eb9abba24d6564e6e72",
            "8af9d4ea336f4073b5cc2cbd7118321c",
            "010625659e744165b88b7268947ac36a",
            "203d82fb13be45acbfa63b95818b7ad5",
            "e3967f9d3456449b9298145feef1f1c1",
            "d880377dfb4b42e6ab7553c727e245c0",
            "bbc2514eb4934950ac4c914cea116dd1",
            "ad23434d0a2c421faba71832d4bef26c",
            "128cad5d2bf047deb2f0ac2a054f62a1",
            "586f62497a06496185bf22414b357482",
            "5235cc96aab24f2cb81881760b4a7f57",
            "8ba2ed2107c24a918ad8169f9b1614fd",
            "5215e4dc788b44b980c797d69581c013",
            "778b1eaeedcb4b218277cfc406965a00",
            "7e09c28ab86a4bf088f469499f135133",
            "6a33eb7e463042efbb0f099c296927d3",
            "4acba239369741ab919571088d4c1273",
            "9c74c2eb41ca4bcd94d84931f1255675",
            "53642b849a0546ef98621ab7f0d22b89"
          ]
        },
        "outputId": "50f98f58-0bb1-4ef7-bb04-9f3716ebc461"
      },
      "execution_count": 56,
      "outputs": [
        {
          "output_type": "display_data",
          "data": {
            "text/plain": [
              "Downloading (…)okenizer_config.json:   0%|          | 0.00/42.0 [00:00<?, ?B/s]"
            ],
            "application/vnd.jupyter.widget-view+json": {
              "version_major": 2,
              "version_minor": 0,
              "model_id": "6436a0d00aec49fa8eda8fa41c00e42c"
            }
          },
          "metadata": {}
        },
        {
          "output_type": "display_data",
          "data": {
            "text/plain": [
              "Downloading (…)solve/main/vocab.txt:   0%|          | 0.00/234k [00:00<?, ?B/s]"
            ],
            "application/vnd.jupyter.widget-view+json": {
              "version_major": 2,
              "version_minor": 0,
              "model_id": "21250fc016844ff0ac93e36bddc522bc"
            }
          },
          "metadata": {}
        },
        {
          "output_type": "display_data",
          "data": {
            "text/plain": [
              "Downloading (…)in/added_tokens.json:   0%|          | 0.00/2.00 [00:00<?, ?B/s]"
            ],
            "application/vnd.jupyter.widget-view+json": {
              "version_major": 2,
              "version_minor": 0,
              "model_id": "cfcd7ffb8161439b921412d0f775cd24"
            }
          },
          "metadata": {}
        },
        {
          "output_type": "display_data",
          "data": {
            "text/plain": [
              "Downloading (…)cial_tokens_map.json:   0%|          | 0.00/112 [00:00<?, ?B/s]"
            ],
            "application/vnd.jupyter.widget-view+json": {
              "version_major": 2,
              "version_minor": 0,
              "model_id": "128cad5d2bf047deb2f0ac2a054f62a1"
            }
          },
          "metadata": {}
        }
      ]
    },
    {
      "cell_type": "code",
      "source": [
        "from sklearn.metrics.pairwise import cosine_similarity\n",
        "\n",
        "cosine_similarity([train_to_validate.ind_sbert_v.values[0][0]], [data.indo_bert_v.values[0][0]])"
      ],
      "metadata": {
        "colab": {
          "base_uri": "https://localhost:8080/"
        },
        "id": "uJZfxQ7AA7WU",
        "outputId": "1feb1d0d-0745-4014-9c30-0e88f282199d"
      },
      "execution_count": 57,
      "outputs": [
        {
          "output_type": "execute_result",
          "data": {
            "text/plain": [
              "array([[0.37884572]], dtype=float32)"
            ]
          },
          "metadata": {},
          "execution_count": 57
        }
      ]
    },
    {
      "cell_type": "code",
      "source": [
        "indo_bert_v = np.stack(data.indo_bert_v.values[0])\n",
        "indo_bert_v = torch.Tensor(indo_bert_v) #.to('cuda')\n",
        "indo_bert_v = F.normalize(indo_bert_v)\n",
        "\n",
        "vectors1 = np.stack(train_df.ind_sbert_v).squeeze(1)\n",
        "vectors1 = torch.Tensor(vectors1) #.to('cuda')\n",
        "vectors1 = F.normalize(vectors1)"
      ],
      "metadata": {
        "id": "qIhU4ImT-pmA"
      },
      "execution_count": 58,
      "outputs": []
    },
    {
      "cell_type": "code",
      "source": [
        "cts_indo_bert = torch.matmul( indo_bert_v, vectors1.T).T\n",
        "cts_indo_bert = cts_indo_bert.cpu().numpy()"
      ],
      "metadata": {
        "id": "iPcoRqJHbltU"
      },
      "execution_count": 59,
      "outputs": []
    },
    {
      "cell_type": "code",
      "source": [
        "IDX_indo_bert = np.where(cts_indo_bert > 0.88)[0]\n",
        "train_df.posting_id[IDX_indo_bert].values"
      ],
      "metadata": {
        "colab": {
          "base_uri": "https://localhost:8080/"
        },
        "id": "i6t-sO8cb891",
        "outputId": "239bf137-bc9c-4dd2-fe62-e35c9e8422ae"
      },
      "execution_count": 60,
      "outputs": [
        {
          "output_type": "execute_result",
          "data": {
            "text/plain": [
              "array([], dtype=object)"
            ]
          },
          "metadata": {},
          "execution_count": 60
        }
      ]
    },
    {
      "cell_type": "code",
      "source": [
        "data['preds_indoBERTbaseP2'] = [[x for x in train_df.posting_id[IDX_indo_bert]] for x in data.index]\n",
        "# data['preds_indoBERTbaseP2'] = train_df.posting_id[IDX_indo_bert]"
      ],
      "metadata": {
        "id": "XYAz8QPHxvPa"
      },
      "execution_count": 61,
      "outputs": []
    },
    {
      "cell_type": "code",
      "source": [
        "IDX_indo_bert"
      ],
      "metadata": {
        "colab": {
          "base_uri": "https://localhost:8080/"
        },
        "id": "43fQAnBfiSft",
        "outputId": "b6a72807-6884-4727-cac6-2a8e02b2e5aa"
      },
      "execution_count": 62,
      "outputs": [
        {
          "output_type": "execute_result",
          "data": {
            "text/plain": [
              "array([], dtype=int64)"
            ]
          },
          "metadata": {},
          "execution_count": 62
        }
      ]
    },
    {
      "cell_type": "code",
      "source": [
        "train_to_validate.preds_indoBERTbaseP2.values"
      ],
      "metadata": {
        "colab": {
          "base_uri": "https://localhost:8080/"
        },
        "id": "Ry5w-7S3-6-p",
        "outputId": "11801259-6829-40fd-a527-8e933adf28e2"
      },
      "execution_count": 63,
      "outputs": [
        {
          "output_type": "execute_result",
          "data": {
            "text/plain": [
              "array([array(['train_1347656677'], dtype=object)], dtype=object)"
            ]
          },
          "metadata": {},
          "execution_count": 63
        }
      ]
    },
    {
      "cell_type": "code",
      "source": [
        "# go ahead with normal BERT\n",
        "\n",
        "from transformers import AutoTokenizer, AutoModel\n",
        "from transformers import BertTokenizer, BertModel\n",
        "\n",
        "class BERTEmbedder2(nn.Module):\n",
        "\n",
        "    def __init__(self, device='cpu'):\n",
        "        super(BERTEmbedder2, self).__init__()\n",
        "        self.bert_path = \"/content/drive/MyDrive/Shopee/sentence-transformer\"\n",
        "        self.model = BertModel.from_pretrained(self.bert_path)\n",
        "\n",
        "#         to freeze weights\n",
        "        for param in self.model.parameters():\n",
        "                param.requires_grad = False\n",
        "        self.model.to(device)\n",
        "\n",
        "    def transform(self, txt):\n",
        "        tokenizer = BertTokenizer.from_pretrained(self.bert_path)\n",
        "        encoded_input  = tokenizer.encode_plus( txt,\n",
        "                                                truncation=True,\n",
        "                                                max_length=128,\n",
        "                                                add_special_tokens=True,\n",
        "                                                padding=True,\n",
        "                                                return_tensors='pt').values()\n",
        "        return encoded_input\n",
        "\n",
        "    def mean_pooling(self, model_output, attention_mask):\n",
        "        token_embeddings = model_output[0]\n",
        "        input_mask_expanded = attention_mask.unsqueeze(-1).expand(token_embeddings.size()).float()\n",
        "        sum_embeddings = torch.sum(token_embeddings * input_mask_expanded, 1)\n",
        "        sum_mask = torch.clamp(input_mask_expanded.sum(1), min=1e-9)\n",
        "        return sum_embeddings / sum_mask\n",
        "\n",
        "    def forward(self, txt):\n",
        "        inputs_ids, token_type_ids, attention_mask = self.transform(txt)\n",
        "        inputs_ids, token_type_ids, attention_mask = inputs_ids, \\\n",
        "                                                token_type_ids, attention_mask\n",
        "        # inputs_ids, token_type_ids, attention_mask = self.transform(txt)\n",
        "        # inputs_ids, token_type_ids, attention_mask = inputs_ids.to('cuda'), \\\n",
        "        #                                         token_type_ids.to('cuda'), attention_mask.to('cuda')\n",
        "        with torch.no_grad():\n",
        "            encoded_layers = self.model(inputs_ids,\n",
        "                                        attention_mask=attention_mask,\n",
        "                                        token_type_ids=token_type_ids)\n",
        "        features = self.mean_pooling(encoded_layers, attention_mask)\n",
        "        return features"
      ],
      "metadata": {
        "id": "KTgxnvRE-7A9"
      },
      "execution_count": 64,
      "outputs": []
    },
    {
      "cell_type": "code",
      "source": [
        "model_txt_en = BERTEmbedder2('cpu')"
      ],
      "metadata": {
        "id": "_1XSYZiO81jt"
      },
      "execution_count": 65,
      "outputs": []
    },
    {
      "cell_type": "code",
      "source": [
        "def vectorize_txt_en(txt):\n",
        "    model_txt_en.eval()\n",
        "    with torch.no_grad():\n",
        "        output = model_txt_en(txt).cpu().numpy()\n",
        "    return output"
      ],
      "metadata": {
        "id": "4W1fgixs9Aiq"
      },
      "execution_count": 66,
      "outputs": []
    },
    {
      "cell_type": "code",
      "source": [
        "data['bert_v'] = data['title'].apply(lambda x: vectorize_txt_en(x))"
      ],
      "metadata": {
        "id": "qpTetXgi9Gc0"
      },
      "execution_count": 67,
      "outputs": []
    },
    {
      "cell_type": "code",
      "source": [
        "from sklearn.metrics.pairwise import cosine_similarity\n",
        "\n",
        "cosine_similarity([train_to_validate.sbert_v.values[0][0]], [data.bert_v.values[0][0]])"
      ],
      "metadata": {
        "colab": {
          "base_uri": "https://localhost:8080/"
        },
        "id": "8OAGArWZ9Ldt",
        "outputId": "1795efeb-ef9f-4398-cfe4-855c20c9ff7f"
      },
      "execution_count": 68,
      "outputs": [
        {
          "output_type": "execute_result",
          "data": {
            "text/plain": [
              "array([[0.36290926]], dtype=float32)"
            ]
          },
          "metadata": {},
          "execution_count": 68
        }
      ]
    },
    {
      "cell_type": "code",
      "source": [
        "bert_v = np.stack(data.bert_v.values[0])\n",
        "bert_v = torch.Tensor(bert_v) #.to('cuda')\n",
        "bert_v = F.normalize(bert_v)\n",
        "\n",
        "vectors2 = np.stack(train_df.sbert_v).squeeze(1)\n",
        "vectors2 = torch.Tensor(vectors2) #.to('cuda')\n",
        "vectors2 = F.normalize(vectors2)"
      ],
      "metadata": {
        "id": "xC6LX56vcX6D"
      },
      "execution_count": 69,
      "outputs": []
    },
    {
      "cell_type": "code",
      "source": [
        "cts_bert = torch.matmul( bert_v, vectors2.T).T\n",
        "cts_bert = cts_bert.cpu().numpy()"
      ],
      "metadata": {
        "id": "ERKWYNwLcYPG"
      },
      "execution_count": 70,
      "outputs": []
    },
    {
      "cell_type": "code",
      "source": [
        "IDX_bert = np.where(cts_bert > 0.92)[0]\n",
        "train_df.posting_id[IDX_bert].values"
      ],
      "metadata": {
        "colab": {
          "base_uri": "https://localhost:8080/"
        },
        "id": "HXA4JsM9cvGR",
        "outputId": "98c397e7-3ba8-4694-87e2-4ac0ee562d59"
      },
      "execution_count": 71,
      "outputs": [
        {
          "output_type": "execute_result",
          "data": {
            "text/plain": [
              "array([], dtype=object)"
            ]
          },
          "metadata": {},
          "execution_count": 71
        }
      ]
    },
    {
      "cell_type": "code",
      "source": [
        "data['preds_sbert'] = [[x for x in train_df.posting_id[IDX_bert]] for x in data.index]\n",
        "# data['preds_sbert'] = train_df.posting_id[IDX_bert]"
      ],
      "metadata": {
        "id": "FvW6jaPlx8c3"
      },
      "execution_count": 72,
      "outputs": []
    },
    {
      "cell_type": "code",
      "source": [
        "train_to_validate.preds_sbert.values"
      ],
      "metadata": {
        "colab": {
          "base_uri": "https://localhost:8080/"
        },
        "id": "dTSYZoFmdSRt",
        "outputId": "1043940d-4140-4a40-8bd6-e0d910b94dfe"
      },
      "execution_count": 73,
      "outputs": [
        {
          "output_type": "execute_result",
          "data": {
            "text/plain": [
              "array([array(['train_1347656677'], dtype=object)], dtype=object)"
            ]
          },
          "metadata": {},
          "execution_count": 73
        }
      ]
    },
    {
      "cell_type": "code",
      "source": [
        "data.columns"
      ],
      "metadata": {
        "colab": {
          "base_uri": "https://localhost:8080/"
        },
        "id": "fHaRyT-tuYYE",
        "outputId": "cd2e60b9-e506-4506-af24-d2a2bf8082f0"
      },
      "execution_count": 74,
      "outputs": [
        {
          "output_type": "execute_result",
          "data": {
            "text/plain": [
              "Index(['posting_id', 'image', 'image_phash', 'title', 'resnet_50_vector',\n",
              "       'preds_resnet', 'indo_bert_v', 'preds_indoBERTbaseP2', 'bert_v',\n",
              "       'preds_sbert'],\n",
              "      dtype='object')"
            ]
          },
          "metadata": {},
          "execution_count": 74
        }
      ]
    },
    {
      "cell_type": "code",
      "source": [
        "train_to_validate.columns"
      ],
      "metadata": {
        "colab": {
          "base_uri": "https://localhost:8080/"
        },
        "id": "7ESFH5L3urv_",
        "outputId": "e324cde4-013f-499e-8001-cd7aca27ee2f"
      },
      "execution_count": 75,
      "outputs": [
        {
          "output_type": "execute_result",
          "data": {
            "text/plain": [
              "Index(['posting_id', 'image', 'image_phash', 'title', 'label_group', 'target',\n",
              "       'resnet50_v', 'preds_resnet', 'oof', 'f1', 'precision', 'recall',\n",
              "       'f1_resnet', 'precision_resnet', 'recall_resnet', 'ind_sbert_v',\n",
              "       'preds_indoBERTbaseP2', 'sbert_v', 'preds_sbert', 'f1_sbert',\n",
              "       'precision_sbert', 'recall_sbert', 'concat_v', 'preds_concat',\n",
              "       'f1_concat', 'precision_concat', 'recall_concat', 'preds_phash',\n",
              "       'preds_tfidf', 'f1_tfidf', 'precision_tfidf', 'recall_tfidf', 'matches',\n",
              "       'f1_final', 'precision_final', 'recall_final'],\n",
              "      dtype='object')"
            ]
          },
          "metadata": {},
          "execution_count": 75
        }
      ]
    },
    {
      "cell_type": "code",
      "source": [
        "def concat():\n",
        "    def cat(row):\n",
        "        comm = np.concatenate([row.resnet50_v, row.ind_sbert_v.squeeze(), row.sbert_v.squeeze()])\n",
        "        return comm\n",
        "    return cat\n",
        "\n",
        "def concat_test():\n",
        "    def cat(row):\n",
        "        comm = np.concatenate([row.resnet_50_vector, row.indo_bert_v.squeeze(), row.bert_v.squeeze()])\n",
        "        return comm\n",
        "    return cat"
      ],
      "metadata": {
        "id": "LDojSmf89pfq"
      },
      "execution_count": 76,
      "outputs": []
    },
    {
      "cell_type": "code",
      "source": [
        "train_df['concat_v'] = train_df.apply(concat(), axis=1)"
      ],
      "metadata": {
        "id": "8qPY25e6BT5x"
      },
      "execution_count": 77,
      "outputs": []
    },
    {
      "cell_type": "code",
      "source": [
        "vectors = np.stack(train_df['concat_v'])"
      ],
      "metadata": {
        "id": "QVNp7ZaqPzqf"
      },
      "execution_count": 78,
      "outputs": []
    },
    {
      "cell_type": "code",
      "source": [
        "concat_v = data.apply(concat_test(), axis=1)\n",
        "concat_v = np.stack(concat_v)"
      ],
      "metadata": {
        "id": "gGH748Ui-OuF"
      },
      "execution_count": 79,
      "outputs": []
    },
    {
      "cell_type": "code",
      "source": [
        "from sklearn.neighbors import NearestNeighbors\n",
        "KNN = 50\n",
        "model = NearestNeighbors(n_neighbors=KNN)\n",
        "model.fit(vectors)"
      ],
      "metadata": {
        "colab": {
          "base_uri": "https://localhost:8080/",
          "height": 75
        },
        "id": "QiIzcisT-Ox3",
        "outputId": "3bafc516-4535-4f12-8a39-ac04af697df2"
      },
      "execution_count": 80,
      "outputs": [
        {
          "output_type": "execute_result",
          "data": {
            "text/plain": [
              "NearestNeighbors(n_neighbors=50)"
            ],
            "text/html": [
              "<style>#sk-container-id-1 {color: black;background-color: white;}#sk-container-id-1 pre{padding: 0;}#sk-container-id-1 div.sk-toggleable {background-color: white;}#sk-container-id-1 label.sk-toggleable__label {cursor: pointer;display: block;width: 100%;margin-bottom: 0;padding: 0.3em;box-sizing: border-box;text-align: center;}#sk-container-id-1 label.sk-toggleable__label-arrow:before {content: \"▸\";float: left;margin-right: 0.25em;color: #696969;}#sk-container-id-1 label.sk-toggleable__label-arrow:hover:before {color: black;}#sk-container-id-1 div.sk-estimator:hover label.sk-toggleable__label-arrow:before {color: black;}#sk-container-id-1 div.sk-toggleable__content {max-height: 0;max-width: 0;overflow: hidden;text-align: left;background-color: #f0f8ff;}#sk-container-id-1 div.sk-toggleable__content pre {margin: 0.2em;color: black;border-radius: 0.25em;background-color: #f0f8ff;}#sk-container-id-1 input.sk-toggleable__control:checked~div.sk-toggleable__content {max-height: 200px;max-width: 100%;overflow: auto;}#sk-container-id-1 input.sk-toggleable__control:checked~label.sk-toggleable__label-arrow:before {content: \"▾\";}#sk-container-id-1 div.sk-estimator input.sk-toggleable__control:checked~label.sk-toggleable__label {background-color: #d4ebff;}#sk-container-id-1 div.sk-label input.sk-toggleable__control:checked~label.sk-toggleable__label {background-color: #d4ebff;}#sk-container-id-1 input.sk-hidden--visually {border: 0;clip: rect(1px 1px 1px 1px);clip: rect(1px, 1px, 1px, 1px);height: 1px;margin: -1px;overflow: hidden;padding: 0;position: absolute;width: 1px;}#sk-container-id-1 div.sk-estimator {font-family: monospace;background-color: #f0f8ff;border: 1px dotted black;border-radius: 0.25em;box-sizing: border-box;margin-bottom: 0.5em;}#sk-container-id-1 div.sk-estimator:hover {background-color: #d4ebff;}#sk-container-id-1 div.sk-parallel-item::after {content: \"\";width: 100%;border-bottom: 1px solid gray;flex-grow: 1;}#sk-container-id-1 div.sk-label:hover label.sk-toggleable__label {background-color: #d4ebff;}#sk-container-id-1 div.sk-serial::before {content: \"\";position: absolute;border-left: 1px solid gray;box-sizing: border-box;top: 0;bottom: 0;left: 50%;z-index: 0;}#sk-container-id-1 div.sk-serial {display: flex;flex-direction: column;align-items: center;background-color: white;padding-right: 0.2em;padding-left: 0.2em;position: relative;}#sk-container-id-1 div.sk-item {position: relative;z-index: 1;}#sk-container-id-1 div.sk-parallel {display: flex;align-items: stretch;justify-content: center;background-color: white;position: relative;}#sk-container-id-1 div.sk-item::before, #sk-container-id-1 div.sk-parallel-item::before {content: \"\";position: absolute;border-left: 1px solid gray;box-sizing: border-box;top: 0;bottom: 0;left: 50%;z-index: -1;}#sk-container-id-1 div.sk-parallel-item {display: flex;flex-direction: column;z-index: 1;position: relative;background-color: white;}#sk-container-id-1 div.sk-parallel-item:first-child::after {align-self: flex-end;width: 50%;}#sk-container-id-1 div.sk-parallel-item:last-child::after {align-self: flex-start;width: 50%;}#sk-container-id-1 div.sk-parallel-item:only-child::after {width: 0;}#sk-container-id-1 div.sk-dashed-wrapped {border: 1px dashed gray;margin: 0 0.4em 0.5em 0.4em;box-sizing: border-box;padding-bottom: 0.4em;background-color: white;}#sk-container-id-1 div.sk-label label {font-family: monospace;font-weight: bold;display: inline-block;line-height: 1.2em;}#sk-container-id-1 div.sk-label-container {text-align: center;}#sk-container-id-1 div.sk-container {/* jupyter's `normalize.less` sets `[hidden] { display: none; }` but bootstrap.min.css set `[hidden] { display: none !important; }` so we also need the `!important` here to be able to override the default hidden behavior on the sphinx rendered scikit-learn.org. See: https://github.com/scikit-learn/scikit-learn/issues/21755 */display: inline-block !important;position: relative;}#sk-container-id-1 div.sk-text-repr-fallback {display: none;}</style><div id=\"sk-container-id-1\" class=\"sk-top-container\"><div class=\"sk-text-repr-fallback\"><pre>NearestNeighbors(n_neighbors=50)</pre><b>In a Jupyter environment, please rerun this cell to show the HTML representation or trust the notebook. <br />On GitHub, the HTML representation is unable to render, please try loading this page with nbviewer.org.</b></div><div class=\"sk-container\" hidden><div class=\"sk-item\"><div class=\"sk-estimator sk-toggleable\"><input class=\"sk-toggleable__control sk-hidden--visually\" id=\"sk-estimator-id-1\" type=\"checkbox\" checked><label for=\"sk-estimator-id-1\" class=\"sk-toggleable__label sk-toggleable__label-arrow\">NearestNeighbors</label><div class=\"sk-toggleable__content\"><pre>NearestNeighbors(n_neighbors=50)</pre></div></div></div></div></div>"
            ]
          },
          "metadata": {},
          "execution_count": 80
        }
      ]
    },
    {
      "cell_type": "code",
      "source": [
        "concat_v.shape"
      ],
      "metadata": {
        "colab": {
          "base_uri": "https://localhost:8080/"
        },
        "id": "0eeMjRue_J3y",
        "outputId": "6fef59c5-d82f-4474-a86e-fa170c380082"
      },
      "execution_count": 81,
      "outputs": [
        {
          "output_type": "execute_result",
          "data": {
            "text/plain": [
              "(1, 2536)"
            ]
          },
          "metadata": {},
          "execution_count": 81
        }
      ]
    },
    {
      "cell_type": "code",
      "source": [
        "concat_v"
      ],
      "metadata": {
        "colab": {
          "base_uri": "https://localhost:8080/"
        },
        "id": "UT1Ame_I_iV2",
        "outputId": "2a6873af-f4a3-424e-b9aa-e8db2dac63d2"
      },
      "execution_count": 82,
      "outputs": [
        {
          "output_type": "execute_result",
          "data": {
            "text/plain": [
              "array([[-2.0975885 , -1.1888644 ,  0.7897488 , ..., -0.22852153,\n",
              "         0.5371143 ,  0.23678958]], dtype=float32)"
            ]
          },
          "metadata": {},
          "execution_count": 82
        }
      ]
    },
    {
      "cell_type": "code",
      "source": [
        "distances, indices = model.kneighbors(concat_v)"
      ],
      "metadata": {
        "id": "TJzRRgf8QtIw"
      },
      "execution_count": 83,
      "outputs": []
    },
    {
      "cell_type": "code",
      "source": [
        "IDX_concat = np.where(distances[0]<37.0)"
      ],
      "metadata": {
        "id": "IbrNltu7Ra2w"
      },
      "execution_count": 84,
      "outputs": []
    },
    {
      "cell_type": "code",
      "source": [
        "IDX_concat"
      ],
      "metadata": {
        "colab": {
          "base_uri": "https://localhost:8080/"
        },
        "id": "p1RdafbmSRxV",
        "outputId": "0217461d-9062-4f3d-b061-dbae88ffb813"
      },
      "execution_count": 85,
      "outputs": [
        {
          "output_type": "execute_result",
          "data": {
            "text/plain": [
              "(array([], dtype=int64),)"
            ]
          },
          "metadata": {},
          "execution_count": 85
        }
      ]
    },
    {
      "cell_type": "code",
      "source": [
        "IDS_concat = indices[0][IDX_concat]"
      ],
      "metadata": {
        "id": "h_2c5xe_Ri11"
      },
      "execution_count": 86,
      "outputs": []
    },
    {
      "cell_type": "code",
      "source": [
        "train_df.iloc[IDS_concat].posting_id.values"
      ],
      "metadata": {
        "colab": {
          "base_uri": "https://localhost:8080/"
        },
        "id": "HHwmRMqrR1el",
        "outputId": "2a5158f2-4788-43ab-8ee2-3b565c60a7ab"
      },
      "execution_count": 87,
      "outputs": [
        {
          "output_type": "execute_result",
          "data": {
            "text/plain": [
              "array([], dtype=object)"
            ]
          },
          "metadata": {},
          "execution_count": 87
        }
      ]
    },
    {
      "cell_type": "code",
      "source": [
        "data['preds_concat'] = [[x for x in train_df.iloc[IDS_concat].posting_id] for x in data.index]\n",
        "# data['preds_concat'] = train_df.iloc[IDS_concat].posting_id"
      ],
      "metadata": {
        "id": "sNJFj3FiyQlC"
      },
      "execution_count": 88,
      "outputs": []
    },
    {
      "cell_type": "code",
      "source": [
        "train_to_validate.preds_concat.values"
      ],
      "metadata": {
        "colab": {
          "base_uri": "https://localhost:8080/"
        },
        "id": "BN5WjgLqQ0WI",
        "outputId": "8b8279d6-d247-4c4b-e638-f81fe3d0607d"
      },
      "execution_count": 89,
      "outputs": [
        {
          "output_type": "execute_result",
          "data": {
            "text/plain": [
              "array([array(['train_1347656677'], dtype=object)], dtype=object)"
            ]
          },
          "metadata": {},
          "execution_count": 89
        }
      ]
    },
    {
      "cell_type": "code",
      "source": [
        "from sklearn.feature_extraction.text import TfidfVectorizer\n",
        "\n",
        "tfidf_model = TfidfVectorizer(decode_error=\"replace\",vocabulary=pickle.load(open(\"/content/drive/MyDrive/Shopee/tfidf_model.pkl\", \"rb\")))\n",
        "tfidf_v = tfidf_model.fit_transform(data.title)"
      ],
      "metadata": {
        "id": "VRBDvJti-O6W"
      },
      "execution_count": 90,
      "outputs": []
    },
    {
      "cell_type": "code",
      "source": [
        "tfidf_v"
      ],
      "metadata": {
        "colab": {
          "base_uri": "https://localhost:8080/"
        },
        "id": "NHSHeVnaXGGC",
        "outputId": "e21b58fc-c220-4425-d543-ca988f08990e"
      },
      "execution_count": 91,
      "outputs": [
        {
          "output_type": "execute_result",
          "data": {
            "text/plain": [
              "<1x24939 sparse matrix of type '<class 'numpy.float64'>'\n",
              "\twith 1 stored elements in Compressed Sparse Row format>"
            ]
          },
          "metadata": {},
          "execution_count": 91
        }
      ]
    },
    {
      "cell_type": "code",
      "source": [
        "# text_embeddings = np.load('/content/drive/MyDrive/Shopee/text_embedding.npz')"
      ],
      "metadata": {
        "id": "b1H343o66C4A"
      },
      "execution_count": 92,
      "outputs": []
    },
    {
      "cell_type": "code",
      "source": [
        "from scipy import sparse\n",
        "\n",
        "# sparse.save_npz(\"text_embeddings.npz\", text_embeddings)\n",
        "text_embeddings = sparse.load_npz(\"/content/drive/MyDrive/Shopee/text_embeddings.npz\")"
      ],
      "metadata": {
        "id": "0dkY_H_36qWD"
      },
      "execution_count": 93,
      "outputs": []
    },
    {
      "cell_type": "code",
      "source": [
        "text_embeddings"
      ],
      "metadata": {
        "colab": {
          "base_uri": "https://localhost:8080/"
        },
        "id": "EHM1cJR36P5K",
        "outputId": "39dab872-e98e-441f-8e0b-518b713d1a84"
      },
      "execution_count": 94,
      "outputs": [
        {
          "output_type": "execute_result",
          "data": {
            "text/plain": [
              "<34250x24939 sparse matrix of type '<class 'numpy.float64'>'\n",
              "\twith 276757 stored elements in Compressed Sparse Row format>"
            ]
          },
          "metadata": {},
          "execution_count": 94
        }
      ]
    },
    {
      "cell_type": "code",
      "source": [
        "# text_embeddings = tfidf_model.fit_transform(train_df.title)"
      ],
      "metadata": {
        "id": "xCctK8vUYKMW"
      },
      "execution_count": 95,
      "outputs": []
    },
    {
      "cell_type": "code",
      "source": [
        "cts_tfidf = text_embeddings.dot(tfidf_v.T).T.toarray()"
      ],
      "metadata": {
        "id": "e1KhENNOX-5-"
      },
      "execution_count": 96,
      "outputs": []
    },
    {
      "cell_type": "code",
      "source": [
        "cts_tfidf"
      ],
      "metadata": {
        "colab": {
          "base_uri": "https://localhost:8080/"
        },
        "id": "ITM9zXBJX-8g",
        "outputId": "1d05afab-9f32-4df2-f859-3dd0b1bbef77"
      },
      "execution_count": 97,
      "outputs": [
        {
          "output_type": "execute_result",
          "data": {
            "text/plain": [
              "array([[0., 0., 0., ..., 0., 0., 0.]])"
            ]
          },
          "metadata": {},
          "execution_count": 97
        }
      ]
    },
    {
      "cell_type": "code",
      "source": [
        "IDX_tfidf = np.where(cts_tfidf[0]>0.53)"
      ],
      "metadata": {
        "id": "44aMV6_IYhyY"
      },
      "execution_count": 98,
      "outputs": []
    },
    {
      "cell_type": "code",
      "source": [
        "IDX_tfidf"
      ],
      "metadata": {
        "colab": {
          "base_uri": "https://localhost:8080/"
        },
        "id": "dhp-6UCFYyOf",
        "outputId": "29453404-5961-4ef5-9a51-59399fb7baca"
      },
      "execution_count": 99,
      "outputs": [
        {
          "output_type": "execute_result",
          "data": {
            "text/plain": [
              "(array([], dtype=int64),)"
            ]
          },
          "metadata": {},
          "execution_count": 99
        }
      ]
    },
    {
      "cell_type": "code",
      "source": [
        "train_df.iloc[IDX_tfidf].posting_id.values"
      ],
      "metadata": {
        "colab": {
          "base_uri": "https://localhost:8080/"
        },
        "id": "GPnnxzvMYyRJ",
        "outputId": "d07f4fc5-63d7-4599-c9ec-726501b64716"
      },
      "execution_count": 100,
      "outputs": [
        {
          "output_type": "execute_result",
          "data": {
            "text/plain": [
              "array([], dtype=object)"
            ]
          },
          "metadata": {},
          "execution_count": 100
        }
      ]
    },
    {
      "cell_type": "code",
      "source": [
        "data['preds_tfidf'] = [[x for x in train_df.iloc[IDX_tfidf].posting_id] for x in data.index]\n",
        "# data['preds_tfidf'] = train_df.iloc[IDX_tfidf].posting_id"
      ],
      "metadata": {
        "id": "5tGxCH4LywV3"
      },
      "execution_count": 101,
      "outputs": []
    },
    {
      "cell_type": "code",
      "source": [
        "train_to_validate.preds_tfidf.values"
      ],
      "metadata": {
        "colab": {
          "base_uri": "https://localhost:8080/"
        },
        "id": "W7n4JhehY2j3",
        "outputId": "03f5707a-3d27-4621-e057-41e212471125"
      },
      "execution_count": 102,
      "outputs": [
        {
          "output_type": "execute_result",
          "data": {
            "text/plain": [
              "array([array(['train_2406723712', 'train_1347656677'], dtype=object)],\n",
              "      dtype=object)"
            ]
          },
          "metadata": {},
          "execution_count": 102
        }
      ]
    },
    {
      "cell_type": "code",
      "source": [
        "def combine_for_sub(row):\n",
        "    x = np.concatenate([row.preds_concat, row.preds_phash, row.preds_tfidf])\n",
        "    return ' '.join( np.unique(x) )\n",
        "\n",
        "def combine_for_test(row):\n",
        "    x = np.concatenate([row.preds_concat, row.preds_tfidf])\n",
        "    return ' '.join( np.unique(x) )"
      ],
      "metadata": {
        "id": "ZhKcbTsyZBb4"
      },
      "execution_count": 103,
      "outputs": []
    },
    {
      "cell_type": "code",
      "source": [
        "combine_for_sub(train_to_validate.iloc[0])"
      ],
      "metadata": {
        "colab": {
          "base_uri": "https://localhost:8080/",
          "height": 35
        },
        "id": "oYyVwXvZgq14",
        "outputId": "e467ed49-2418-4b3e-e26f-d3b8d39b4e30"
      },
      "execution_count": 104,
      "outputs": [
        {
          "output_type": "execute_result",
          "data": {
            "text/plain": [
              "'train_1347656677 train_2406723712'"
            ],
            "application/vnd.google.colaboratory.intrinsic+json": {
              "type": "string"
            }
          },
          "metadata": {},
          "execution_count": 104
        }
      ]
    },
    {
      "cell_type": "code",
      "source": [
        "data.preds_tfidf"
      ],
      "metadata": {
        "colab": {
          "base_uri": "https://localhost:8080/"
        },
        "id": "gNrOzmxs8EPC",
        "outputId": "4b5e6623-8cfc-4cd5-e5be-6978f7870405"
      },
      "execution_count": 105,
      "outputs": [
        {
          "output_type": "execute_result",
          "data": {
            "text/plain": [
              "2    []\n",
              "Name: preds_tfidf, dtype: object"
            ]
          },
          "metadata": {},
          "execution_count": 105
        }
      ]
    },
    {
      "cell_type": "code",
      "source": [
        "data.preds_concat"
      ],
      "metadata": {
        "colab": {
          "base_uri": "https://localhost:8080/"
        },
        "id": "oCNBW2t88Rl5",
        "outputId": "43b27c6f-aa78-421c-e01f-e03fbe5ecc02"
      },
      "execution_count": 106,
      "outputs": [
        {
          "output_type": "execute_result",
          "data": {
            "text/plain": [
              "2    []\n",
              "Name: preds_concat, dtype: object"
            ]
          },
          "metadata": {},
          "execution_count": 106
        }
      ]
    },
    {
      "cell_type": "code",
      "source": [
        "pd.Series(data['preds_concat'].values[0])"
      ],
      "metadata": {
        "colab": {
          "base_uri": "https://localhost:8080/"
        },
        "id": "qN1DW2Bg7UTw",
        "outputId": "164b0006-5d24-41d4-ee43-6bd5416a962e"
      },
      "execution_count": 107,
      "outputs": [
        {
          "output_type": "execute_result",
          "data": {
            "text/plain": [
              "Series([], dtype: float64)"
            ]
          },
          "metadata": {},
          "execution_count": 107
        }
      ]
    },
    {
      "cell_type": "code",
      "source": [
        "x = np.concatenate([pd.Series(data['preds_concat'].values[0]), [], pd.Series(data['preds_tfidf'].values[0])])\n",
        "np.unique(x)"
      ],
      "metadata": {
        "colab": {
          "base_uri": "https://localhost:8080/"
        },
        "id": "v3xJvBkwzJAT",
        "outputId": "934bd71e-ef64-4cf8-8aaf-de4fe52f1308"
      },
      "execution_count": 108,
      "outputs": [
        {
          "output_type": "execute_result",
          "data": {
            "text/plain": [
              "array([], dtype=float64)"
            ]
          },
          "metadata": {},
          "execution_count": 108
        }
      ]
    },
    {
      "cell_type": "code",
      "source": [
        "data"
      ],
      "metadata": {
        "colab": {
          "base_uri": "https://localhost:8080/",
          "height": 177
        },
        "id": "kRuND6cjC6FP",
        "outputId": "1a386f77-b515-4cc1-8da3-f05a21d526b6"
      },
      "execution_count": 109,
      "outputs": [
        {
          "output_type": "execute_result",
          "data": {
            "text/plain": [
              "   posting_id      image    image_phash title  \\\n",
              "2           3  mop_3.jpg  xxxxxxxxxxxxx    xx   \n",
              "\n",
              "                                    resnet_50_vector  \\\n",
              "2  [-2.0975885, -1.1888644, 0.7897488, -1.6150753...   \n",
              "\n",
              "                           preds_resnet  \\\n",
              "2  [train_2406723712, train_1347656677]   \n",
              "\n",
              "                                         indo_bert_v preds_indoBERTbaseP2  \\\n",
              "2  [[1.7841545, 0.5775601, -1.4836894, 0.63722014...                   []   \n",
              "\n",
              "                                              bert_v preds_sbert preds_concat  \\\n",
              "2  [[-0.12079937, -0.22128455, 0.62884253, 0.2773...          []           []   \n",
              "\n",
              "  preds_tfidf  \n",
              "2          []  "
            ],
            "text/html": [
              "\n",
              "  <div id=\"df-05b86731-edef-45fc-aa98-c92c67fd97f1\">\n",
              "    <div class=\"colab-df-container\">\n",
              "      <div>\n",
              "<style scoped>\n",
              "    .dataframe tbody tr th:only-of-type {\n",
              "        vertical-align: middle;\n",
              "    }\n",
              "\n",
              "    .dataframe tbody tr th {\n",
              "        vertical-align: top;\n",
              "    }\n",
              "\n",
              "    .dataframe thead th {\n",
              "        text-align: right;\n",
              "    }\n",
              "</style>\n",
              "<table border=\"1\" class=\"dataframe\">\n",
              "  <thead>\n",
              "    <tr style=\"text-align: right;\">\n",
              "      <th></th>\n",
              "      <th>posting_id</th>\n",
              "      <th>image</th>\n",
              "      <th>image_phash</th>\n",
              "      <th>title</th>\n",
              "      <th>resnet_50_vector</th>\n",
              "      <th>preds_resnet</th>\n",
              "      <th>indo_bert_v</th>\n",
              "      <th>preds_indoBERTbaseP2</th>\n",
              "      <th>bert_v</th>\n",
              "      <th>preds_sbert</th>\n",
              "      <th>preds_concat</th>\n",
              "      <th>preds_tfidf</th>\n",
              "    </tr>\n",
              "  </thead>\n",
              "  <tbody>\n",
              "    <tr>\n",
              "      <th>2</th>\n",
              "      <td>3</td>\n",
              "      <td>mop_3.jpg</td>\n",
              "      <td>xxxxxxxxxxxxx</td>\n",
              "      <td>xx</td>\n",
              "      <td>[-2.0975885, -1.1888644, 0.7897488, -1.6150753...</td>\n",
              "      <td>[train_2406723712, train_1347656677]</td>\n",
              "      <td>[[1.7841545, 0.5775601, -1.4836894, 0.63722014...</td>\n",
              "      <td>[]</td>\n",
              "      <td>[[-0.12079937, -0.22128455, 0.62884253, 0.2773...</td>\n",
              "      <td>[]</td>\n",
              "      <td>[]</td>\n",
              "      <td>[]</td>\n",
              "    </tr>\n",
              "  </tbody>\n",
              "</table>\n",
              "</div>\n",
              "      <button class=\"colab-df-convert\" onclick=\"convertToInteractive('df-05b86731-edef-45fc-aa98-c92c67fd97f1')\"\n",
              "              title=\"Convert this dataframe to an interactive table.\"\n",
              "              style=\"display:none;\">\n",
              "        \n",
              "  <svg xmlns=\"http://www.w3.org/2000/svg\" height=\"24px\"viewBox=\"0 0 24 24\"\n",
              "       width=\"24px\">\n",
              "    <path d=\"M0 0h24v24H0V0z\" fill=\"none\"/>\n",
              "    <path d=\"M18.56 5.44l.94 2.06.94-2.06 2.06-.94-2.06-.94-.94-2.06-.94 2.06-2.06.94zm-11 1L8.5 8.5l.94-2.06 2.06-.94-2.06-.94L8.5 2.5l-.94 2.06-2.06.94zm10 10l.94 2.06.94-2.06 2.06-.94-2.06-.94-.94-2.06-.94 2.06-2.06.94z\"/><path d=\"M17.41 7.96l-1.37-1.37c-.4-.4-.92-.59-1.43-.59-.52 0-1.04.2-1.43.59L10.3 9.45l-7.72 7.72c-.78.78-.78 2.05 0 2.83L4 21.41c.39.39.9.59 1.41.59.51 0 1.02-.2 1.41-.59l7.78-7.78 2.81-2.81c.8-.78.8-2.07 0-2.86zM5.41 20L4 18.59l7.72-7.72 1.47 1.35L5.41 20z\"/>\n",
              "  </svg>\n",
              "      </button>\n",
              "      \n",
              "  <style>\n",
              "    .colab-df-container {\n",
              "      display:flex;\n",
              "      flex-wrap:wrap;\n",
              "      gap: 12px;\n",
              "    }\n",
              "\n",
              "    .colab-df-convert {\n",
              "      background-color: #E8F0FE;\n",
              "      border: none;\n",
              "      border-radius: 50%;\n",
              "      cursor: pointer;\n",
              "      display: none;\n",
              "      fill: #1967D2;\n",
              "      height: 32px;\n",
              "      padding: 0 0 0 0;\n",
              "      width: 32px;\n",
              "    }\n",
              "\n",
              "    .colab-df-convert:hover {\n",
              "      background-color: #E2EBFA;\n",
              "      box-shadow: 0px 1px 2px rgba(60, 64, 67, 0.3), 0px 1px 3px 1px rgba(60, 64, 67, 0.15);\n",
              "      fill: #174EA6;\n",
              "    }\n",
              "\n",
              "    [theme=dark] .colab-df-convert {\n",
              "      background-color: #3B4455;\n",
              "      fill: #D2E3FC;\n",
              "    }\n",
              "\n",
              "    [theme=dark] .colab-df-convert:hover {\n",
              "      background-color: #434B5C;\n",
              "      box-shadow: 0px 1px 3px 1px rgba(0, 0, 0, 0.15);\n",
              "      filter: drop-shadow(0px 1px 2px rgba(0, 0, 0, 0.3));\n",
              "      fill: #FFFFFF;\n",
              "    }\n",
              "  </style>\n",
              "\n",
              "      <script>\n",
              "        const buttonEl =\n",
              "          document.querySelector('#df-05b86731-edef-45fc-aa98-c92c67fd97f1 button.colab-df-convert');\n",
              "        buttonEl.style.display =\n",
              "          google.colab.kernel.accessAllowed ? 'block' : 'none';\n",
              "\n",
              "        async function convertToInteractive(key) {\n",
              "          const element = document.querySelector('#df-05b86731-edef-45fc-aa98-c92c67fd97f1');\n",
              "          const dataTable =\n",
              "            await google.colab.kernel.invokeFunction('convertToInteractive',\n",
              "                                                     [key], {});\n",
              "          if (!dataTable) return;\n",
              "\n",
              "          const docLinkHtml = 'Like what you see? Visit the ' +\n",
              "            '<a target=\"_blank\" href=https://colab.research.google.com/notebooks/data_table.ipynb>data table notebook</a>'\n",
              "            + ' to learn more about interactive tables.';\n",
              "          element.innerHTML = '';\n",
              "          dataTable['output_type'] = 'display_data';\n",
              "          await google.colab.output.renderOutput(dataTable, element);\n",
              "          const docLink = document.createElement('div');\n",
              "          docLink.innerHTML = docLinkHtml;\n",
              "          element.appendChild(docLink);\n",
              "        }\n",
              "      </script>\n",
              "    </div>\n",
              "  </div>\n",
              "  "
            ]
          },
          "metadata": {},
          "execution_count": 109
        }
      ]
    },
    {
      "cell_type": "code",
      "source": [
        "final_matches = data.apply(combine_for_test, axis=1)"
      ],
      "metadata": {
        "id": "P1gDDyVNZBeU"
      },
      "execution_count": 111,
      "outputs": []
    },
    {
      "cell_type": "code",
      "source": [
        "final_matches.values"
      ],
      "metadata": {
        "colab": {
          "base_uri": "https://localhost:8080/"
        },
        "id": "1FydbVviZQZI",
        "outputId": "70a015d2-492c-44f4-9dca-9f305df121e9"
      },
      "execution_count": 112,
      "outputs": [
        {
          "output_type": "execute_result",
          "data": {
            "text/plain": [
              "array([''], dtype=object)"
            ]
          },
          "metadata": {},
          "execution_count": 112
        }
      ]
    },
    {
      "cell_type": "code",
      "source": [],
      "metadata": {
        "id": "hUfLAmKxZSbP"
      },
      "execution_count": null,
      "outputs": []
    }
  ]
}